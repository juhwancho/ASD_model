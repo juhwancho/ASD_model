{
 "cells": [
  {
   "cell_type": "markdown",
   "id": "0756382a",
   "metadata": {},
   "source": [
    "<h1>Randomwalkwithrestart<h1>"
   ]
  },
  {
   "cell_type": "markdown",
   "id": "15ebe444",
   "metadata": {},
   "source": [
    "<h2>read proteininfodata<h2>"
   ]
  },
  {
   "cell_type": "code",
   "execution_count": null,
   "id": "64808d10",
   "metadata": {},
   "outputs": [],
   "source": [
    "import sys\n",
    "proteinmap={}\n",
    "proteinlist=[]\n",
    "with open(\"9606.protein.info.v11.5.txt\",'r') as sys.stdin:\n",
    "    input=sys.stdin.readline\n",
    "    N=input()\n",
    "    num=0\n",
    "    while True:\n",
    "        try:\n",
    "            N=input()\n",
    "            N=N.split('\\t')\n",
    "            if len(N)>2:\n",
    "                proteinmap[N[0]]=[num,N[1]]\n",
    "                proteinlist.append([N[0],N[1]])\n",
    "                num+=1\n",
    "                print(num)\n",
    "        except:\n",
    "            break\n",
    "            "
   ]
  },
  {
   "cell_type": "code",
   "execution_count": 26,
   "id": "77b31700",
   "metadata": {},
   "outputs": [],
   "source": [
    "with open(\"proteinlink.txt\",'r') as sys.stdin:\n",
    "    input=sys.stdin.readline\n",
    "    N=input()\n",
    "    num=0\n",
    "    while True:\n",
    "        try:\n",
    "            N=input()\n",
    "            N=N.split('\\t')\n",
    "            if len(N)>2:\n",
    "                proteinmap[N[0]]=[num,N[1]]\n",
    "                proteinlist.append([N[0],N[1]])\n",
    "                num+=1\n",
    "                print(num)\n",
    "        except:\n",
    "            break"
   ]
  },
  {
   "cell_type": "code",
   "execution_count": null,
   "id": "2a1fdd18",
   "metadata": {},
   "outputs": [],
   "source": [
    "\n",
    "import numpy as np\n",
    "from scipy.sparse import coo_matrix, diags, csr_matrix\n",
    "# Create a graph from gene relationship data\n",
    "row = []\n",
    "col = []\n",
    "weight = []\n",
    "num_genes = 19566\n",
    "# Initialize empty CSR matrix\n",
    "edge_weights = np.zeros((num_genes, num_genes), dtype=np.float32)\n",
    "\n",
    "F=open(\"9606.protein.links.detailed.v11.5.txt\",'r')\n",
    "F.readline()\n",
    "cnt=0\n",
    "while True:\n",
    "    try:\n",
    "        k=F.readline()\n",
    "        x=k.split(' ')\n",
    "        i=int(proteinmap[x[0]][0])\n",
    "        j=int(proteinmap[x[1]][0])\n",
    "        row.append(i)\n",
    "        col.append(j)\n",
    "        w=float(x[9][:-1]) / 1000\n",
    "        weight.append(w)\n",
    "        edge_weights[i,j] = w\n",
    "        cnt+=1\n",
    "        if(cnt%10000==0):\n",
    "            print(cnt)\n",
    "    except:\n",
    "        break\n",
    "    \n",
    "        \n",
    "        \n",
    "\n",
    " \n",
    "\n"
   ]
  },
  {
   "cell_type": "code",
   "execution_count": 6,
   "id": "f42b0065",
   "metadata": {},
   "outputs": [
    {
     "data": {
      "text/plain": [
       "11938498"
      ]
     },
     "execution_count": 6,
     "metadata": {},
     "output_type": "execute_result"
    }
   ],
   "source": [
    "len(weight)"
   ]
  },
  {
   "cell_type": "code",
   "execution_count": 7,
   "id": "4b77ab55",
   "metadata": {},
   "outputs": [],
   "source": [
    "from sklearn.preprocessing import normalize\n",
    "\n",
    "ppi_matrix = csr_matrix((weight, (row, col)),shape=(num_genes, num_genes))    \n",
    "edge_weights = diags(weight, 0, shape=(num_genes, num_genes))\n",
    "edge_weights = normalize(ppi_matrix, norm='l1', axis=1)\n"
   ]
  },
  {
   "cell_type": "code",
   "execution_count": null,
   "id": "95dbf67d",
   "metadata": {},
   "outputs": [],
   "source": [
    "d = 0.5\n",
    "eps = 1e-6\n",
    "\n",
    "# Initialize probability vector\n",
    "p = np.ones(num_genes) / num_genes\n",
    "\n",
    "# Perform RWR iterations\n",
    "prev_p = np.zeros(num_genes)\n",
    "while np.linalg.norm(prev_p - p) > eps:\n",
    "    prev_p = p\n",
    "    p = (1 - d) * prev_p + d * ppi_matrix.dot(edge_weights.dot(prev_p))\n",
    "\n",
    "# Normalize final probabilities\n",
    "print(p)\n",
    "p = p / sum(p)"
   ]
  },
  {
   "cell_type": "code",
   "execution_count": null,
   "id": "69f5829f",
   "metadata": {
    "scrolled": true
   },
   "outputs": [],
   "source": [
    "max_iter = 100\n",
    "\n",
    "# Define the initial probability vector\n",
    "\n",
    "# Define the edge weights\n",
    "\n",
    "\n",
    "# Compute the transition probability matrix\n",
    "transition_matrix = edge_weights\n",
    "d=0.8\n",
    "p = np.zeros(num_genes)\n",
    "p[0] = 1\n",
    "prev_p = p.copy()\n",
    "# Run the random walk with restart algorithm with edge weights\n",
    "for i in range(max_iter):\n",
    "    print(p)\n",
    "    p = ((1 - d) * prev_p + d * transition_matrix.dot(p))/p.sum()\n",
    "    if np.allclose(p, prev_p):\n",
    "        break\n",
    "\n",
    "# Print the final probability vector\n",
    "print(\"Final probability vector:\")\n",
    "print(p)\n"
   ]
  },
  {
   "cell_type": "code",
   "execution_count": 33,
   "id": "6895ff6e",
   "metadata": {
    "scrolled": true
   },
   "outputs": [
    {
     "name": "stdout",
     "output_type": "stream",
     "text": [
      "Most relevant nodes to node 1:\n",
      "Node 1: 0.1817930329093242\n",
      "Node 10411: 0.0017835680761533264\n",
      "Node 10335: 0.0016124706818043653\n",
      "Node 18555: 0.0015856561933112756\n",
      "Node 3107: 0.0013015879606950293\n",
      "Node 9204: 0.0012833698707652571\n",
      "Node 12841: 0.0012529245223566665\n",
      "Node 19159: 0.0011139970041718183\n",
      "Node 2511: 0.0010701654098259615\n",
      "Node 451: 0.0010545195585077683\n",
      "Node 15889: 0.0010383863735082086\n",
      "Node 4817: 0.0009106061976521934\n",
      "Node 13346: 0.0009024013989870378\n",
      "Node 19289: 0.0008923470048437784\n",
      "Node 4203: 0.000813101958719945\n",
      "Node 14222: 0.0007938202294153947\n",
      "Node 15334: 0.0007865208976747309\n",
      "Node 6685: 0.0007820443680492626\n",
      "Node 10699: 0.0007668123937932256\n",
      "Node 14369: 0.0007578022194796269\n",
      "Node 5052: 0.0007568433969522062\n",
      "Node 7301: 0.0007373095159122973\n",
      "Node 18973: 0.0007210718067512233\n",
      "Node 12781: 0.0006971464592010111\n",
      "Node 7708: 0.0006782868552267831\n",
      "Node 9972: 0.0006782083168820424\n",
      "Node 3921: 0.0006683262258561476\n",
      "Node 7676: 0.0006563160193792296\n",
      "Node 9224: 0.0006421436832500904\n",
      "Node 15485: 0.0006353950471644023\n",
      "Node 17165: 0.0006208229324433292\n",
      "Node 7134: 0.0006199805284010609\n",
      "Node 12560: 0.0006119470876903779\n",
      "Node 13849: 0.0006110585492830037\n",
      "Node 5796: 0.0006095962177071359\n",
      "Node 14903: 0.0006092460904003214\n",
      "Node 657: 0.0006080999031085387\n",
      "Node 15965: 0.0006020201699718503\n",
      "Node 2056: 0.0006015115936728431\n",
      "Node 2679: 0.0005993870487480448\n",
      "Node 15936: 0.0005917453912440411\n",
      "Node 18414: 0.0005895917125610203\n",
      "Node 2107: 0.0005867135127360057\n",
      "Node 12886: 0.0005857098805750703\n",
      "Node 17738: 0.0005816075263417725\n",
      "Node 8600: 0.0005799568794655776\n",
      "Node 131: 0.0005718913523068432\n",
      "Node 10894: 0.0005708816200248078\n",
      "Node 18924: 0.000569906999830716\n",
      "Node 692: 0.0005691500880739191\n",
      "Node 16981: 0.0005645053773081042\n",
      "Node 1399: 0.0005624530746527931\n",
      "Node 12944: 0.0005587723383306106\n",
      "Node 6459: 0.0005510969733107616\n",
      "Node 6402: 0.0005488695026944167\n",
      "Node 15687: 0.0005427622627715697\n",
      "Node 1866: 0.0005392296809057568\n",
      "Node 15839: 0.0005341474770049974\n",
      "Node 3387: 0.0005258030292446333\n",
      "Node 1401: 0.0005245116033878355\n",
      "Node 13632: 0.0005199898411848998\n",
      "Node 14037: 0.0005168977686305587\n",
      "Node 3883: 0.0005119400270318527\n",
      "Node 15684: 0.0005082317482338562\n",
      "Node 10255: 0.0005045336620470263\n",
      "Node 7563: 0.0005044664003916141\n",
      "Node 9180: 0.0005014350887453434\n",
      "Node 8354: 0.0004962304694344243\n",
      "Node 8351: 0.0004960644513210759\n",
      "Node 9914: 0.0004955168552502198\n",
      "Node 13624: 0.0004948875140397926\n",
      "Node 10478: 0.0004900183098799969\n",
      "Node 6195: 0.00048277164012451904\n",
      "Node 2600: 0.0004782287979387039\n",
      "Node 8732: 0.0004717082983737803\n",
      "Node 19543: 0.0004713971148311415\n",
      "Node 17305: 0.0004706433435029995\n",
      "Node 10506: 0.00046761714601266504\n",
      "Node 15189: 0.00046184479413278963\n",
      "Node 4695: 0.0004582296359459575\n",
      "Node 15640: 0.00045372695447277957\n",
      "Node 13608: 0.0004509921910318601\n",
      "Node 15788: 0.0004498399740933168\n",
      "Node 13729: 0.0004474231929822028\n",
      "Node 6452: 0.00044728066940469307\n",
      "Node 7189: 0.00044582864454531225\n",
      "Node 14083: 0.0004441181434310443\n",
      "Node 6609: 0.00044320637282237353\n",
      "Node 7558: 0.000442064935996802\n",
      "Node 9059: 0.0004383236472364892\n",
      "Node 17824: 0.00043519149228364736\n",
      "Node 16233: 0.00043276487468203457\n",
      "Node 11670: 0.000427841974743329\n",
      "Node 1962: 0.0004203539219779586\n",
      "Node 855: 0.0004198520581079491\n",
      "Node 5642: 0.0004182096114363075\n",
      "Node 17448: 0.0004177840943998494\n",
      "Node 4236: 0.0004170160747453038\n",
      "Node 84: 0.0004151202630439233\n",
      "Node 2493: 0.0004149070376885343\n"
     ]
    }
   ],
   "source": [
    "prob_dict = {i+1: p[i] for i in range(num_genes)}\n",
    "sorted_probs = sorted(prob_dict.items(), key=lambda x: x[1], reverse=True)\n",
    "print(f\"Most relevant nodes to node 1:\")\n",
    "for node, prob in sorted_probs[:100]:+\n",
    "    print(f\"Node {node}: {prob}\")"
   ]
  },
  {
   "cell_type": "code",
   "execution_count": 148,
   "id": "a4f02553",
   "metadata": {},
   "outputs": [],
   "source": [
    "k=ppi_matrix.todense()[0]"
   ]
  },
  {
   "cell_type": "code",
   "execution_count": 153,
   "id": "5bd7b762",
   "metadata": {},
   "outputs": [
    {
     "data": {
      "text/plain": [
       "349.31600000000003"
      ]
     },
     "execution_count": 153,
     "metadata": {},
     "output_type": "execute_result"
    }
   ],
   "source": [
    "k.sum()"
   ]
  },
  {
   "cell_type": "code",
   "execution_count": 12,
   "id": "2f0f13c0",
   "metadata": {},
   "outputs": [
    {
     "data": {
      "text/plain": [
       "1.0000000000000007"
      ]
     },
     "execution_count": 12,
     "metadata": {},
     "output_type": "execute_result"
    }
   ],
   "source": [
    "edge_weights.todense()[19000].sum()"
   ]
  },
  {
   "cell_type": "code",
   "execution_count": 17,
   "id": "7ca7b620",
   "metadata": {},
   "outputs": [
    {
     "data": {
      "text/plain": [
       "matrix([[0.        , 0.00044945, 0.        , ..., 0.        , 0.        ,\n",
       "         0.        ],\n",
       "        [0.00095118, 0.        , 0.        , ..., 0.        , 0.        ,\n",
       "         0.        ],\n",
       "        [0.        , 0.        , 0.        , ..., 0.        , 0.        ,\n",
       "         0.        ],\n",
       "        ...,\n",
       "        [0.        , 0.        , 0.        , ..., 0.        , 0.        ,\n",
       "         0.        ],\n",
       "        [0.        , 0.        , 0.        , ..., 0.        , 0.        ,\n",
       "         0.        ],\n",
       "        [0.        , 0.        , 0.        , ..., 0.        , 0.        ,\n",
       "         0.        ]])"
      ]
     },
     "execution_count": 17,
     "metadata": {},
     "output_type": "execute_result"
    }
   ],
   "source": [
    "transition_matrix.todense()"
   ]
  }
 ],
 "metadata": {
  "kernelspec": {
   "display_name": "Python 3 (ipykernel)",
   "language": "python",
   "name": "python3"
  },
  "language_info": {
   "codemirror_mode": {
    "name": "ipython",
    "version": 3
   },
   "file_extension": ".py",
   "mimetype": "text/x-python",
   "name": "python",
   "nbconvert_exporter": "python",
   "pygments_lexer": "ipython3",
   "version": "3.9.13"
  }
 },
 "nbformat": 4,
 "nbformat_minor": 5
}
