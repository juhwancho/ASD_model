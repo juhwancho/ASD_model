{
 "cells": [
  {
   "cell_type": "markdown",
   "id": "8f21be44",
   "metadata": {},
   "source": [
    "Import"
   ]
  },
  {
   "cell_type": "code",
   "execution_count": 1,
   "id": "7fb99e75",
   "metadata": {
    "collapsed": true
   },
   "outputs": [],
   "source": [
    "import numpy as np\n",
    "import pandas as pd\n",
    "import pickle\n",
    "from sklearn.model_selection import train_test_split\n",
    "from sklearn.preprocessing import StandardScaler\n",
    "from sklearn.ensemble import RandomForestClassifier as RFC\n",
    "from sklearn.tree import DecisionTreeClassifier as DTC\n",
    "from sklearn.ensemble import GradientBoostingClassifier as GBC\n",
    "from sklearn.metrics import accuracy_score, precision_score, recall_score, f1_score\n",
    "import matplotlib.pyplot as plt\n",
    "from imblearn.over_sampling import ADASYN\n",
    "from sklearn.model_selection import GridSearchCV"
   ]
  },
  {
   "cell_type": "code",
   "execution_count": 2,
   "id": "74392aa3",
   "metadata": {
    "collapsed": true
   },
   "outputs": [],
   "source": [
    "import torch\n",
    "import torch.nn as nn\n",
    "import torch.nn.functional as F\n",
    "import torch.optim as optim\n",
    "class MultiLayerBinaryClassifier(nn.Module):\n",
    "    def __init__(self):\n",
    "        super().__init__()\n",
    "        self.layer1=nn.Sequential(\n",
    "        nn.Linear(352,352),\n",
    "        nn.ReLU(),\n",
    "        nn.Linear(352,352),\n",
    "        nn.ReLU())    \n",
    "        self.layer2=nn.Sequential(\n",
    "        nn.Linear(352,352),\n",
    "        nn.ReLU(),\n",
    "        nn.Linear(352,1),\n",
    "        nn.Sigmoid())    \n",
    "    \n",
    "    def forward(self,x):\n",
    "        x=self.layer1(x)\n",
    "        x=self.layer2(x)\n",
    "        return x"
   ]
  },
  {
   "cell_type": "markdown",
   "id": "076c6880",
   "metadata": {},
   "source": [
    "<h2>Read processed dataframe<h2>"
   ]
  },
  {
   "cell_type": "code",
   "execution_count": 2,
   "id": "7cc47111",
   "metadata": {
    "collapsed": true
   },
   "outputs": [],
   "source": [
    "ada = ADASYN()"
   ]
  },
  {
   "cell_type": "code",
   "execution_count": 57,
   "id": "73793705",
   "metadata": {
    "collapsed": true
   },
   "outputs": [
    {
     "name": "stdout",
     "output_type": "stream",
     "text": [
      "(3085, 353)\n"
     ]
    }
   ],
   "source": [
    "pathway=pd.read_csv(\"sfarifalsedeletedppipathwaykeggdf3.2.csv\",index_col=0)  #read dataframe\n",
    "x = pathway[pathway.columns.difference(['phenotype'])]   \n",
    "y = pathway['phenotype']\n",
    "X_resampled, y_resampled = ada.fit_resample(x, y)\n",
    "#scaler = StandardScaler()\n",
    "#x_overscaled = scaler.fit_transform(X_resampled)\n",
    "x_overtrain, x_overtest, y_overtrain, y_overtest= train_test_split(X_resampled, y_resampled, \n",
    "                                                            test_size = 0.3, random_state = 123)\n",
    "\n",
    "print(x_overtest.shape)"
   ]
  },
  {
   "cell_type": "markdown",
   "id": "4763661f",
   "metadata": {},
   "source": [
    "<h1>putting dataframe into tensor <h1>"
   ]
  },
  {
   "cell_type": "code",
   "execution_count": 57,
   "id": "8fd8fd40",
   "metadata": {
    "collapsed": true
   },
   "outputs": [
    {
     "data": {
      "text/html": [
       "<div>\n",
       "<style scoped>\n",
       "    .dataframe tbody tr th:only-of-type {\n",
       "        vertical-align: middle;\n",
       "    }\n",
       "\n",
       "    .dataframe tbody tr th {\n",
       "        vertical-align: top;\n",
       "    }\n",
       "\n",
       "    .dataframe thead th {\n",
       "        text-align: right;\n",
       "    }\n",
       "</style>\n",
       "<table border=\"1\" class=\"dataframe\">\n",
       "  <thead>\n",
       "    <tr style=\"text-align: right;\">\n",
       "      <th></th>\n",
       "      <th>hsa00010</th>\n",
       "      <th>hsa00020</th>\n",
       "      <th>hsa00030</th>\n",
       "      <th>hsa00040</th>\n",
       "      <th>hsa00051</th>\n",
       "      <th>hsa00052</th>\n",
       "      <th>hsa00053</th>\n",
       "      <th>hsa00061</th>\n",
       "      <th>hsa00062</th>\n",
       "      <th>hsa00071</th>\n",
       "      <th>...</th>\n",
       "      <th>hsa05332</th>\n",
       "      <th>hsa05340</th>\n",
       "      <th>hsa05410</th>\n",
       "      <th>hsa05412</th>\n",
       "      <th>hsa05414</th>\n",
       "      <th>hsa05415</th>\n",
       "      <th>hsa05416</th>\n",
       "      <th>hsa05417</th>\n",
       "      <th>hsa05418</th>\n",
       "      <th>rowsum</th>\n",
       "    </tr>\n",
       "  </thead>\n",
       "  <tbody>\n",
       "    <tr>\n",
       "      <th>0</th>\n",
       "      <td>0.0</td>\n",
       "      <td>0.0</td>\n",
       "      <td>0.0</td>\n",
       "      <td>0.0</td>\n",
       "      <td>0.0</td>\n",
       "      <td>0.0</td>\n",
       "      <td>0.0</td>\n",
       "      <td>0.0</td>\n",
       "      <td>0.0</td>\n",
       "      <td>0.0</td>\n",
       "      <td>...</td>\n",
       "      <td>0.1</td>\n",
       "      <td>0.5</td>\n",
       "      <td>0.0</td>\n",
       "      <td>0.2</td>\n",
       "      <td>0.0</td>\n",
       "      <td>0.0</td>\n",
       "      <td>0.9</td>\n",
       "      <td>1.8</td>\n",
       "      <td>1.3</td>\n",
       "      <td>151.2</td>\n",
       "    </tr>\n",
       "    <tr>\n",
       "      <th>1</th>\n",
       "      <td>0.0</td>\n",
       "      <td>0.0</td>\n",
       "      <td>0.0</td>\n",
       "      <td>0.1</td>\n",
       "      <td>0.0</td>\n",
       "      <td>0.6</td>\n",
       "      <td>0.0</td>\n",
       "      <td>0.0</td>\n",
       "      <td>0.0</td>\n",
       "      <td>0.0</td>\n",
       "      <td>...</td>\n",
       "      <td>0.0</td>\n",
       "      <td>0.0</td>\n",
       "      <td>0.0</td>\n",
       "      <td>0.0</td>\n",
       "      <td>0.0</td>\n",
       "      <td>0.0</td>\n",
       "      <td>0.0</td>\n",
       "      <td>0.1</td>\n",
       "      <td>0.0</td>\n",
       "      <td>94.7</td>\n",
       "    </tr>\n",
       "    <tr>\n",
       "      <th>2</th>\n",
       "      <td>0.1</td>\n",
       "      <td>0.3</td>\n",
       "      <td>0.2</td>\n",
       "      <td>3.6</td>\n",
       "      <td>0.3</td>\n",
       "      <td>0.7</td>\n",
       "      <td>3.2</td>\n",
       "      <td>0.0</td>\n",
       "      <td>0.0</td>\n",
       "      <td>0.0</td>\n",
       "      <td>...</td>\n",
       "      <td>0.0</td>\n",
       "      <td>0.0</td>\n",
       "      <td>0.0</td>\n",
       "      <td>0.0</td>\n",
       "      <td>0.0</td>\n",
       "      <td>0.0</td>\n",
       "      <td>0.5</td>\n",
       "      <td>0.7</td>\n",
       "      <td>0.2</td>\n",
       "      <td>179.5</td>\n",
       "    </tr>\n",
       "    <tr>\n",
       "      <th>4</th>\n",
       "      <td>0.3</td>\n",
       "      <td>0.3</td>\n",
       "      <td>0.0</td>\n",
       "      <td>0.0</td>\n",
       "      <td>0.0</td>\n",
       "      <td>0.0</td>\n",
       "      <td>0.0</td>\n",
       "      <td>2.0</td>\n",
       "      <td>0.3</td>\n",
       "      <td>2.5</td>\n",
       "      <td>...</td>\n",
       "      <td>0.2</td>\n",
       "      <td>0.0</td>\n",
       "      <td>0.3</td>\n",
       "      <td>0.1</td>\n",
       "      <td>0.2</td>\n",
       "      <td>1.4</td>\n",
       "      <td>0.1</td>\n",
       "      <td>0.8</td>\n",
       "      <td>0.4</td>\n",
       "      <td>162.9</td>\n",
       "    </tr>\n",
       "    <tr>\n",
       "      <th>5</th>\n",
       "      <td>0.0</td>\n",
       "      <td>0.0</td>\n",
       "      <td>0.0</td>\n",
       "      <td>0.0</td>\n",
       "      <td>0.0</td>\n",
       "      <td>0.0</td>\n",
       "      <td>0.0</td>\n",
       "      <td>0.0</td>\n",
       "      <td>0.0</td>\n",
       "      <td>0.0</td>\n",
       "      <td>...</td>\n",
       "      <td>0.0</td>\n",
       "      <td>0.0</td>\n",
       "      <td>0.0</td>\n",
       "      <td>0.0</td>\n",
       "      <td>0.0</td>\n",
       "      <td>0.0</td>\n",
       "      <td>0.0</td>\n",
       "      <td>0.0</td>\n",
       "      <td>0.0</td>\n",
       "      <td>0.0</td>\n",
       "    </tr>\n",
       "    <tr>\n",
       "      <th>...</th>\n",
       "      <td>...</td>\n",
       "      <td>...</td>\n",
       "      <td>...</td>\n",
       "      <td>...</td>\n",
       "      <td>...</td>\n",
       "      <td>...</td>\n",
       "      <td>...</td>\n",
       "      <td>...</td>\n",
       "      <td>...</td>\n",
       "      <td>...</td>\n",
       "      <td>...</td>\n",
       "      <td>...</td>\n",
       "      <td>...</td>\n",
       "      <td>...</td>\n",
       "      <td>...</td>\n",
       "      <td>...</td>\n",
       "      <td>...</td>\n",
       "      <td>...</td>\n",
       "      <td>...</td>\n",
       "      <td>...</td>\n",
       "      <td>...</td>\n",
       "    </tr>\n",
       "    <tr>\n",
       "      <th>33233</th>\n",
       "      <td>0.0</td>\n",
       "      <td>0.0</td>\n",
       "      <td>0.0</td>\n",
       "      <td>0.0</td>\n",
       "      <td>0.0</td>\n",
       "      <td>0.0</td>\n",
       "      <td>0.0</td>\n",
       "      <td>0.0</td>\n",
       "      <td>0.0</td>\n",
       "      <td>0.0</td>\n",
       "      <td>...</td>\n",
       "      <td>0.0</td>\n",
       "      <td>0.0</td>\n",
       "      <td>0.0</td>\n",
       "      <td>0.0</td>\n",
       "      <td>0.0</td>\n",
       "      <td>0.0</td>\n",
       "      <td>0.0</td>\n",
       "      <td>0.0</td>\n",
       "      <td>0.0</td>\n",
       "      <td>0.0</td>\n",
       "    </tr>\n",
       "    <tr>\n",
       "      <th>33234</th>\n",
       "      <td>0.0</td>\n",
       "      <td>0.0</td>\n",
       "      <td>0.0</td>\n",
       "      <td>0.0</td>\n",
       "      <td>0.0</td>\n",
       "      <td>0.0</td>\n",
       "      <td>0.0</td>\n",
       "      <td>0.0</td>\n",
       "      <td>0.0</td>\n",
       "      <td>0.0</td>\n",
       "      <td>...</td>\n",
       "      <td>0.0</td>\n",
       "      <td>0.0</td>\n",
       "      <td>0.0</td>\n",
       "      <td>0.0</td>\n",
       "      <td>0.0</td>\n",
       "      <td>0.0</td>\n",
       "      <td>0.0</td>\n",
       "      <td>0.0</td>\n",
       "      <td>0.0</td>\n",
       "      <td>0.0</td>\n",
       "    </tr>\n",
       "    <tr>\n",
       "      <th>33235</th>\n",
       "      <td>0.0</td>\n",
       "      <td>0.0</td>\n",
       "      <td>0.0</td>\n",
       "      <td>0.0</td>\n",
       "      <td>0.0</td>\n",
       "      <td>0.0</td>\n",
       "      <td>0.0</td>\n",
       "      <td>0.0</td>\n",
       "      <td>0.0</td>\n",
       "      <td>0.0</td>\n",
       "      <td>...</td>\n",
       "      <td>0.0</td>\n",
       "      <td>0.0</td>\n",
       "      <td>0.0</td>\n",
       "      <td>0.0</td>\n",
       "      <td>0.0</td>\n",
       "      <td>0.0</td>\n",
       "      <td>0.0</td>\n",
       "      <td>0.0</td>\n",
       "      <td>0.0</td>\n",
       "      <td>0.0</td>\n",
       "    </tr>\n",
       "    <tr>\n",
       "      <th>33236</th>\n",
       "      <td>0.0</td>\n",
       "      <td>0.0</td>\n",
       "      <td>0.0</td>\n",
       "      <td>0.0</td>\n",
       "      <td>0.0</td>\n",
       "      <td>0.0</td>\n",
       "      <td>0.0</td>\n",
       "      <td>0.0</td>\n",
       "      <td>0.0</td>\n",
       "      <td>0.0</td>\n",
       "      <td>...</td>\n",
       "      <td>0.0</td>\n",
       "      <td>0.0</td>\n",
       "      <td>0.0</td>\n",
       "      <td>0.0</td>\n",
       "      <td>0.0</td>\n",
       "      <td>0.0</td>\n",
       "      <td>0.0</td>\n",
       "      <td>0.0</td>\n",
       "      <td>0.0</td>\n",
       "      <td>0.0</td>\n",
       "    </tr>\n",
       "    <tr>\n",
       "      <th>33237</th>\n",
       "      <td>0.0</td>\n",
       "      <td>0.0</td>\n",
       "      <td>0.0</td>\n",
       "      <td>0.0</td>\n",
       "      <td>0.0</td>\n",
       "      <td>0.0</td>\n",
       "      <td>0.0</td>\n",
       "      <td>0.0</td>\n",
       "      <td>0.0</td>\n",
       "      <td>0.0</td>\n",
       "      <td>...</td>\n",
       "      <td>0.0</td>\n",
       "      <td>0.0</td>\n",
       "      <td>0.0</td>\n",
       "      <td>0.0</td>\n",
       "      <td>0.0</td>\n",
       "      <td>0.0</td>\n",
       "      <td>0.0</td>\n",
       "      <td>0.0</td>\n",
       "      <td>0.0</td>\n",
       "      <td>0.0</td>\n",
       "    </tr>\n",
       "  </tbody>\n",
       "</table>\n",
       "<p>6837 rows × 354 columns</p>\n",
       "</div>"
      ],
      "text/plain": [
       "       hsa00010  hsa00020  hsa00030  hsa00040  hsa00051  hsa00052  hsa00053  \\\n",
       "0           0.0       0.0       0.0       0.0       0.0       0.0       0.0   \n",
       "1           0.0       0.0       0.0       0.1       0.0       0.6       0.0   \n",
       "2           0.1       0.3       0.2       3.6       0.3       0.7       3.2   \n",
       "4           0.3       0.3       0.0       0.0       0.0       0.0       0.0   \n",
       "5           0.0       0.0       0.0       0.0       0.0       0.0       0.0   \n",
       "...         ...       ...       ...       ...       ...       ...       ...   \n",
       "33233       0.0       0.0       0.0       0.0       0.0       0.0       0.0   \n",
       "33234       0.0       0.0       0.0       0.0       0.0       0.0       0.0   \n",
       "33235       0.0       0.0       0.0       0.0       0.0       0.0       0.0   \n",
       "33236       0.0       0.0       0.0       0.0       0.0       0.0       0.0   \n",
       "33237       0.0       0.0       0.0       0.0       0.0       0.0       0.0   \n",
       "\n",
       "       hsa00061  hsa00062  hsa00071  ...  hsa05332  hsa05340  hsa05410  \\\n",
       "0           0.0       0.0       0.0  ...       0.1       0.5       0.0   \n",
       "1           0.0       0.0       0.0  ...       0.0       0.0       0.0   \n",
       "2           0.0       0.0       0.0  ...       0.0       0.0       0.0   \n",
       "4           2.0       0.3       2.5  ...       0.2       0.0       0.3   \n",
       "5           0.0       0.0       0.0  ...       0.0       0.0       0.0   \n",
       "...         ...       ...       ...  ...       ...       ...       ...   \n",
       "33233       0.0       0.0       0.0  ...       0.0       0.0       0.0   \n",
       "33234       0.0       0.0       0.0  ...       0.0       0.0       0.0   \n",
       "33235       0.0       0.0       0.0  ...       0.0       0.0       0.0   \n",
       "33236       0.0       0.0       0.0  ...       0.0       0.0       0.0   \n",
       "33237       0.0       0.0       0.0  ...       0.0       0.0       0.0   \n",
       "\n",
       "       hsa05412  hsa05414  hsa05415  hsa05416  hsa05417  hsa05418  rowsum  \n",
       "0           0.2       0.0       0.0       0.9       1.8       1.3   151.2  \n",
       "1           0.0       0.0       0.0       0.0       0.1       0.0    94.7  \n",
       "2           0.0       0.0       0.0       0.5       0.7       0.2   179.5  \n",
       "4           0.1       0.2       1.4       0.1       0.8       0.4   162.9  \n",
       "5           0.0       0.0       0.0       0.0       0.0       0.0     0.0  \n",
       "...         ...       ...       ...       ...       ...       ...     ...  \n",
       "33233       0.0       0.0       0.0       0.0       0.0       0.0     0.0  \n",
       "33234       0.0       0.0       0.0       0.0       0.0       0.0     0.0  \n",
       "33235       0.0       0.0       0.0       0.0       0.0       0.0     0.0  \n",
       "33236       0.0       0.0       0.0       0.0       0.0       0.0     0.0  \n",
       "33237       0.0       0.0       0.0       0.0       0.0       0.0     0.0  \n",
       "\n",
       "[6837 rows x 354 columns]"
      ]
     },
     "execution_count": 57,
     "metadata": {},
     "output_type": "execute_result"
    }
   ],
   "source": [
    "x"
   ]
  },
  {
   "cell_type": "code",
   "execution_count": 11,
   "id": "2df533a0",
   "metadata": {
    "collapsed": true
   },
   "outputs": [
    {
     "data": {
      "text/plain": [
       "tensor([[1.],\n",
       "        [0.],\n",
       "        [1.],\n",
       "        ...,\n",
       "        [1.],\n",
       "        [1.],\n",
       "        [1.]], dtype=torch.float64)"
      ]
     },
     "execution_count": 11,
     "metadata": {},
     "output_type": "execute_result"
    }
   ],
   "source": [
    "from torch.utils.data import TensorDataset\n",
    "from torch.utils.data import DataLoader\n",
    "ada = ADASYN()\n",
    "x = pathway[pathway.columns.difference(['phenotype'])]\n",
    "y = pathway['phenotype']\n",
    "X_resampled, y_resampled = ada.fit_resample(x, y)\n",
    "scaler = StandardScaler()\n",
    "x_overscaled = scaler.fit_transform(X_resampled)\n",
    "x_overtrain, x_overtest, y_overtrain, y_overtest= train_test_split(x_overscaled, y_resampled, \n",
    "                                                            test_size = 0.2, random_state = 123)\n",
    "y_train = torch.tensor(y_overtrain.values)\n",
    "x_train = torch.tensor(x_overtrain)\n",
    "x_test  = torch.tensor(x_overtest)\n",
    "y_test  = torch.tensor(y_overtest.values)\n",
    "y_train.unsqueeze_(dim=1)\n",
    "\n",
    "\n"
   ]
  },
  {
   "cell_type": "markdown",
   "id": "973e4509",
   "metadata": {},
   "source": [
    "<h2>Running Perceptron Classifier<h2>"
   ]
  },
  {
   "cell_type": "code",
   "execution_count": 12,
   "id": "c4df3b07",
   "metadata": {
    "collapsed": true
   },
   "outputs": [],
   "source": [
    "model=MultiLayerBinaryClassifier()\n",
    "optimizer=optim.SGD(model.parameters(),lr=1e-04)"
   ]
  },
  {
   "cell_type": "code",
   "execution_count": 13,
   "id": "267656f8",
   "metadata": {
    "collapsed": true
   },
   "outputs": [
    {
     "ename": "RuntimeError",
     "evalue": "mat1 and mat2 shapes cannot be multiplied (8024x353 and 352x352)",
     "output_type": "error",
     "traceback": [
      "\u001b[0;31m---------------------------------------------------------------------------\u001b[0m",
      "\u001b[0;31mRuntimeError\u001b[0m                              Traceback (most recent call last)",
      "\u001b[0;32m/var/folders/cn/cfs3s7gn76b7lv5q1ghlym9r0000gn/T/ipykernel_68974/2199904063.py\u001b[0m in \u001b[0;36m<module>\u001b[0;34m\u001b[0m\n\u001b[1;32m      3\u001b[0m \u001b[0mcriterion\u001b[0m\u001b[0;34m=\u001b[0m\u001b[0mtorch\u001b[0m\u001b[0;34m.\u001b[0m\u001b[0mnn\u001b[0m\u001b[0;34m.\u001b[0m\u001b[0mBCELoss\u001b[0m\u001b[0;34m(\u001b[0m\u001b[0;34m)\u001b[0m\u001b[0;34m.\u001b[0m\u001b[0mto\u001b[0m\u001b[0;34m(\u001b[0m\u001b[0mdevice\u001b[0m\u001b[0;34m)\u001b[0m\u001b[0;34m\u001b[0m\u001b[0;34m\u001b[0m\u001b[0m\n\u001b[1;32m      4\u001b[0m \u001b[0;32mfor\u001b[0m \u001b[0mepoch\u001b[0m \u001b[0;32min\u001b[0m \u001b[0mrange\u001b[0m\u001b[0;34m(\u001b[0m\u001b[0mnb_epochs\u001b[0m\u001b[0;34m+\u001b[0m\u001b[0;36m1\u001b[0m\u001b[0;34m)\u001b[0m\u001b[0;34m:\u001b[0m\u001b[0;34m\u001b[0m\u001b[0;34m\u001b[0m\u001b[0m\n\u001b[0;32m----> 5\u001b[0;31m     \u001b[0mhypothesis\u001b[0m\u001b[0;34m=\u001b[0m\u001b[0mmodel\u001b[0m\u001b[0;34m(\u001b[0m\u001b[0mx_train\u001b[0m\u001b[0;34m.\u001b[0m\u001b[0mfloat\u001b[0m\u001b[0;34m(\u001b[0m\u001b[0;34m)\u001b[0m\u001b[0;34m)\u001b[0m\u001b[0;34m\u001b[0m\u001b[0;34m\u001b[0m\u001b[0m\n\u001b[0m\u001b[1;32m      6\u001b[0m     \u001b[0moptimizer\u001b[0m\u001b[0;34m.\u001b[0m\u001b[0mzero_grad\u001b[0m\u001b[0;34m(\u001b[0m\u001b[0;34m)\u001b[0m\u001b[0;34m\u001b[0m\u001b[0;34m\u001b[0m\u001b[0m\n\u001b[1;32m      7\u001b[0m \u001b[0;34m\u001b[0m\u001b[0m\n",
      "\u001b[0;32m~/opt/anaconda3/lib/python3.9/site-packages/torch/nn/modules/module.py\u001b[0m in \u001b[0;36m_call_impl\u001b[0;34m(self, *input, **kwargs)\u001b[0m\n\u001b[1;32m   1192\u001b[0m         if not (self._backward_hooks or self._forward_hooks or self._forward_pre_hooks or _global_backward_hooks\n\u001b[1;32m   1193\u001b[0m                 or _global_forward_hooks or _global_forward_pre_hooks):\n\u001b[0;32m-> 1194\u001b[0;31m             \u001b[0;32mreturn\u001b[0m \u001b[0mforward_call\u001b[0m\u001b[0;34m(\u001b[0m\u001b[0;34m*\u001b[0m\u001b[0minput\u001b[0m\u001b[0;34m,\u001b[0m \u001b[0;34m**\u001b[0m\u001b[0mkwargs\u001b[0m\u001b[0;34m)\u001b[0m\u001b[0;34m\u001b[0m\u001b[0;34m\u001b[0m\u001b[0m\n\u001b[0m\u001b[1;32m   1195\u001b[0m         \u001b[0;31m# Do not call functions when jit is used\u001b[0m\u001b[0;34m\u001b[0m\u001b[0;34m\u001b[0m\u001b[0m\n\u001b[1;32m   1196\u001b[0m         \u001b[0mfull_backward_hooks\u001b[0m\u001b[0;34m,\u001b[0m \u001b[0mnon_full_backward_hooks\u001b[0m \u001b[0;34m=\u001b[0m \u001b[0;34m[\u001b[0m\u001b[0;34m]\u001b[0m\u001b[0;34m,\u001b[0m \u001b[0;34m[\u001b[0m\u001b[0;34m]\u001b[0m\u001b[0;34m\u001b[0m\u001b[0;34m\u001b[0m\u001b[0m\n",
      "\u001b[0;32m/var/folders/cn/cfs3s7gn76b7lv5q1ghlym9r0000gn/T/ipykernel_68974/2703662039.py\u001b[0m in \u001b[0;36mforward\u001b[0;34m(self, x)\u001b[0m\n\u001b[1;32m     18\u001b[0m \u001b[0;34m\u001b[0m\u001b[0m\n\u001b[1;32m     19\u001b[0m     \u001b[0;32mdef\u001b[0m \u001b[0mforward\u001b[0m\u001b[0;34m(\u001b[0m\u001b[0mself\u001b[0m\u001b[0;34m,\u001b[0m\u001b[0mx\u001b[0m\u001b[0;34m)\u001b[0m\u001b[0;34m:\u001b[0m\u001b[0;34m\u001b[0m\u001b[0;34m\u001b[0m\u001b[0m\n\u001b[0;32m---> 20\u001b[0;31m         \u001b[0mx\u001b[0m\u001b[0;34m=\u001b[0m\u001b[0mself\u001b[0m\u001b[0;34m.\u001b[0m\u001b[0mlayer1\u001b[0m\u001b[0;34m(\u001b[0m\u001b[0mx\u001b[0m\u001b[0;34m)\u001b[0m\u001b[0;34m\u001b[0m\u001b[0;34m\u001b[0m\u001b[0m\n\u001b[0m\u001b[1;32m     21\u001b[0m         \u001b[0mx\u001b[0m\u001b[0;34m=\u001b[0m\u001b[0mself\u001b[0m\u001b[0;34m.\u001b[0m\u001b[0mlayer2\u001b[0m\u001b[0;34m(\u001b[0m\u001b[0mx\u001b[0m\u001b[0;34m)\u001b[0m\u001b[0;34m\u001b[0m\u001b[0;34m\u001b[0m\u001b[0m\n\u001b[1;32m     22\u001b[0m         \u001b[0;32mreturn\u001b[0m \u001b[0mx\u001b[0m\u001b[0;34m\u001b[0m\u001b[0;34m\u001b[0m\u001b[0m\n",
      "\u001b[0;32m~/opt/anaconda3/lib/python3.9/site-packages/torch/nn/modules/module.py\u001b[0m in \u001b[0;36m_call_impl\u001b[0;34m(self, *input, **kwargs)\u001b[0m\n\u001b[1;32m   1192\u001b[0m         if not (self._backward_hooks or self._forward_hooks or self._forward_pre_hooks or _global_backward_hooks\n\u001b[1;32m   1193\u001b[0m                 or _global_forward_hooks or _global_forward_pre_hooks):\n\u001b[0;32m-> 1194\u001b[0;31m             \u001b[0;32mreturn\u001b[0m \u001b[0mforward_call\u001b[0m\u001b[0;34m(\u001b[0m\u001b[0;34m*\u001b[0m\u001b[0minput\u001b[0m\u001b[0;34m,\u001b[0m \u001b[0;34m**\u001b[0m\u001b[0mkwargs\u001b[0m\u001b[0;34m)\u001b[0m\u001b[0;34m\u001b[0m\u001b[0;34m\u001b[0m\u001b[0m\n\u001b[0m\u001b[1;32m   1195\u001b[0m         \u001b[0;31m# Do not call functions when jit is used\u001b[0m\u001b[0;34m\u001b[0m\u001b[0;34m\u001b[0m\u001b[0m\n\u001b[1;32m   1196\u001b[0m         \u001b[0mfull_backward_hooks\u001b[0m\u001b[0;34m,\u001b[0m \u001b[0mnon_full_backward_hooks\u001b[0m \u001b[0;34m=\u001b[0m \u001b[0;34m[\u001b[0m\u001b[0;34m]\u001b[0m\u001b[0;34m,\u001b[0m \u001b[0;34m[\u001b[0m\u001b[0;34m]\u001b[0m\u001b[0;34m\u001b[0m\u001b[0;34m\u001b[0m\u001b[0m\n",
      "\u001b[0;32m~/opt/anaconda3/lib/python3.9/site-packages/torch/nn/modules/container.py\u001b[0m in \u001b[0;36mforward\u001b[0;34m(self, input)\u001b[0m\n\u001b[1;32m    202\u001b[0m     \u001b[0;32mdef\u001b[0m \u001b[0mforward\u001b[0m\u001b[0;34m(\u001b[0m\u001b[0mself\u001b[0m\u001b[0;34m,\u001b[0m \u001b[0minput\u001b[0m\u001b[0;34m)\u001b[0m\u001b[0;34m:\u001b[0m\u001b[0;34m\u001b[0m\u001b[0;34m\u001b[0m\u001b[0m\n\u001b[1;32m    203\u001b[0m         \u001b[0;32mfor\u001b[0m \u001b[0mmodule\u001b[0m \u001b[0;32min\u001b[0m \u001b[0mself\u001b[0m\u001b[0;34m:\u001b[0m\u001b[0;34m\u001b[0m\u001b[0;34m\u001b[0m\u001b[0m\n\u001b[0;32m--> 204\u001b[0;31m             \u001b[0minput\u001b[0m \u001b[0;34m=\u001b[0m \u001b[0mmodule\u001b[0m\u001b[0;34m(\u001b[0m\u001b[0minput\u001b[0m\u001b[0;34m)\u001b[0m\u001b[0;34m\u001b[0m\u001b[0;34m\u001b[0m\u001b[0m\n\u001b[0m\u001b[1;32m    205\u001b[0m         \u001b[0;32mreturn\u001b[0m \u001b[0minput\u001b[0m\u001b[0;34m\u001b[0m\u001b[0;34m\u001b[0m\u001b[0m\n\u001b[1;32m    206\u001b[0m \u001b[0;34m\u001b[0m\u001b[0m\n",
      "\u001b[0;32m~/opt/anaconda3/lib/python3.9/site-packages/torch/nn/modules/module.py\u001b[0m in \u001b[0;36m_call_impl\u001b[0;34m(self, *input, **kwargs)\u001b[0m\n\u001b[1;32m   1192\u001b[0m         if not (self._backward_hooks or self._forward_hooks or self._forward_pre_hooks or _global_backward_hooks\n\u001b[1;32m   1193\u001b[0m                 or _global_forward_hooks or _global_forward_pre_hooks):\n\u001b[0;32m-> 1194\u001b[0;31m             \u001b[0;32mreturn\u001b[0m \u001b[0mforward_call\u001b[0m\u001b[0;34m(\u001b[0m\u001b[0;34m*\u001b[0m\u001b[0minput\u001b[0m\u001b[0;34m,\u001b[0m \u001b[0;34m**\u001b[0m\u001b[0mkwargs\u001b[0m\u001b[0;34m)\u001b[0m\u001b[0;34m\u001b[0m\u001b[0;34m\u001b[0m\u001b[0m\n\u001b[0m\u001b[1;32m   1195\u001b[0m         \u001b[0;31m# Do not call functions when jit is used\u001b[0m\u001b[0;34m\u001b[0m\u001b[0;34m\u001b[0m\u001b[0m\n\u001b[1;32m   1196\u001b[0m         \u001b[0mfull_backward_hooks\u001b[0m\u001b[0;34m,\u001b[0m \u001b[0mnon_full_backward_hooks\u001b[0m \u001b[0;34m=\u001b[0m \u001b[0;34m[\u001b[0m\u001b[0;34m]\u001b[0m\u001b[0;34m,\u001b[0m \u001b[0;34m[\u001b[0m\u001b[0;34m]\u001b[0m\u001b[0;34m\u001b[0m\u001b[0;34m\u001b[0m\u001b[0m\n",
      "\u001b[0;32m~/opt/anaconda3/lib/python3.9/site-packages/torch/nn/modules/linear.py\u001b[0m in \u001b[0;36mforward\u001b[0;34m(self, input)\u001b[0m\n\u001b[1;32m    112\u001b[0m \u001b[0;34m\u001b[0m\u001b[0m\n\u001b[1;32m    113\u001b[0m     \u001b[0;32mdef\u001b[0m \u001b[0mforward\u001b[0m\u001b[0;34m(\u001b[0m\u001b[0mself\u001b[0m\u001b[0;34m,\u001b[0m \u001b[0minput\u001b[0m\u001b[0;34m:\u001b[0m \u001b[0mTensor\u001b[0m\u001b[0;34m)\u001b[0m \u001b[0;34m->\u001b[0m \u001b[0mTensor\u001b[0m\u001b[0;34m:\u001b[0m\u001b[0;34m\u001b[0m\u001b[0;34m\u001b[0m\u001b[0m\n\u001b[0;32m--> 114\u001b[0;31m         \u001b[0;32mreturn\u001b[0m \u001b[0mF\u001b[0m\u001b[0;34m.\u001b[0m\u001b[0mlinear\u001b[0m\u001b[0;34m(\u001b[0m\u001b[0minput\u001b[0m\u001b[0;34m,\u001b[0m \u001b[0mself\u001b[0m\u001b[0;34m.\u001b[0m\u001b[0mweight\u001b[0m\u001b[0;34m,\u001b[0m \u001b[0mself\u001b[0m\u001b[0;34m.\u001b[0m\u001b[0mbias\u001b[0m\u001b[0;34m)\u001b[0m\u001b[0;34m\u001b[0m\u001b[0;34m\u001b[0m\u001b[0m\n\u001b[0m\u001b[1;32m    115\u001b[0m \u001b[0;34m\u001b[0m\u001b[0m\n\u001b[1;32m    116\u001b[0m     \u001b[0;32mdef\u001b[0m \u001b[0mextra_repr\u001b[0m\u001b[0;34m(\u001b[0m\u001b[0mself\u001b[0m\u001b[0;34m)\u001b[0m \u001b[0;34m->\u001b[0m \u001b[0mstr\u001b[0m\u001b[0;34m:\u001b[0m\u001b[0;34m\u001b[0m\u001b[0;34m\u001b[0m\u001b[0m\n",
      "\u001b[0;31mRuntimeError\u001b[0m: mat1 and mat2 shapes cannot be multiplied (8024x353 and 352x352)"
     ]
    }
   ],
   "source": [
    "\n",
    "nb_epochs=100000\n",
    "device =\"cuda\" if torch.cuda.is_available() else \"cpu\"\n",
    "criterion=torch.nn.BCELoss().to(device)\n",
    "for epoch in range(nb_epochs+1):\n",
    "    hypothesis=model(x_train.float())\n",
    "    optimizer.zero_grad()\n",
    " \n",
    "    cost=criterion(hypothesis,y_train.float())        \n",
    "    cost.backward()\n",
    "    optimizer.step()\n",
    "   \n",
    "    if epoch%500==0:\n",
    "        hypothesis2=model(x_test.float())\n",
    "        prediction = hypothesis2>= torch.FloatTensor([0.5])\n",
    "        correct_prediction =prediction.float() ==y_test\n",
    "        accuracy=correct_prediction.sum().item()/len(correct_prediction)\n",
    "        print('Epoch{:4d} , Accurracty{:2f}'.format(epoch,accuracy))"
   ]
  },
  {
   "cell_type": "code",
   "execution_count": null,
   "id": "1ed76b2b",
   "metadata": {
    "collapsed": true
   },
   "outputs": [],
   "source": [
    "optimizer2=optim.SGD(model2.parameters(),lr=1e-4)\n",
    "nb_epochs=20000000\n",
    "for epoch in range(nb_epochs+1):\n",
    "    hypothesis=model2(x_train.float())\n",
    "    cost=F.binary_cross_entropy(hypothesis,y_train.float())        \n",
    "    optimizer2.zero_grad()\n",
    "    cost.backward()\n",
    "    optimizer2.step()\n",
    "    prediction =hypothesis>= torch.FloatTensor([0.5])\n",
    "    correct_prediction =prediction.float() ==y_train\n",
    "    accuracy=correct_prediction.sum().item()/len(correct_prediction)\n",
    "    if epoch%10000==0:\n",
    "        print('Epoch{:4d} , cost{:2f} ,Accurracy{:2f}'.format(epoch,cost,accuracy))"
   ]
  },
  {
   "cell_type": "markdown",
   "id": "9714a7f1",
   "metadata": {},
   "source": [
    "<h2>Running uncustomized xgboost classifier<h2>"
   ]
  },
  {
   "cell_type": "code",
   "execution_count": 17,
   "id": "cde31fca",
   "metadata": {
    "collapsed": true
   },
   "outputs": [
    {
     "ename": "NameError",
     "evalue": "name 'xgboost_uncustomized' is not defined",
     "output_type": "error",
     "traceback": [
      "\u001b[0;31m---------------------------------------------------------------------------\u001b[0m",
      "\u001b[0;31mNameError\u001b[0m                                 Traceback (most recent call last)",
      "\u001b[0;32m/var/folders/cn/cfs3s7gn76b7lv5q1ghlym9r0000gn/T/ipykernel_15856/572292879.py\u001b[0m in \u001b[0;36m<module>\u001b[0;34m\u001b[0m\n\u001b[1;32m      8\u001b[0m x_overtrain, x_overtest, y_overtrain, y_overtest= train_test_split(x_overscaled, y_resampled, \n\u001b[1;32m      9\u001b[0m                                                     test_size = 0.2, random_state = 123)\n\u001b[0;32m---> 10\u001b[0;31m train_acc_before, test_acc_before = xgboost_uncustomized( \n\u001b[0m\u001b[1;32m     11\u001b[0m                                                       \u001b[0mx_overtrain_re\u001b[0m\u001b[0;34m,\u001b[0m\u001b[0;34m\u001b[0m\u001b[0;34m\u001b[0m\u001b[0m\n\u001b[1;32m     12\u001b[0m                                                       \u001b[0my_overtrain_re\u001b[0m\u001b[0;34m,\u001b[0m\u001b[0;34m\u001b[0m\u001b[0;34m\u001b[0m\u001b[0m\n",
      "\u001b[0;31mNameError\u001b[0m: name 'xgboost_uncustomized' is not defined"
     ]
    }
   ],
   "source": [
    "pathway=pd.read_csv(\"../data/ppipathway1.3.csv\",index_col=0)\n",
    "ada = ADASYN()\n",
    "x = pathway[pathway.columns.difference(['phenotype'])]\n",
    "y = pathway['phenotype']\n",
    "X_resampled, y_resampled = ada.fit_resample(x, y)\n",
    "scaler = StandardScaler()\n",
    "x_overscaled = scaler.fit_transform(X_resampled)\n",
    "x_overtrain, x_overtest, y_overtrain, y_overtest= train_test_split(x_overscaled, y_resampled, \n",
    "                                                    test_size = 0.2, random_state = 123)\n",
    "train_acc_before, test_acc_before = xgboost_uncustomized( \n",
    "                                                      x_overtrain_re,\n",
    "                                                      y_overtrain_re,\n",
    "                                                      x_overtest_re,\n",
    "                                                      y_overtest_re)\n",
    "\n",
    "print(train_acc_before,test_acc_before)    \n",
    "        \n",
    "\n"
   ]
  },
  {
   "cell_type": "code",
   "execution_count": 17,
   "id": "fe74edda",
   "metadata": {
    "collapsed": true
   },
   "outputs": [
    {
     "ename": "NameError",
     "evalue": "name 'x_overtrain_re' is not defined",
     "output_type": "error",
     "traceback": [
      "\u001b[0;31m---------------------------------------------------------------------------\u001b[0m",
      "\u001b[0;31mNameError\u001b[0m                                 Traceback (most recent call last)",
      "\u001b[0;32m/var/folders/cn/cfs3s7gn76b7lv5q1ghlym9r0000gn/T/ipykernel_68106/4091194033.py\u001b[0m in \u001b[0;36m<module>\u001b[0;34m\u001b[0m\n\u001b[1;32m      1\u001b[0m train_acc_before, test_acc_before = xgboost_uncustomized( \n\u001b[0;32m----> 2\u001b[0;31m                                                       \u001b[0mx_overtrain_re\u001b[0m\u001b[0;34m,\u001b[0m\u001b[0;34m\u001b[0m\u001b[0;34m\u001b[0m\u001b[0m\n\u001b[0m\u001b[1;32m      3\u001b[0m                                                       \u001b[0my_overtrain_re\u001b[0m\u001b[0;34m,\u001b[0m\u001b[0;34m\u001b[0m\u001b[0;34m\u001b[0m\u001b[0m\n\u001b[1;32m      4\u001b[0m                                                       \u001b[0mx_overtest_re\u001b[0m\u001b[0;34m,\u001b[0m\u001b[0;34m\u001b[0m\u001b[0;34m\u001b[0m\u001b[0m\n\u001b[1;32m      5\u001b[0m                                                       y_overtest_re)\n",
      "\u001b[0;31mNameError\u001b[0m: name 'x_overtrain_re' is not defined"
     ]
    }
   ],
   "source": [
    "train_acc_before, test_acc_before = xgboost_uncustomized( \n",
    "                                                      x_overtrain_re,\n",
    "                                                      y_overtrain_re,\n",
    "                                                      x_overtest_re,\n",
    "                                                      y_overtest_re)\n",
    "\n",
    "print(train_acc_before,test_acc_before) "
   ]
  },
  {
   "cell_type": "code",
   "execution_count": 14,
   "id": "950c4ffa",
   "metadata": {
    "collapsed": true
   },
   "outputs": [
    {
     "name": "stdout",
     "output_type": "stream",
     "text": [
      "0.9778 0.873\n"
     ]
    }
   ],
   "source": [
    "train_acc_before, test_acc_before = xgboost_uncustomized( \n",
    "                                                      x_overtrain,\n",
    "                                                      y_overtrain,\n",
    "                                                      x_overtest,\n",
    "                                                      y_overtest)\n",
    "print(train_acc_before,test_acc_before) "
   ]
  },
  {
   "cell_type": "code",
   "execution_count": 13,
   "id": "001a1a0b",
   "metadata": {
    "collapsed": true
   },
   "outputs": [
    {
     "ename": "TypeError",
     "evalue": "modeling_uncustomized() missing 1 required positional argument: 'y_test'",
     "output_type": "error",
     "traceback": [
      "\u001b[0;31m---------------------------------------------------------------------------\u001b[0m",
      "\u001b[0;31mTypeError\u001b[0m                                 Traceback (most recent call last)",
      "\u001b[0;32m/var/folders/cn/cfs3s7gn76b7lv5q1ghlym9r0000gn/T/ipykernel_63148/1308281456.py\u001b[0m in \u001b[0;36m<module>\u001b[0;34m\u001b[0m\n\u001b[0;32m----> 1\u001b[0;31m train_acc_before, test_acc_before = modeling_uncustomized( \n\u001b[0m\u001b[1;32m      2\u001b[0m                                                       \u001b[0mx_overtrain\u001b[0m\u001b[0;34m,\u001b[0m\u001b[0;34m\u001b[0m\u001b[0;34m\u001b[0m\u001b[0m\n\u001b[1;32m      3\u001b[0m                                                       \u001b[0my_overtrain\u001b[0m\u001b[0;34m,\u001b[0m\u001b[0;34m\u001b[0m\u001b[0;34m\u001b[0m\u001b[0m\n\u001b[1;32m      4\u001b[0m                                                       \u001b[0mx_overtest\u001b[0m\u001b[0;34m,\u001b[0m\u001b[0;34m\u001b[0m\u001b[0;34m\u001b[0m\u001b[0m\n\u001b[1;32m      5\u001b[0m                                                       y_overtest)\n",
      "\u001b[0;31mTypeError\u001b[0m: modeling_uncustomized() missing 1 required positional argument: 'y_test'"
     ]
    }
   ],
   "source": [
    "train_acc_before, test_acc_before = modeling_uncustomized( \n",
    "                                                      x_overtrain,\n",
    "                                                      y_overtrain,\n",
    "                                                      x_overtest,\n",
    "                                                      y_overtest)"
   ]
  },
  {
   "cell_type": "code",
   "execution_count": 19,
   "id": "f363efae",
   "metadata": {
    "collapsed": true
   },
   "outputs": [
    {
     "name": "stdout",
     "output_type": "stream",
     "text": [
      "0.9833 0.8711\n"
     ]
    }
   ],
   "source": [
    "print(train_acc_before,test_acc_before)"
   ]
  },
  {
   "cell_type": "markdown",
   "id": "62fe638a",
   "metadata": {},
   "source": [
    "<h1>Xgboost grid search #find best parameter toward gridsearch<h1>"
   ]
  },
  {
   "cell_type": "code",
   "execution_count": null,
   "id": "e28dbab8",
   "metadata": {
    "collapsed": true
   },
   "outputs": [],
   "source": []
  },
  {
   "cell_type": "code",
   "execution_count": 28,
   "id": "c6ba8ca5",
   "metadata": {},
   "outputs": [
    {
     "ename": "AttributeError",
     "evalue": "'GridSearchCV' object has no attribute 'best_parmas_'",
     "output_type": "error",
     "traceback": [
      "\u001b[0;31m---------------------------------------------------------------------------\u001b[0m",
      "\u001b[0;31mAttributeError\u001b[0m                            Traceback (most recent call last)",
      "\u001b[0;32m/tmp/ipykernel_9534/298145312.py\u001b[0m in \u001b[0;36m<module>\u001b[0;34m\u001b[0m\n\u001b[1;32m     11\u001b[0m \u001b[0mgrid_cv\u001b[0m\u001b[0;34m.\u001b[0m\u001b[0mfit\u001b[0m\u001b[0;34m(\u001b[0m\u001b[0mx_overtrain\u001b[0m\u001b[0;34m,\u001b[0m \u001b[0my_overtrain\u001b[0m\u001b[0;34m)\u001b[0m\u001b[0;34m\u001b[0m\u001b[0;34m\u001b[0m\u001b[0m\n\u001b[1;32m     12\u001b[0m \u001b[0;34m\u001b[0m\u001b[0m\n\u001b[0;32m---> 13\u001b[0;31m \u001b[0mprint\u001b[0m\u001b[0;34m(\u001b[0m\u001b[0;34mf\"최적의파라미터 :{grid_cv.best_parmas_}\"\u001b[0m\u001b[0;34m)\u001b[0m\u001b[0;34m\u001b[0m\u001b[0;34m\u001b[0m\u001b[0m\n\u001b[0m\u001b[1;32m     14\u001b[0m \u001b[0mprint\u001b[0m\u001b[0;34m(\u001b[0m\u001b[0;34mf\"최고성늘 :{grid_cv.best_score_}\"\u001b[0m\u001b[0;34m)\u001b[0m\u001b[0;34m\u001b[0m\u001b[0;34m\u001b[0m\u001b[0m\n",
      "\u001b[0;31mAttributeError\u001b[0m: 'GridSearchCV' object has no attribute 'best_parmas_'"
     ]
    }
   ],
   "source": [
    "params={\n",
    "    'min_child_weight':[1,5,10],\n",
    "    'max_depth':[3,5,8,10],\n",
    "    'gamma':[0,0.1,1]\n",
    "}\n",
    "\n",
    "uncustomized = xgb.XGBClassifier(booster='gbtree')\n",
    "grid_cv=GridSearchCV(uncustomized,param_grid=params,cv=2,n_jobs=-1)\n",
    "grid_cv.fit(x_overtrain, y_overtrain)\n",
    "\n",
    "print(f\"최적의파라미터 :{grid_cv.best_params_}\")\n",
    "print(f\"최고성늘 :{grid_cv.best_score_}\")"
   ]
  },
  {
   "cell_type": "code",
   "execution_count": 40,
   "id": "ecbdf443",
   "metadata": {
    "collapsed": true
   },
   "outputs": [
    {
     "name": "stdout",
     "output_type": "stream",
     "text": [
      "최적의파라미터 :{'gamma': 0.1, 'max_depth': 10, 'min_child_weight': 1}\n",
      "최고성늘 :0.7752877572375305\n",
      "0.7814430934821607\n",
      "0.7749360613810742\n"
     ]
    }
   ],
   "source": [
    "print(f\"최적의파라미터 :{grid_cv.best_params_}\")\n",
    "print(f\"최고성늘 :{grid_cv.best_score_}\")\n",
    "uncustomized = xgb.XGBClassifier(booster='gbtree')\n",
    "uncustomized.fit(x_overtest,y_overtest)\n",
    "x_overtrain, x_overtest, y_overtrain, y_overtest = train_test_split(x_overscaled, y_resampled, \n",
    "                                                    test_size = 0.3)\n",
    "train_score=uncustomized.score(x_overtrain,y_overtrain)\n",
    "test_score=uncustomized.score(x_overtest,y_overtest)\n",
    "print(train_score)\n",
    "print(test_score)"
   ]
  },
  {
   "cell_type": "markdown",
   "id": "fa86b372",
   "metadata": {},
   "source": [
    "<h1>Run uncustomized rfc<h1>"
   ]
  },
  {
   "cell_type": "code",
   "execution_count": 36,
   "id": "b24cc668",
   "metadata": {
    "collapsed": true
   },
   "outputs": [],
   "source": [
    "train_acc_before, test_acc_before = modeling_uncustomized(algorithm, \n",
    "                                                          x_overtrain,\n",
    "                                                          y_overtrain,\n",
    "                                                          x_overtest,\n",
    "                                                          y_overtest)"
   ]
  },
  {
   "cell_type": "code",
   "execution_count": 39,
   "id": "7f23b2c5",
   "metadata": {
    "collapsed": true
   },
   "outputs": [
    {
     "name": "stdout",
     "output_type": "stream",
     "text": [
      "0.9825 0.8946\n"
     ]
    }
   ],
   "source": [
    "print(train_acc_before, test_acc_before)"
   ]
  },
  {
   "cell_type": "code",
   "execution_count": 26,
   "id": "c849664c",
   "metadata": {
    "collapsed": true
   },
   "outputs": [
    {
     "name": "stdout",
     "output_type": "stream",
     "text": [
      "(11306, 29)\n",
      "(2827, 29)\n"
     ]
    }
   ],
   "source": [
    "print(newx.shape)\n",
    "print(newy.shape)"
   ]
  },
  {
   "cell_type": "code",
   "execution_count": 10,
   "id": "4238b8de",
   "metadata": {
    "collapsed": true
   },
   "outputs": [
    {
     "name": "stdout",
     "output_type": "stream",
     "text": [
      "0.8364 0.7541\n"
     ]
    }
   ],
   "source": [
    "print(train_acc_before,test_acc_before)"
   ]
  },
  {
   "cell_type": "code",
   "execution_count": 27,
   "id": "6e8fcf99",
   "metadata": {
    "collapsed": true
   },
   "outputs": [],
   "source": [
    "def run(filename):   #function to do autorun \n",
    "    pathway=pd.read_csv(filename,index_col=0)\n",
    "    ada = ADASYN()\n",
    "    x = pathway[pathway.columns.difference(['phenotype'])]\n",
    "    y = pathway['phenotype']\n",
    "    X_resampled, y_resampled = ada.fit_resample(x, y)\n",
    "    scaler = StandardScaler()\n",
    "    x_overscaled = scaler.fit_transform(X_resampled)\n",
    "    x_overtrain, x_overtest, y_overtrain, y_overtest = train_test_split(x_overscaled, y_resampled, \n",
    "                                                    test_size = 0.2, random_state = 123)\n",
    "    train_acc_before, test_acc_before = modeling_uncustomized(algorithm, \n",
    "                                                          x_overtrain,\n",
    "                                                          y_overtrain,\n",
    "                                                          x_overtest,\n",
    "                                                          y_overtest)\n",
    "    return train_acc_before, test_acc_before\n",
    "    \n",
    "    "
   ]
  },
  {
   "cell_type": "code",
   "execution_count": null,
   "id": "74cf868c",
   "metadata": {
    "collapsed": true
   },
   "outputs": [],
   "source": []
  },
  {
   "cell_type": "code",
   "execution_count": null,
   "id": "fa986c15",
   "metadata": {
    "collapsed": true
   },
   "outputs": [],
   "source": [
    "from imblearn.over_sampling import ADASYN   # run prediction 30times for each k and get average and sort it\n",
    "average=[]\n",
    "for k in range(1,20):\n",
    "    temp=[]\n",
    "    for j in range(20):\n",
    "        address=\"ppipathway\"+str(round(k/10,1))+\".csv\"\n",
    "        x,y=run(address)\n",
    "        temp.append(y)\n",
    "    average.append([sum(temp)/len(temp),k])\n",
    "average.sort()\n",
    "print(average)\n",
    "        \n",
    "        "
   ]
  },
  {
   "cell_type": "code",
   "execution_count": 67,
   "id": "1284d43c",
   "metadata": {
    "collapsed": true
   },
   "outputs": [],
   "source": [
    "pathway=pd.read_csv(\"ppipathway1.3.csv\",index_col=0)  #accuracy is highest when k is 1.3\n",
    "pathway=pathway[top100]"
   ]
  },
  {
   "cell_type": "code",
   "execution_count": 68,
   "id": "837237f1",
   "metadata": {
    "collapsed": true
   },
   "outputs": [],
   "source": [
    "\n",
    "condition = pathway['phenotype'] == 1\n",
    "condition2 = pathway['phenotype'] == 0\n",
    "true_index = condition[condition == True].index\n",
    "true_index2 = condition2[condition2 == True].index\n",
    "ada = ADASYN()\n",
    "X_resampled,Y_resample=ada.fit_resample(pathway,pathway['phenotype'])\n",
    "\n"
   ]
  },
  {
   "cell_type": "code",
   "execution_count": null,
   "id": "8dd3bf14",
   "metadata": {
    "collapsed": true
   },
   "outputs": [],
   "source": [
    "x_train, x_test, y_train, y_test = train_test_split(x_scaled, y, \n",
    "                                                    test_size = 0.3, random_state = 123)"
   ]
  },
  {
   "cell_type": "code",
   "execution_count": null,
   "id": "9c9104e2",
   "metadata": {
    "collapsed": true
   },
   "outputs": [],
   "source": [
    "y_train.value_counts(normalize=True) #check if the train,test split was successful"
   ]
  },
  {
   "cell_type": "code",
   "execution_count": null,
   "id": "332a9444",
   "metadata": {
    "collapsed": true
   },
   "outputs": [],
   "source": [
    "y_test.value_counts(normalize=True)"
   ]
  },
  {
   "cell_type": "markdown",
   "id": "4281563e",
   "metadata": {},
   "source": [
    "<h1>Functions <h1>"
   ]
  },
  {
   "cell_type": "code",
   "execution_count": 9,
   "id": "b0bed0f6",
   "metadata": {
    "collapsed": true
   },
   "outputs": [],
   "source": [
    "import xgboost as xgb\n",
    "\n",
    "def xgboost_uncustomized ( x_train, y_train, x_test, y_test):  #xgboost classifier\n",
    "    uncustomized = xgb.XGBClassifier(booster='gbtree')\n",
    "    uncustomized.fit(x_train, y_train)\n",
    "    train_score= uncustomized.score(x_train, y_train).round(4)\n",
    "    test_score= uncustomized.score(x_test, y_test).round(4)\n",
    "    return train_score, test_score"
   ]
  },
  {
   "cell_type": "code",
   "execution_count": 11,
   "id": "d3c64312",
   "metadata": {
    "collapsed": true
   },
   "outputs": [
    {
     "name": "stdout",
     "output_type": "stream",
     "text": [
      "Requirement already satisfied: xgboost in /Users/cjh/opt/anaconda3/lib/python3.9/site-packages (1.7.5)\n",
      "Requirement already satisfied: numpy in /Users/cjh/opt/anaconda3/lib/python3.9/site-packages (from xgboost) (1.21.5)\n",
      "Requirement already satisfied: scipy in /Users/cjh/opt/anaconda3/lib/python3.9/site-packages (from xgboost) (1.9.1)\n",
      "Note: you may need to restart the kernel to use updated packages.\n"
     ]
    }
   ],
   "source": [
    "pip install xgboost"
   ]
  },
  {
   "cell_type": "code",
   "execution_count": 5,
   "id": "6d3e6412",
   "metadata": {
    "collapsed": true
   },
   "outputs": [],
   "source": [
    "# 랜덤포레스트 분류 알고리즘\n",
    "algorithm = RFC\n",
    "algorithm_name = 'rfc'"
   ]
  },
  {
   "cell_type": "code",
   "execution_count": 40,
   "id": "d2bd04c2",
   "metadata": {
    "collapsed": true
   },
   "outputs": [],
   "source": [
    "from sklearn.metrics import roc_auc_score \n",
    "def modeling_uncustomized (algorithm, x_train, y_train, x_test, y_test):\n",
    "    uncustomized = algorithm(random_state=613)\n",
    "    uncustomized.fit(x_train, y_train)\n",
    "    train_score= uncustomized.score(x_train, y_train).round(4)\n",
    "    test_score= uncustomized.score(x_test, y_test).round(4)\n",
    "    \n",
    "    return train_score, test_score"
   ]
  },
  {
   "cell_type": "code",
   "execution_count": 41,
   "id": "e691b90d",
   "metadata": {
    "collapsed": true
   },
   "outputs": [],
   "source": [
    "def optim_n_estimator(algorithm, algorithm_name,x_train,y_train,x_test,y_test,n_estimator_min,n_estimator_max):\n",
    "    train_score = []\n",
    "    test_score =[]\n",
    "    forest_n_tree = [n_tree*5 for n_tree in range(n_estimator_min, n_estimator_max)]\n",
    "    for estimators in forest_n_tree:\n",
    "        model = algorithm(n_estimators = estimators, random_state=613)\n",
    "        model.fit(x_train, y_train)\n",
    "        train_score.append(model.score(x_train, y_train))\n",
    "        test_score.append(model.score(x_test, y_test))\n",
    "    df_score = pd.DataFrame({'n_estimators': forest_n_tree, 'TrainScore': train_score, 'TestScore': test_score})\n",
    "    print(round(df_score, 4))"
   ]
  },
  {
   "cell_type": "code",
   "execution_count": 42,
   "id": "b52aec3c",
   "metadata": {
    "collapsed": true
   },
   "outputs": [],
   "source": [
    "def optim_max_depth (algorithm, algorithm_name, x_train, y_train, x_test, y_test, depth_min, depth_max, n_estimator):\n",
    "    train_score = []\n",
    "    test_score = []\n",
    "    forest_depth = [depth for depth in range(depth_min, depth_max)]\n",
    "    for v_max_depth in forest_depth:\n",
    "        model = algorithm(max_depth = v_max_depth,n_estimators = n_estimator,random_state=613)\n",
    "        model.fit(x_train, y_train)\n",
    "        train_score.append(model.score(x_train, y_train))\n",
    "        test_score.append(model.score(x_test, y_test))\n",
    "    df_score= pd.DataFrame({'depth': forest_depth, 'TrainScore': train_score, 'TestScore': test_score})\n",
    "    print(round(df_score, 4))"
   ]
  },
  {
   "cell_type": "code",
   "execution_count": 43,
   "id": "f0847fdb",
   "metadata": {
    "collapsed": true
   },
   "outputs": [],
   "source": [
    "def optim_min_split (algorithm, algorithm_name, x_train, y_train, x_test, y_test, n_split_min, n_split_max, n_estimator, n_depth):\n",
    "    train_score = []\n",
    "    test_score = []\n",
    "    forest_split = [n_split*2 for n_split in range(n_split_min, n_split_max)]\n",
    "    for v_min_samples_split in forest_split:\n",
    "        model = algorithm(min_samples_split = v_min_samples_split,\n",
    "                          n_estimators = n_estimator,\n",
    "                          max_depth = n_depth,\n",
    "                          random_state = 1234)\n",
    "        model.fit(x_train, y_train)\n",
    "        train_score.append(model.score(x_train, y_train))\n",
    "        test_score.append(model.score(x_test, y_test))\n",
    "    df_score= pd.DataFrame({'min_samples_split': forest_split, 'TrainScore': train_score, 'TestScore': test_score})\n",
    "    print(round(df_score, 4))"
   ]
  },
  {
   "cell_type": "code",
   "execution_count": 44,
   "id": "be6857bf",
   "metadata": {
    "collapsed": true
   },
   "outputs": [],
   "source": [
    "def optim_min_leaf(algorithm, algorithm_name, x_train, y_train, x_test, y_test, n_leaf_min, n_leaf_max, n_estimator, n_depth, n_split):\n",
    "    train_score = []\n",
    "    test_score = []\n",
    "    forest_leaf = [n_leaf*2 for n_leaf in range(n_leaf_min, n_leaf_max)]\n",
    "    for v_min_samples_leaf in forest_leaf:\n",
    "        model = algorithm(min_samples_leaf = v_min_samples_leaf,\n",
    "                            n_estimators = n_estimator,\n",
    "                            max_depth = n_depth,\n",
    "                            min_samples_split = n_split,\n",
    "                            random_state=1234)\n",
    "        model.fit(x_train, y_train)\n",
    "        train_score.append(model.score(x_train, y_train))\n",
    "        test_score.append(model.score(x_test, y_test))\n",
    "    df_score= pd.DataFrame({'min_samples_leaf': forest_leaf, 'TrainScore': train_score, 'TestScore': test_score})\n",
    "    print(round(df_score, 4))"
   ]
  },
  {
   "cell_type": "code",
   "execution_count": 45,
   "id": "c66530f0",
   "metadata": {
    "collapsed": true
   },
   "outputs": [],
   "source": [
    "def model_final(algorithm, algorithm_name, feature_name, x_train, y_train, x_test, y_test, n_estimator, n_depth, n_split, n_leaf):\n",
    "    \n",
    "    model = algorithm(random_state = 1234, \n",
    "                      n_estimators = n_estimator, \n",
    "                      min_samples_leaf = n_leaf,\n",
    "                      min_samples_split = n_split, \n",
    "                      max_depth = n_depth)\n",
    "    # 모델 학습\n",
    "    model.fit(x_train, y_train)\n",
    "    # 모델 저장\n",
    "    model_path = 'model/'\n",
    "    model_filename = 'ASD__diagnosis' + algorithm_name + '.pkl'\n",
    "    #with open(model_path + model_filename, 'wb') as f:\n",
    "    #    pickle.dump(model, f)\n",
    "    #print(f\"최종 모델 저장 완료! 파일 경로: {model_path + model_filename}\\n\")\n",
    "    \n",
    "    # 최종 모델의 성능 평가\n",
    "    train_acc = model.score(x_train, y_train)\n",
    "    test_acc = model.score(x_test, y_test)\n",
    "    y_pred = model.predict(x_test)\n",
    "    print(f\"Accuracy: {accuracy_score(y_test, y_pred):.3f}\") # 정확도\n",
    "    print(f\"Precision: {precision_score(y_test, y_pred):.3f}\") # 정밀도\n",
    "    print(f\"Recall: {recall_score(y_test, y_pred):.3f}\") # 재현율\n",
    "    print(f\"F1-score: {f1_score(y_test, y_pred):.3f}\") # F1 스코어\n",
    "    # 변수 중요도 산출\n",
    "    dt_importance['Feature'] = feature_name # 설명변수 이름\n",
    "    dt_importance['Importance'] = model.feature_importances_ # 설명변수 중요도 산출\n",
    "    # 변수 중요도 내림차순 정렬\n",
    "    dt_importance.sort_values(\"Importance\", ascending = False, inplace = True)\n",
    "    print(dt_importance.round(3))\n",
    "    # 변수 중요도 시각화\n",
    "    coordinates = range(20) # 설명변수 개수만큼 bar 시각화\n",
    "    plt.barh(y = coordinates, width = dt_importance[\"Importance\"][:20])\n",
    "    plt.yticks(coordinates, dt_importance[\"Feature\"][:20]) # y축 눈금별 설명변수 이름 기입\n",
    "    plt.xlabel(\"Feature Importance\") # x축 이름\n",
    "    plt.ylabel(\"Features\") # y축 이름\n",
    "    #plt.savefig('figure/' + algorithm_name + '_feature_importance.png') # 변수 중요도 그래프 저장"
   ]
  },
  {
   "cell_type": "code",
   "execution_count": 46,
   "id": "3a667b81",
   "metadata": {
    "collapsed": true
   },
   "outputs": [
    {
     "name": "stdout",
     "output_type": "stream",
     "text": [
      "    n_estimators  TrainScore  TestScore\n",
      "0              5      0.9677     0.8198\n",
      "1             10      0.9782     0.8443\n",
      "2             15      0.9812     0.8606\n",
      "3             20      0.9817     0.8615\n",
      "4             25      0.9824     0.8695\n",
      "5             30      0.9824     0.8733\n",
      "6             35      0.9823     0.8752\n",
      "7             40      0.9825     0.8781\n",
      "8             45      0.9824     0.8841\n",
      "9             50      0.9825     0.8844\n",
      "10            55      0.9824     0.8851\n",
      "11            60      0.9825     0.8854\n",
      "12            65      0.9825     0.8879\n",
      "13            70      0.9825     0.8883\n",
      "14            75      0.9825     0.8879\n",
      "15            80      0.9825     0.8930\n",
      "16            85      0.9825     0.8902\n",
      "17            90      0.9825     0.8930\n",
      "18            95      0.9825     0.8927\n",
      "19           100      0.9825     0.8946\n",
      "20           105      0.9825     0.8962\n",
      "21           110      0.9825     0.8940\n",
      "22           115      0.9825     0.8962\n",
      "23           120      0.9825     0.8965\n",
      "24           125      0.9825     0.8962\n",
      "25           130      0.9825     0.8959\n",
      "26           135      0.9825     0.8972\n",
      "27           140      0.9825     0.8956\n",
      "28           145      0.9825     0.8962\n",
      "29           150      0.9825     0.8965\n"
     ]
    }
   ],
   "source": [
    "n_estimator_min = 1\n",
    "n_estimator_max = 31\n",
    "optim_n_estimator(algorithm, algorithm_name, \n",
    "                 x_overtrain, y_overtrain, x_overtest, y_overtest, \n",
    "                 n_estimator_min, n_estimator_max)"
   ]
  },
  {
   "cell_type": "code",
   "execution_count": 48,
   "id": "fe23bb92",
   "metadata": {
    "collapsed": true
   },
   "outputs": [],
   "source": [
    "n_estimator=135"
   ]
  },
  {
   "cell_type": "code",
   "execution_count": 49,
   "id": "b95de4cd",
   "metadata": {
    "collapsed": true
   },
   "outputs": [
    {
     "name": "stdout",
     "output_type": "stream",
     "text": [
      "    depth  TrainScore  TestScore\n",
      "0       1      0.6707     0.6746\n",
      "1       2      0.6771     0.6813\n",
      "2       3      0.6927     0.6944\n",
      "3       4      0.7040     0.7007\n",
      "4       5      0.7451     0.7268\n",
      "5       6      0.8054     0.7580\n",
      "6       7      0.8700     0.7797\n",
      "7       8      0.9127     0.8122\n",
      "8       9      0.9416     0.8278\n",
      "9      10      0.9585     0.8472\n",
      "10     11      0.9659     0.8555\n",
      "11     12      0.9711     0.8679\n",
      "12     13      0.9738     0.8771\n",
      "13     14      0.9758     0.8758\n",
      "14     15      0.9767     0.8765\n",
      "15     16      0.9772     0.8790\n",
      "16     17      0.9783     0.8781\n",
      "17     18      0.9787     0.8835\n",
      "18     19      0.9790     0.8851\n",
      "19     20      0.9794     0.8825\n"
     ]
    }
   ],
   "source": [
    "depth_min = 1\n",
    "depth_max = 21\n",
    "optim_max_depth(algorithm, algorithm_name, \n",
    "                x_overtrain, y_overtrain, x_overtest, y_overtest, \n",
    "                depth_min, depth_max, n_estimator)"
   ]
  },
  {
   "cell_type": "code",
   "execution_count": 50,
   "id": "fb41395b",
   "metadata": {
    "collapsed": true
   },
   "outputs": [],
   "source": [
    "n_depth=None\n",
    "n_estimator=135"
   ]
  },
  {
   "cell_type": "code",
   "execution_count": 51,
   "id": "422038ea",
   "metadata": {
    "collapsed": true
   },
   "outputs": [
    {
     "name": "stdout",
     "output_type": "stream",
     "text": [
      "    min_samples_split  TrainScore  TestScore\n",
      "0                   2      0.9825     0.8905\n",
      "1                   4      0.9806     0.8905\n",
      "2                   6      0.9790     0.8844\n",
      "3                   8      0.9787     0.8822\n",
      "4                  10      0.9786     0.8822\n",
      "5                  12      0.9784     0.8822\n",
      "6                  14      0.9771     0.8809\n",
      "7                  16      0.9779     0.8752\n",
      "8                  18      0.9760     0.8790\n",
      "9                  20      0.9754     0.8793\n",
      "10                 22      0.9749     0.8787\n",
      "11                 24      0.9733     0.8711\n",
      "12                 26      0.9728     0.8752\n",
      "13                 28      0.9716     0.8733\n",
      "14                 30      0.9711     0.8739\n",
      "15                 32      0.9707     0.8717\n",
      "16                 34      0.9694     0.8723\n",
      "17                 36      0.9679     0.8752\n",
      "18                 38      0.9667     0.8733\n",
      "19                 40      0.9677     0.8688\n",
      "20                 42      0.9666     0.8669\n",
      "21                 44      0.9648     0.8663\n",
      "22                 46      0.9630     0.8650\n",
      "23                 48      0.9633     0.8653\n",
      "24                 50      0.9615     0.8653\n",
      "25                 52      0.9617     0.8663\n",
      "26                 54      0.9612     0.8660\n",
      "27                 56      0.9603     0.8669\n",
      "28                 58      0.9597     0.8637\n",
      "29                 60      0.9600     0.8631\n",
      "30                 62      0.9563     0.8586\n",
      "31                 64      0.9574     0.8666\n",
      "32                 66      0.9573     0.8609\n",
      "33                 68      0.9561     0.8593\n",
      "34                 70      0.9514     0.8564\n",
      "35                 72      0.9528     0.8590\n",
      "36                 74      0.9526     0.8571\n",
      "37                 76      0.9507     0.8551\n",
      "38                 78      0.9509     0.8516\n",
      "39                 80      0.9509     0.8539\n",
      "40                 82      0.9484     0.8529\n",
      "41                 84      0.9465     0.8516\n",
      "42                 86      0.9464     0.8485\n",
      "43                 88      0.9461     0.8491\n",
      "44                 90      0.9471     0.8500\n",
      "45                 92      0.9449     0.8504\n",
      "46                 94      0.9430     0.8430\n",
      "47                 96      0.9421     0.8450\n",
      "48                 98      0.9408     0.8424\n",
      "49                100      0.9391     0.8465\n",
      "50                102      0.9393     0.8430\n",
      "51                104      0.9380     0.8405\n",
      "52                106      0.9398     0.8430\n",
      "53                108      0.9383     0.8456\n",
      "54                110      0.9363     0.8459\n",
      "55                112      0.9350     0.8411\n",
      "56                114      0.9335     0.8424\n",
      "57                116      0.9325     0.8411\n",
      "58                118      0.9335     0.8411\n",
      "59                120      0.9308     0.8405\n",
      "60                122      0.9292     0.8392\n",
      "61                124      0.9277     0.8392\n",
      "62                126      0.9282     0.8434\n",
      "63                128      0.9262     0.8370\n",
      "64                130      0.9249     0.8325\n",
      "65                132      0.9244     0.8367\n",
      "66                134      0.9222     0.8300\n",
      "67                136      0.9211     0.8262\n",
      "68                138      0.9217     0.8313\n",
      "69                140      0.9207     0.8325\n",
      "70                142      0.9203     0.8344\n",
      "71                144      0.9199     0.8300\n",
      "72                146      0.9178     0.8316\n",
      "73                148      0.9188     0.8300\n",
      "74                150      0.9168     0.8294\n",
      "75                152      0.9180     0.8265\n",
      "76                154      0.9144     0.8284\n",
      "77                156      0.9153     0.8262\n",
      "78                158      0.9163     0.8249\n",
      "79                160      0.9158     0.8192\n",
      "80                162      0.9127     0.8204\n",
      "81                164      0.9128     0.8188\n",
      "82                166      0.9112     0.8220\n",
      "83                168      0.9101     0.8198\n",
      "84                170      0.9073     0.8118\n",
      "85                172      0.9064     0.8153\n",
      "86                174      0.9065     0.8163\n",
      "87                176      0.9042     0.8157\n",
      "88                178      0.9043     0.8195\n",
      "89                180      0.9012     0.8153\n",
      "90                182      0.9015     0.8134\n",
      "91                184      0.9011     0.8198\n",
      "92                186      0.9008     0.8169\n",
      "93                188      0.9017     0.8185\n",
      "94                190      0.9012     0.8204\n",
      "95                192      0.8994     0.8185\n",
      "96                194      0.8982     0.8125\n",
      "97                196      0.8993     0.8150\n",
      "98                198      0.8971     0.8112\n",
      "99                200      0.8970     0.8115\n"
     ]
    }
   ],
   "source": [
    "n_split_min = 1\n",
    "n_split_max = 101\n",
    "# 데이터프레임 행 최대 100개까지 반드시 출력\n",
    "pd.set_option('display.max_row', 100)\n",
    "optim_min_split (algorithm, algorithm_name,\n",
    "                 x_overtrain, y_overtrain, x_overtest, y_overtest,\n",
    "                 n_split_min, n_split_max, n_estimator, n_depth)"
   ]
  },
  {
   "cell_type": "code",
   "execution_count": 52,
   "id": "235d4bfb",
   "metadata": {
    "collapsed": true
   },
   "outputs": [],
   "source": [
    "n_split=2\n",
    "n_depth=None\n",
    "n_estimator=135"
   ]
  },
  {
   "cell_type": "code",
   "execution_count": 53,
   "id": "7f8094e1",
   "metadata": {
    "collapsed": true
   },
   "outputs": [
    {
     "name": "stdout",
     "output_type": "stream",
     "text": [
      "    min_samples_leaf  TrainScore  TestScore\n",
      "0                  2      0.9769     0.8825\n",
      "1                  4      0.9716     0.8758\n",
      "2                  6      0.9678     0.8749\n",
      "3                  8      0.9629     0.8717\n",
      "4                 10      0.9591     0.8663\n",
      "5                 12      0.9548     0.8644\n",
      "6                 14      0.9506     0.8548\n",
      "7                 16      0.9486     0.8485\n",
      "8                 18      0.9436     0.8424\n",
      "9                 20      0.9385     0.8427\n",
      "10                22      0.9360     0.8383\n",
      "11                24      0.9329     0.8402\n",
      "12                26      0.9296     0.8319\n",
      "13                28      0.9217     0.8271\n",
      "14                30      0.9206     0.8294\n",
      "15                32      0.9180     0.8220\n",
      "16                34      0.9106     0.8300\n",
      "17                36      0.9053     0.8160\n",
      "18                38      0.9009     0.8131\n",
      "19                40      0.8977     0.8099\n",
      "20                42      0.8945     0.8087\n",
      "21                44      0.8912     0.8080\n",
      "22                46      0.8877     0.8045\n",
      "23                48      0.8826     0.7956\n",
      "24                50      0.8807     0.8039\n",
      "25                52      0.8745     0.7959\n",
      "26                54      0.8727     0.7931\n",
      "27                56      0.8669     0.7908\n",
      "28                58      0.8634     0.7934\n",
      "29                60      0.8575     0.7905\n",
      "30                62      0.8578     0.7883\n",
      "31                64      0.8563     0.7857\n",
      "32                66      0.8523     0.7838\n",
      "33                68      0.8446     0.7832\n",
      "34                70      0.8424     0.7778\n",
      "35                72      0.8382     0.7787\n",
      "36                74      0.8356     0.7736\n",
      "37                76      0.8330     0.7730\n",
      "38                78      0.8319     0.7714\n",
      "39                80      0.8291     0.7701\n",
      "40                82      0.8256     0.7701\n",
      "41                84      0.8219     0.7695\n",
      "42                86      0.8248     0.7711\n",
      "43                88      0.8196     0.7701\n",
      "44                90      0.8192     0.7650\n",
      "45                92      0.8173     0.7644\n",
      "46                94      0.8155     0.7673\n",
      "47                96      0.8091     0.7619\n",
      "48                98      0.8061     0.7638\n",
      "49               100      0.8035     0.7619\n"
     ]
    }
   ],
   "source": [
    "n_leaf_min = 1\n",
    "n_leaf_max = 51\n",
    "optim_min_leaf(algorithm, algorithm_name, \n",
    "               x_overtrain, y_overtrain, x_overtest, y_overtest, \n",
    "               n_leaf_min, n_leaf_max, n_estimator, n_depth, n_split)"
   ]
  },
  {
   "cell_type": "code",
   "execution_count": 54,
   "id": "9553d9e3",
   "metadata": {
    "collapsed": true
   },
   "outputs": [],
   "source": [
    "n_leaf=1\n",
    "n_split=2\n",
    "n_depth=None\n",
    "n_estimator=135"
   ]
  },
  {
   "cell_type": "code",
   "execution_count": 55,
   "id": "2cbf72a7",
   "metadata": {
    "collapsed": true
   },
   "outputs": [],
   "source": [
    "feature_name=x.columns"
   ]
  },
  {
   "cell_type": "code",
   "execution_count": 58,
   "id": "031238dd",
   "metadata": {
    "collapsed": true
   },
   "outputs": [
    {
     "name": "stdout",
     "output_type": "stream",
     "text": [
      "Accuracy: 0.895\n",
      "Precision: 0.897\n",
      "Recall: 0.888\n",
      "F1-score: 0.892\n",
      "      Feature  Importance\n",
      "352  hsa05418       0.014\n",
      "314  hsa05205       0.014\n",
      "310  hsa05200       0.014\n",
      "275  hsa05022       0.013\n",
      "85   hsa01100       0.013\n",
      "..        ...         ...\n",
      "23   hsa00290       0.000\n",
      "35   hsa00470       0.000\n",
      "72   hsa00780       0.000\n",
      "73   hsa00785       0.000\n",
      "224  hsa04814       0.000\n",
      "\n",
      "[353 rows x 2 columns]\n"
     ]
    },
    {
     "data": {
      "image/png": "[encoded data removed]",
      "text/plain": [
       "<Figure size 640x480 with 1 Axes>"
      ]
     },
     "metadata": {},
     "output_type": "display_data"
    }
   ],
   "source": [
    "dt_importance=pd.DataFrame()\n",
    "model_final(algorithm, algorithm_name, feature_name,\n",
    "            x_overtrain, y_overtrain, x_overtest, y_overtest,\n",
    "            n_estimator, n_depth, n_split, n_leaf)"
   ]
  },
  {
   "cell_type": "code",
   "execution_count": 55,
   "id": "0e54e056",
   "metadata": {
    "collapsed": true
   },
   "outputs": [
    {
     "data": {
      "text/plain": [
       "Index(['hsa00010', 'hsa00020', 'hsa00030', 'hsa00040', 'hsa00051', 'hsa00052',\n",
       "       'hsa00053', 'hsa00061', 'hsa00062', 'hsa00071',\n",
       "       ...\n",
       "       'hsa05332', 'hsa05340', 'hsa05410', 'hsa05412', 'hsa05414', 'hsa05415',\n",
       "       'hsa05416', 'hsa05417', 'hsa05418', 'rowsum'],\n",
       "      dtype='object', length=354)"
      ]
     },
     "execution_count": 55,
     "metadata": {},
     "output_type": "execute_result"
    }
   ],
   "source": [
    "x.columns"
   ]
  },
  {
   "cell_type": "code",
   "execution_count": 15,
   "id": "8f26d987",
   "metadata": {
    "collapsed": true
   },
   "outputs": [],
   "source": [
    "ada = ADASYN()\n",
    "x = pathway[pathway.columns.difference(['phenotype'])]\n",
    "y = pathway['phenotype']\n",
    "X_resampled, y_resampled = ada.fit_resample(x, y)\n",
    "scaler = StandardScaler()\n",
    "x_overscaled = scaler.fit_transform(X_resampled)\n",
    "x_overtrain, x_overtest, y_overtrain, y_overtest = train_test_split(x_overscaled, y_resampled, \n",
    "                                                    test_size = 0.2, random_state = 123)"
   ]
  },
  {
   "cell_type": "code",
   "execution_count": 38,
   "id": "65f0ab7e",
   "metadata": {
    "collapsed": true
   },
   "outputs": [
    {
     "name": "stdout",
     "output_type": "stream",
     "text": [
      "Accuracy: 0.889\n",
      "Precision: 0.892\n",
      "Recall: 0.873\n",
      "F1-score: 0.882\n",
      "      Feature  Importance\n",
      "310  hsa05200       0.014\n",
      "275  hsa05022       0.014\n",
      "314  hsa05205       0.013\n",
      "274  hsa05020       0.012\n",
      "85   hsa01100       0.012\n",
      "..        ...         ...\n",
      "23   hsa00290       0.000\n",
      "72   hsa00780       0.000\n",
      "35   hsa00470       0.000\n",
      "73   hsa00785       0.000\n",
      "224  hsa04814       0.000\n",
      "\n",
      "[353 rows x 2 columns]\n"
     ]
    },
    {
     "data": {
      "image/png": "[encoded data removed]",
      "text/plain": [
       "<Figure size 640x480 with 1 Axes>"
      ]
     },
     "metadata": {},
     "output_type": "display_data"
    }
   ],
   "source": [
    "dt_importance=pd.DataFrame()\n",
    "model_final(algorithm, algorithm_name, feature_name,\n",
    "            x_overtrain, y_overtrain, x_overtest, y_overtest,\n",
    "            n_estimator, n_depth, n_split, n_leaf)"
   ]
  },
  {
   "cell_type": "code",
   "execution_count": 15,
   "id": "cd5d2b13",
   "metadata": {
    "collapsed": true
   },
   "outputs": [
    {
     "ename": "NameError",
     "evalue": "name 'x_overtrain_re' is not defined",
     "output_type": "error",
     "traceback": [
      "\u001b[0;31m---------------------------------------------------------------------------\u001b[0m",
      "\u001b[0;31mNameError\u001b[0m                                 Traceback (most recent call last)",
      "\u001b[0;32m/var/folders/cn/cfs3s7gn76b7lv5q1ghlym9r0000gn/T/ipykernel_15856/54016427.py\u001b[0m in \u001b[0;36m<module>\u001b[0;34m\u001b[0m\n\u001b[0;32m----> 1\u001b[0;31m \u001b[0mnewx_train\u001b[0m\u001b[0;34m=\u001b[0m\u001b[0mx_overtrain\u001b[0m\u001b[0;34m+\u001b[0m\u001b[0mx_overtrain_re\u001b[0m\u001b[0;34m\u001b[0m\u001b[0;34m\u001b[0m\u001b[0m\n\u001b[0m\u001b[1;32m      2\u001b[0m \u001b[0mnewx_test\u001b[0m\u001b[0;34m=\u001b[0m\u001b[0mx_overtest\u001b[0m\u001b[0;34m+\u001b[0m\u001b[0mx_overtest_re\u001b[0m\u001b[0;34m\u001b[0m\u001b[0;34m\u001b[0m\u001b[0m\n",
      "\u001b[0;31mNameError\u001b[0m: name 'x_overtrain_re' is not defined"
     ]
    }
   ],
   "source": [
    "newx_train=x_overtrain+x_overtrain_re\n",
    "newx_test=x_overtest+x_overtest_re"
   ]
  },
  {
   "cell_type": "code",
   "execution_count": 16,
   "id": "4adc1da2",
   "metadata": {
    "collapsed": true
   },
   "outputs": [
    {
     "data": {
      "text/plain": [
       "array([[-0.19810921, -0.12503066, -0.14884875, ..., -0.28498   ,\n",
       "        -0.43293267, -0.34546524],\n",
       "       [-0.19810921, -0.12503066, -0.14884875, ..., -0.28498   ,\n",
       "        -0.43293267, -0.34546524],\n",
       "       [-0.19810921, -0.12503066, -0.14884875, ..., -0.28498   ,\n",
       "        -0.43293267, -0.34546524],\n",
       "       ...,\n",
       "       [-0.19810921, -0.12503066, -0.14884875, ..., -0.28498   ,\n",
       "        -0.43293267, -0.34546524],\n",
       "       [-0.19810921, -0.12503066, -0.14884875, ..., -0.28498   ,\n",
       "        -0.43293267, -0.34546524],\n",
       "       [-0.19810921, -0.12503066, -0.14884875, ..., -0.28498   ,\n",
       "        -0.43293267, -0.34546524]])"
      ]
     },
     "execution_count": 16,
     "metadata": {},
     "output_type": "execute_result"
    }
   ],
   "source": [
    "x_overtrain+x_overtrain"
   ]
  },
  {
   "cell_type": "code",
   "execution_count": 29,
   "id": "5ac647d9",
   "metadata": {
    "collapsed": true
   },
   "outputs": [
    {
     "data": {
      "text/plain": [
       "(11306, 29)"
      ]
     },
     "execution_count": 29,
     "metadata": {},
     "output_type": "execute_result"
    }
   ],
   "source": [
    "x_overtrain.shape"
   ]
  },
  {
   "cell_type": "code",
   "execution_count": 57,
   "id": "6c6d4904",
   "metadata": {
    "collapsed": true
   },
   "outputs": [],
   "source": [
    "importance=dt_importance['Feature']"
   ]
  },
  {
   "cell_type": "code",
   "execution_count": null,
   "id": "05f00fc3",
   "metadata": {
    "collapsed": true
   },
   "outputs": [],
   "source": []
  },
  {
   "cell_type": "code",
   "execution_count": 31,
   "id": "0da0be1a",
   "metadata": {
    "collapsed": true
   },
   "outputs": [
    {
     "data": {
      "text/plain": [
       "0.0    5252\n",
       "1.0    4902\n",
       "Name: phenotype, dtype: int64"
      ]
     },
     "execution_count": 31,
     "metadata": {},
     "output_type": "execute_result"
    }
   ],
   "source": [
    "y_overtrain.value_counts()"
   ]
  },
  {
   "cell_type": "code",
   "execution_count": 35,
   "id": "3c7ced1b",
   "metadata": {
    "collapsed": true
   },
   "outputs": [
    {
     "name": "stdout",
     "output_type": "stream",
     "text": [
      "Accuracy: 0.827\n",
      "Precision: 0.799\n",
      "Recall: 0.863\n",
      "F1-score: 0.830\n",
      "          Feature  Importance\n",
      "3   R-HSA-1430728       0.054\n",
      "9   R-HSA-1643685       0.054\n",
      "12   R-HSA-382551       0.052\n",
      "1    R-HSA-112316       0.051\n",
      "27  R-HSA-9709957       0.050\n",
      "7    R-HSA-162582       0.049\n",
      "2   R-HSA-1266738       0.047\n",
      "21    R-HSA-74160       0.037\n",
      "28  R-HSA-9748784       0.036\n",
      "25  R-HSA-9609507       0.036\n",
      "10   R-HSA-168256       0.035\n",
      "18  R-HSA-5653656       0.034\n",
      "0    R-HSA-109582       0.034\n",
      "13   R-HSA-392499       0.034\n",
      "4   R-HSA-1474165       0.032\n",
      "14   R-HSA-397014       0.032\n",
      "16  R-HSA-4839726       0.031\n",
      "23  R-HSA-8953897       0.030\n",
      "11  R-HSA-1852241       0.030\n",
      "8   R-HSA-1640170       0.030\n",
      "5   R-HSA-1474244       0.029\n",
      "22  R-HSA-8953854       0.029\n",
      "6   R-HSA-1500931       0.029\n",
      "17  R-HSA-5357801       0.027\n",
      "15   R-HSA-400253       0.023\n",
      "20    R-HSA-73894       0.022\n",
      "26  R-HSA-9612973       0.022\n",
      "19    R-HSA-69306       0.018\n",
      "24  R-HSA-8963743       0.011\n"
     ]
    },
    {
     "ename": "FileNotFoundError",
     "evalue": "[Errno 2] No such file or directory: 'figure/rfc_feature_importance.png'",
     "output_type": "error",
     "traceback": [
      "\u001b[0;31m---------------------------------------------------------------------------\u001b[0m",
      "\u001b[0;31mFileNotFoundError\u001b[0m                         Traceback (most recent call last)",
      "\u001b[0;32m/var/folders/cn/cfs3s7gn76b7lv5q1ghlym9r0000gn/T/ipykernel_91986/3853564193.py\u001b[0m in \u001b[0;36m<module>\u001b[0;34m\u001b[0m\n\u001b[1;32m      1\u001b[0m \u001b[0mdt_importance\u001b[0m\u001b[0;34m=\u001b[0m\u001b[0mpd\u001b[0m\u001b[0;34m.\u001b[0m\u001b[0mDataFrame\u001b[0m\u001b[0;34m(\u001b[0m\u001b[0;34m)\u001b[0m\u001b[0;34m\u001b[0m\u001b[0;34m\u001b[0m\u001b[0m\n\u001b[0;32m----> 2\u001b[0;31m model_final(algorithm, algorithm_name, feature_name,\n\u001b[0m\u001b[1;32m      3\u001b[0m             \u001b[0mx_overtrain_re\u001b[0m\u001b[0;34m,\u001b[0m \u001b[0my_overtrain_re\u001b[0m\u001b[0;34m,\u001b[0m \u001b[0mx_overtest_re\u001b[0m\u001b[0;34m,\u001b[0m \u001b[0my_overtest_re\u001b[0m\u001b[0;34m,\u001b[0m\u001b[0;34m\u001b[0m\u001b[0;34m\u001b[0m\u001b[0m\n\u001b[1;32m      4\u001b[0m             n_estimator, n_depth, n_split, n_leaf)\n",
      "\u001b[0;32m/var/folders/cn/cfs3s7gn76b7lv5q1ghlym9r0000gn/T/ipykernel_91986/3331770251.py\u001b[0m in \u001b[0;36mmodel_final\u001b[0;34m(algorithm, algorithm_name, feature_name, x_train, y_train, x_test, y_test, n_estimator, n_depth, n_split, n_leaf)\u001b[0m\n\u001b[1;32m     35\u001b[0m     \u001b[0mplt\u001b[0m\u001b[0;34m.\u001b[0m\u001b[0mxlabel\u001b[0m\u001b[0;34m(\u001b[0m\u001b[0;34m\"Feature Importance\"\u001b[0m\u001b[0;34m)\u001b[0m \u001b[0;31m# x축 이름\u001b[0m\u001b[0;34m\u001b[0m\u001b[0;34m\u001b[0m\u001b[0m\n\u001b[1;32m     36\u001b[0m     \u001b[0mplt\u001b[0m\u001b[0;34m.\u001b[0m\u001b[0mylabel\u001b[0m\u001b[0;34m(\u001b[0m\u001b[0;34m\"Features\"\u001b[0m\u001b[0;34m)\u001b[0m \u001b[0;31m# y축 이름\u001b[0m\u001b[0;34m\u001b[0m\u001b[0;34m\u001b[0m\u001b[0m\n\u001b[0;32m---> 37\u001b[0;31m     \u001b[0mplt\u001b[0m\u001b[0;34m.\u001b[0m\u001b[0msavefig\u001b[0m\u001b[0;34m(\u001b[0m\u001b[0;34m'figure/'\u001b[0m \u001b[0;34m+\u001b[0m \u001b[0malgorithm_name\u001b[0m \u001b[0;34m+\u001b[0m \u001b[0;34m'_feature_importance.png'\u001b[0m\u001b[0;34m)\u001b[0m \u001b[0;31m# 변수 중요도 그래프 저장\u001b[0m\u001b[0;34m\u001b[0m\u001b[0;34m\u001b[0m\u001b[0m\n\u001b[0m",
      "\u001b[0;32m~/opt/anaconda3/lib/python3.9/site-packages/matplotlib/pyplot.py\u001b[0m in \u001b[0;36msavefig\u001b[0;34m(*args, **kwargs)\u001b[0m\n\u001b[1;32m    977\u001b[0m \u001b[0;32mdef\u001b[0m \u001b[0msavefig\u001b[0m\u001b[0;34m(\u001b[0m\u001b[0;34m*\u001b[0m\u001b[0margs\u001b[0m\u001b[0;34m,\u001b[0m \u001b[0;34m**\u001b[0m\u001b[0mkwargs\u001b[0m\u001b[0;34m)\u001b[0m\u001b[0;34m:\u001b[0m\u001b[0;34m\u001b[0m\u001b[0;34m\u001b[0m\u001b[0m\n\u001b[1;32m    978\u001b[0m     \u001b[0mfig\u001b[0m \u001b[0;34m=\u001b[0m \u001b[0mgcf\u001b[0m\u001b[0;34m(\u001b[0m\u001b[0;34m)\u001b[0m\u001b[0;34m\u001b[0m\u001b[0;34m\u001b[0m\u001b[0m\n\u001b[0;32m--> 979\u001b[0;31m     \u001b[0mres\u001b[0m \u001b[0;34m=\u001b[0m \u001b[0mfig\u001b[0m\u001b[0;34m.\u001b[0m\u001b[0msavefig\u001b[0m\u001b[0;34m(\u001b[0m\u001b[0;34m*\u001b[0m\u001b[0margs\u001b[0m\u001b[0;34m,\u001b[0m \u001b[0;34m**\u001b[0m\u001b[0mkwargs\u001b[0m\u001b[0;34m)\u001b[0m\u001b[0;34m\u001b[0m\u001b[0;34m\u001b[0m\u001b[0m\n\u001b[0m\u001b[1;32m    980\u001b[0m     \u001b[0mfig\u001b[0m\u001b[0;34m.\u001b[0m\u001b[0mcanvas\u001b[0m\u001b[0;34m.\u001b[0m\u001b[0mdraw_idle\u001b[0m\u001b[0;34m(\u001b[0m\u001b[0;34m)\u001b[0m   \u001b[0;31m# need this if 'transparent=True' to reset colors\u001b[0m\u001b[0;34m\u001b[0m\u001b[0;34m\u001b[0m\u001b[0m\n\u001b[1;32m    981\u001b[0m     \u001b[0;32mreturn\u001b[0m \u001b[0mres\u001b[0m\u001b[0;34m\u001b[0m\u001b[0;34m\u001b[0m\u001b[0m\n",
      "\u001b[0;32m~/opt/anaconda3/lib/python3.9/site-packages/matplotlib/figure.py\u001b[0m in \u001b[0;36msavefig\u001b[0;34m(self, fname, transparent, **kwargs)\u001b[0m\n\u001b[1;32m   3044\u001b[0m                         ax.patch._cm_set(facecolor='none', edgecolor='none'))\n\u001b[1;32m   3045\u001b[0m \u001b[0;34m\u001b[0m\u001b[0m\n\u001b[0;32m-> 3046\u001b[0;31m             \u001b[0mself\u001b[0m\u001b[0;34m.\u001b[0m\u001b[0mcanvas\u001b[0m\u001b[0;34m.\u001b[0m\u001b[0mprint_figure\u001b[0m\u001b[0;34m(\u001b[0m\u001b[0mfname\u001b[0m\u001b[0;34m,\u001b[0m \u001b[0;34m**\u001b[0m\u001b[0mkwargs\u001b[0m\u001b[0;34m)\u001b[0m\u001b[0;34m\u001b[0m\u001b[0;34m\u001b[0m\u001b[0m\n\u001b[0m\u001b[1;32m   3047\u001b[0m \u001b[0;34m\u001b[0m\u001b[0m\n\u001b[1;32m   3048\u001b[0m     def ginput(self, n=1, timeout=30, show_clicks=True,\n",
      "\u001b[0;32m~/opt/anaconda3/lib/python3.9/site-packages/matplotlib/backend_bases.py\u001b[0m in \u001b[0;36mprint_figure\u001b[0;34m(self, filename, dpi, facecolor, edgecolor, orientation, format, bbox_inches, pad_inches, bbox_extra_artists, backend, **kwargs)\u001b[0m\n\u001b[1;32m   2317\u001b[0m                 \u001b[0;31m# force the figure dpi to 72), so we need to set it again here.\u001b[0m\u001b[0;34m\u001b[0m\u001b[0;34m\u001b[0m\u001b[0m\n\u001b[1;32m   2318\u001b[0m                 \u001b[0;32mwith\u001b[0m \u001b[0mcbook\u001b[0m\u001b[0;34m.\u001b[0m\u001b[0m_setattr_cm\u001b[0m\u001b[0;34m(\u001b[0m\u001b[0mself\u001b[0m\u001b[0;34m.\u001b[0m\u001b[0mfigure\u001b[0m\u001b[0;34m,\u001b[0m \u001b[0mdpi\u001b[0m\u001b[0;34m=\u001b[0m\u001b[0mdpi\u001b[0m\u001b[0;34m)\u001b[0m\u001b[0;34m:\u001b[0m\u001b[0;34m\u001b[0m\u001b[0;34m\u001b[0m\u001b[0m\n\u001b[0;32m-> 2319\u001b[0;31m                     result = print_method(\n\u001b[0m\u001b[1;32m   2320\u001b[0m                         \u001b[0mfilename\u001b[0m\u001b[0;34m,\u001b[0m\u001b[0;34m\u001b[0m\u001b[0;34m\u001b[0m\u001b[0m\n\u001b[1;32m   2321\u001b[0m                         \u001b[0mfacecolor\u001b[0m\u001b[0;34m=\u001b[0m\u001b[0mfacecolor\u001b[0m\u001b[0;34m,\u001b[0m\u001b[0;34m\u001b[0m\u001b[0;34m\u001b[0m\u001b[0m\n",
      "\u001b[0;32m~/opt/anaconda3/lib/python3.9/site-packages/matplotlib/backend_bases.py\u001b[0m in \u001b[0;36mwrapper\u001b[0;34m(*args, **kwargs)\u001b[0m\n\u001b[1;32m   1646\u001b[0m             \u001b[0mkwargs\u001b[0m\u001b[0;34m.\u001b[0m\u001b[0mpop\u001b[0m\u001b[0;34m(\u001b[0m\u001b[0marg\u001b[0m\u001b[0;34m)\u001b[0m\u001b[0;34m\u001b[0m\u001b[0;34m\u001b[0m\u001b[0m\n\u001b[1;32m   1647\u001b[0m \u001b[0;34m\u001b[0m\u001b[0m\n\u001b[0;32m-> 1648\u001b[0;31m         \u001b[0;32mreturn\u001b[0m \u001b[0mfunc\u001b[0m\u001b[0;34m(\u001b[0m\u001b[0;34m*\u001b[0m\u001b[0margs\u001b[0m\u001b[0;34m,\u001b[0m \u001b[0;34m**\u001b[0m\u001b[0mkwargs\u001b[0m\u001b[0;34m)\u001b[0m\u001b[0;34m\u001b[0m\u001b[0;34m\u001b[0m\u001b[0m\n\u001b[0m\u001b[1;32m   1649\u001b[0m \u001b[0;34m\u001b[0m\u001b[0m\n\u001b[1;32m   1650\u001b[0m     \u001b[0;32mreturn\u001b[0m \u001b[0mwrapper\u001b[0m\u001b[0;34m\u001b[0m\u001b[0;34m\u001b[0m\u001b[0m\n",
      "\u001b[0;32m~/opt/anaconda3/lib/python3.9/site-packages/matplotlib/_api/deprecation.py\u001b[0m in \u001b[0;36mwrapper\u001b[0;34m(*inner_args, **inner_kwargs)\u001b[0m\n\u001b[1;32m    413\u001b[0m                          \u001b[0;32melse\u001b[0m \u001b[0mdeprecation_addendum\u001b[0m\u001b[0;34m,\u001b[0m\u001b[0;34m\u001b[0m\u001b[0;34m\u001b[0m\u001b[0m\n\u001b[1;32m    414\u001b[0m                 **kwargs)\n\u001b[0;32m--> 415\u001b[0;31m         \u001b[0;32mreturn\u001b[0m \u001b[0mfunc\u001b[0m\u001b[0;34m(\u001b[0m\u001b[0;34m*\u001b[0m\u001b[0minner_args\u001b[0m\u001b[0;34m,\u001b[0m \u001b[0;34m**\u001b[0m\u001b[0minner_kwargs\u001b[0m\u001b[0;34m)\u001b[0m\u001b[0;34m\u001b[0m\u001b[0;34m\u001b[0m\u001b[0m\n\u001b[0m\u001b[1;32m    416\u001b[0m \u001b[0;34m\u001b[0m\u001b[0m\n\u001b[1;32m    417\u001b[0m     \u001b[0mDECORATORS\u001b[0m\u001b[0;34m[\u001b[0m\u001b[0mwrapper\u001b[0m\u001b[0;34m]\u001b[0m \u001b[0;34m=\u001b[0m \u001b[0mdecorator\u001b[0m\u001b[0;34m\u001b[0m\u001b[0;34m\u001b[0m\u001b[0m\n",
      "\u001b[0;32m~/opt/anaconda3/lib/python3.9/site-packages/matplotlib/backends/backend_agg.py\u001b[0m in \u001b[0;36mprint_png\u001b[0;34m(self, filename_or_obj, metadata, pil_kwargs, *args)\u001b[0m\n\u001b[1;32m    539\u001b[0m         \"\"\"\n\u001b[1;32m    540\u001b[0m         \u001b[0mFigureCanvasAgg\u001b[0m\u001b[0;34m.\u001b[0m\u001b[0mdraw\u001b[0m\u001b[0;34m(\u001b[0m\u001b[0mself\u001b[0m\u001b[0;34m)\u001b[0m\u001b[0;34m\u001b[0m\u001b[0;34m\u001b[0m\u001b[0m\n\u001b[0;32m--> 541\u001b[0;31m         mpl.image.imsave(\n\u001b[0m\u001b[1;32m    542\u001b[0m             \u001b[0mfilename_or_obj\u001b[0m\u001b[0;34m,\u001b[0m \u001b[0mself\u001b[0m\u001b[0;34m.\u001b[0m\u001b[0mbuffer_rgba\u001b[0m\u001b[0;34m(\u001b[0m\u001b[0;34m)\u001b[0m\u001b[0;34m,\u001b[0m \u001b[0mformat\u001b[0m\u001b[0;34m=\u001b[0m\u001b[0;34m\"png\"\u001b[0m\u001b[0;34m,\u001b[0m \u001b[0morigin\u001b[0m\u001b[0;34m=\u001b[0m\u001b[0;34m\"upper\"\u001b[0m\u001b[0;34m,\u001b[0m\u001b[0;34m\u001b[0m\u001b[0;34m\u001b[0m\u001b[0m\n\u001b[1;32m    543\u001b[0m             dpi=self.figure.dpi, metadata=metadata, pil_kwargs=pil_kwargs)\n",
      "\u001b[0;32m~/opt/anaconda3/lib/python3.9/site-packages/matplotlib/image.py\u001b[0m in \u001b[0;36mimsave\u001b[0;34m(fname, arr, vmin, vmax, cmap, format, origin, dpi, metadata, pil_kwargs)\u001b[0m\n\u001b[1;32m   1673\u001b[0m         \u001b[0mpil_kwargs\u001b[0m\u001b[0;34m.\u001b[0m\u001b[0msetdefault\u001b[0m\u001b[0;34m(\u001b[0m\u001b[0;34m\"format\"\u001b[0m\u001b[0;34m,\u001b[0m \u001b[0mformat\u001b[0m\u001b[0;34m)\u001b[0m\u001b[0;34m\u001b[0m\u001b[0;34m\u001b[0m\u001b[0m\n\u001b[1;32m   1674\u001b[0m         \u001b[0mpil_kwargs\u001b[0m\u001b[0;34m.\u001b[0m\u001b[0msetdefault\u001b[0m\u001b[0;34m(\u001b[0m\u001b[0;34m\"dpi\"\u001b[0m\u001b[0;34m,\u001b[0m \u001b[0;34m(\u001b[0m\u001b[0mdpi\u001b[0m\u001b[0;34m,\u001b[0m \u001b[0mdpi\u001b[0m\u001b[0;34m)\u001b[0m\u001b[0;34m)\u001b[0m\u001b[0;34m\u001b[0m\u001b[0;34m\u001b[0m\u001b[0m\n\u001b[0;32m-> 1675\u001b[0;31m         \u001b[0mimage\u001b[0m\u001b[0;34m.\u001b[0m\u001b[0msave\u001b[0m\u001b[0;34m(\u001b[0m\u001b[0mfname\u001b[0m\u001b[0;34m,\u001b[0m \u001b[0;34m**\u001b[0m\u001b[0mpil_kwargs\u001b[0m\u001b[0;34m)\u001b[0m\u001b[0;34m\u001b[0m\u001b[0;34m\u001b[0m\u001b[0m\n\u001b[0m\u001b[1;32m   1676\u001b[0m \u001b[0;34m\u001b[0m\u001b[0m\n\u001b[1;32m   1677\u001b[0m \u001b[0;34m\u001b[0m\u001b[0m\n",
      "\u001b[0;32m~/opt/anaconda3/lib/python3.9/site-packages/PIL/Image.py\u001b[0m in \u001b[0;36msave\u001b[0;34m(self, fp, format, **params)\u001b[0m\n\u001b[1;32m   2315\u001b[0m                 \u001b[0mfp\u001b[0m \u001b[0;34m=\u001b[0m \u001b[0mbuiltins\u001b[0m\u001b[0;34m.\u001b[0m\u001b[0mopen\u001b[0m\u001b[0;34m(\u001b[0m\u001b[0mfilename\u001b[0m\u001b[0;34m,\u001b[0m \u001b[0;34m\"r+b\"\u001b[0m\u001b[0;34m)\u001b[0m\u001b[0;34m\u001b[0m\u001b[0;34m\u001b[0m\u001b[0m\n\u001b[1;32m   2316\u001b[0m             \u001b[0;32melse\u001b[0m\u001b[0;34m:\u001b[0m\u001b[0;34m\u001b[0m\u001b[0;34m\u001b[0m\u001b[0m\n\u001b[0;32m-> 2317\u001b[0;31m                 \u001b[0mfp\u001b[0m \u001b[0;34m=\u001b[0m \u001b[0mbuiltins\u001b[0m\u001b[0;34m.\u001b[0m\u001b[0mopen\u001b[0m\u001b[0;34m(\u001b[0m\u001b[0mfilename\u001b[0m\u001b[0;34m,\u001b[0m \u001b[0;34m\"w+b\"\u001b[0m\u001b[0;34m)\u001b[0m\u001b[0;34m\u001b[0m\u001b[0;34m\u001b[0m\u001b[0m\n\u001b[0m\u001b[1;32m   2318\u001b[0m \u001b[0;34m\u001b[0m\u001b[0m\n\u001b[1;32m   2319\u001b[0m         \u001b[0;32mtry\u001b[0m\u001b[0;34m:\u001b[0m\u001b[0;34m\u001b[0m\u001b[0;34m\u001b[0m\u001b[0m\n",
      "\u001b[0;31mFileNotFoundError\u001b[0m: [Errno 2] No such file or directory: 'figure/rfc_feature_importance.png'"
     ]
    },
    {
     "data": {
      "image/png": "[encoded data removed]",
      "text/plain": [
       "<Figure size 640x480 with 1 Axes>"
      ]
     },
     "metadata": {},
     "output_type": "display_data"
    }
   ],
   "source": [
    "dt_importance=pd.DataFrame()\n",
    "model_final(algorithm, algorithm_name, feature_name,\n",
    "            x_overtrain_re, y_overtrain_re, x_overtest_re, y_overtest_re,\n",
    "            n_estimator, n_depth, n_split, n_leaf)"
   ]
  },
  {
   "cell_type": "markdown",
   "id": "e58222c8",
   "metadata": {},
   "source": [
    "<h1>Run Other Classifier<h1>\n",
    "    <h2>1.LogisticRegression<h2>"
   ]
  },
  {
   "cell_type": "code",
   "execution_count": 14,
   "id": "d4bd4811",
   "metadata": {
    "collapsed": true
   },
   "outputs": [
    {
     "name": "stdout",
     "output_type": "stream",
     "text": [
      "0.707876370887338\n"
     ]
    },
    {
     "name": "stderr",
     "output_type": "stream",
     "text": [
      "/Users/cjh/opt/anaconda3/lib/python3.9/site-packages/sklearn/linear_model/_logistic.py:814: ConvergenceWarning: lbfgs failed to converge (status=1):\n",
      "STOP: TOTAL NO. of ITERATIONS REACHED LIMIT.\n",
      "\n",
      "Increase the number of iterations (max_iter) or scale the data as shown in:\n",
      "    https://scikit-learn.org/stable/modules/preprocessing.html\n",
      "Please also refer to the documentation for alternative solver options:\n",
      "    https://scikit-learn.org/stable/modules/linear_model.html#logistic-regression\n",
      "  n_iter_i = _check_optimize_result(\n"
     ]
    }
   ],
   "source": [
    "from sklearn.linear_model import LogisticRegression\n",
    "lr = LogisticRegression(random_state=0)\n",
    "lr.fit(x_overtrain, y_overtrain)\n",
    "LogisticRegression(C=1.0, class_weight=None, dual=False, fit_intercept=True,\n",
    "                   intercept_scaling=1, l1_ratio=None, max_iter=100,\n",
    "                   multi_class='auto', n_jobs=None, penalty='l2',\n",
    "                   random_state=0, solver='lbfgs', tol=0.0001, verbose=0,\n",
    "                   warm_start=False)\n",
    "\n",
    "prediction = lr.predict(x_overtest)\n",
    "print((prediction == y_overtest).mean())"
   ]
  },
  {
   "cell_type": "code",
   "execution_count": 15,
   "id": "06fd66d1",
   "metadata": {
    "collapsed": true
   },
   "outputs": [
    {
     "ename": "NameError",
     "evalue": "name 'x_overtrain_re' is not defined",
     "output_type": "error",
     "traceback": [
      "\u001b[0;31m---------------------------------------------------------------------------\u001b[0m",
      "\u001b[0;31mNameError\u001b[0m                                 Traceback (most recent call last)",
      "\u001b[0;32m/var/folders/cn/cfs3s7gn76b7lv5q1ghlym9r0000gn/T/ipykernel_68974/3773383366.py\u001b[0m in \u001b[0;36m<module>\u001b[0;34m\u001b[0m\n\u001b[1;32m      1\u001b[0m \u001b[0;32mfrom\u001b[0m \u001b[0msklearn\u001b[0m\u001b[0;34m.\u001b[0m\u001b[0mlinear_model\u001b[0m \u001b[0;32mimport\u001b[0m \u001b[0mLogisticRegression\u001b[0m\u001b[0;34m\u001b[0m\u001b[0;34m\u001b[0m\u001b[0m\n\u001b[1;32m      2\u001b[0m \u001b[0mlr\u001b[0m \u001b[0;34m=\u001b[0m \u001b[0mLogisticRegression\u001b[0m\u001b[0;34m(\u001b[0m\u001b[0mrandom_state\u001b[0m\u001b[0;34m=\u001b[0m\u001b[0;36m0\u001b[0m\u001b[0;34m)\u001b[0m\u001b[0;34m\u001b[0m\u001b[0;34m\u001b[0m\u001b[0m\n\u001b[0;32m----> 3\u001b[0;31m \u001b[0mlr\u001b[0m\u001b[0;34m.\u001b[0m\u001b[0mfit\u001b[0m\u001b[0;34m(\u001b[0m\u001b[0mx_overtrain_re\u001b[0m\u001b[0;34m,\u001b[0m \u001b[0my_overtrain_re\u001b[0m\u001b[0;34m)\u001b[0m\u001b[0;34m\u001b[0m\u001b[0;34m\u001b[0m\u001b[0m\n\u001b[0m\u001b[1;32m      4\u001b[0m LogisticRegression(C=1.0, class_weight=None, dual=False, fit_intercept=True,\n\u001b[1;32m      5\u001b[0m                    \u001b[0mintercept_scaling\u001b[0m\u001b[0;34m=\u001b[0m\u001b[0;36m1\u001b[0m\u001b[0;34m,\u001b[0m \u001b[0ml1_ratio\u001b[0m\u001b[0;34m=\u001b[0m\u001b[0;32mNone\u001b[0m\u001b[0;34m,\u001b[0m \u001b[0mmax_iter\u001b[0m\u001b[0;34m=\u001b[0m\u001b[0;36m100\u001b[0m\u001b[0;34m,\u001b[0m\u001b[0;34m\u001b[0m\u001b[0;34m\u001b[0m\u001b[0m\n",
      "\u001b[0;31mNameError\u001b[0m: name 'x_overtrain_re' is not defined"
     ]
    }
   ],
   "source": [
    "from sklearn.linear_model import LogisticRegression\n",
    "lr = LogisticRegression(random_state=0)\n",
    "lr.fit(x_overtrain_re, y_overtrain_re)\n",
    "LogisticRegression(C=1.0, class_weight=None, dual=False, fit_intercept=True,\n",
    "                   intercept_scaling=1, l1_ratio=None, max_iter=100,\n",
    "                   multi_class='auto', n_jobs=None, penalty='l2',\n",
    "                   random_state=0, solver='lbfgs', tol=0.0001, verbose=0,\n",
    "                   warm_start=False)\n",
    "\n",
    "prediction = lr.predict(x_overtest_re)\n",
    "print((prediction == y_overtest_re).mean())"
   ]
  },
  {
   "cell_type": "markdown",
   "id": "cac917ba",
   "metadata": {},
   "source": [
    "<h2>2. SGD classifier<h2>"
   ]
  },
  {
   "cell_type": "code",
   "execution_count": 16,
   "id": "241ae954",
   "metadata": {
    "collapsed": true
   },
   "outputs": [
    {
     "ename": "NameError",
     "evalue": "name 'x_overtrain_re' is not defined",
     "output_type": "error",
     "traceback": [
      "\u001b[0;31m---------------------------------------------------------------------------\u001b[0m",
      "\u001b[0;31mNameError\u001b[0m                                 Traceback (most recent call last)",
      "\u001b[0;32m/var/folders/cn/cfs3s7gn76b7lv5q1ghlym9r0000gn/T/ipykernel_68974/2020544584.py\u001b[0m in \u001b[0;36m<module>\u001b[0;34m\u001b[0m\n\u001b[1;32m      1\u001b[0m \u001b[0;32mfrom\u001b[0m \u001b[0msklearn\u001b[0m\u001b[0;34m.\u001b[0m\u001b[0mlinear_model\u001b[0m \u001b[0;32mimport\u001b[0m \u001b[0mSGDClassifier\u001b[0m\u001b[0;34m\u001b[0m\u001b[0;34m\u001b[0m\u001b[0m\n\u001b[1;32m      2\u001b[0m \u001b[0msgd\u001b[0m \u001b[0;34m=\u001b[0m \u001b[0mSGDClassifier\u001b[0m\u001b[0;34m(\u001b[0m\u001b[0mrandom_state\u001b[0m\u001b[0;34m=\u001b[0m\u001b[0;36m0\u001b[0m\u001b[0;34m)\u001b[0m\u001b[0;34m\u001b[0m\u001b[0;34m\u001b[0m\u001b[0m\n\u001b[0;32m----> 3\u001b[0;31m \u001b[0msgd\u001b[0m\u001b[0;34m.\u001b[0m\u001b[0mfit\u001b[0m\u001b[0;34m(\u001b[0m\u001b[0mx_overtrain_re\u001b[0m\u001b[0;34m,\u001b[0m \u001b[0my_overtrain_re\u001b[0m\u001b[0;34m)\u001b[0m\u001b[0;34m\u001b[0m\u001b[0;34m\u001b[0m\u001b[0m\n\u001b[0m\u001b[1;32m      4\u001b[0m SGDClassifier(alpha=0.0001, average=False, class_weight=None,\n\u001b[1;32m      5\u001b[0m               \u001b[0mearly_stopping\u001b[0m\u001b[0;34m=\u001b[0m\u001b[0;32mFalse\u001b[0m\u001b[0;34m,\u001b[0m \u001b[0mepsilon\u001b[0m\u001b[0;34m=\u001b[0m\u001b[0;36m0.1\u001b[0m\u001b[0;34m,\u001b[0m \u001b[0meta0\u001b[0m\u001b[0;34m=\u001b[0m\u001b[0;36m0.0\u001b[0m\u001b[0;34m,\u001b[0m \u001b[0mfit_intercept\u001b[0m\u001b[0;34m=\u001b[0m\u001b[0;32mTrue\u001b[0m\u001b[0;34m,\u001b[0m\u001b[0;34m\u001b[0m\u001b[0;34m\u001b[0m\u001b[0m\n",
      "\u001b[0;31mNameError\u001b[0m: name 'x_overtrain_re' is not defined"
     ]
    }
   ],
   "source": [
    "from sklearn.linear_model import SGDClassifier\n",
    "sgd = SGDClassifier(random_state=0)\n",
    "sgd.fit(x_overtrain_re, y_overtrain_re)\n",
    "SGDClassifier(alpha=0.0001, average=False, class_weight=None,\n",
    "              early_stopping=False, epsilon=0.1, eta0=0.0, fit_intercept=True,\n",
    "              l1_ratio=0.15, learning_rate='optimal', loss='hinge',\n",
    "              max_iter=1000, n_iter_no_change=5, n_jobs=None, penalty='l2',\n",
    "              power_t=0.5, random_state=0, shuffle=True, tol=0.001,\n",
    "              validation_fraction=0.1, verbose=0, warm_start=False)\n",
    "prediction = sgd.predict(x_overtest_re)\n",
    "print((prediction == y_overtest_re).mean())\n"
   ]
  },
  {
   "cell_type": "code",
   "execution_count": 35,
   "id": "5d8da51a",
   "metadata": {
    "collapsed": true
   },
   "outputs": [
    {
     "name": "stdout",
     "output_type": "stream",
     "text": [
      "0.6366806136680614\n"
     ]
    }
   ],
   "source": [
    "from sklearn.linear_model import SGDClassifier\n",
    "sgd = SGDClassifier(random_state=0)\n",
    "sgd.fit(x_overtrain, y_overtrain)\n",
    "SGDClassifier(alpha=0.0001, average=False, class_weight=None,\n",
    "              early_stopping=False, epsilon=0.1, eta0=0.0, fit_intercept=True,\n",
    "              l1_ratio=0.15, learning_rate='optimal', loss='hinge',\n",
    "              max_iter=1000, n_iter_no_change=5, n_jobs=None, penalty='l2',\n",
    "              power_t=0.5, random_state=0, shuffle=True, tol=0.001,\n",
    "              validation_fraction=0.1, verbose=0, warm_start=False)\n",
    "prediction = sgd.predict(x_overtest)\n",
    "print((prediction == y_overtest).mean())\n"
   ]
  },
  {
   "cell_type": "markdown",
   "id": "e3e55efc",
   "metadata": {},
   "source": [
    "<h2>3.K-N Classifier<h2>"
   ]
  },
  {
   "cell_type": "code",
   "execution_count": 294,
   "id": "7d441eb2",
   "metadata": {
    "collapsed": true
   },
   "outputs": [
    {
     "name": "stdout",
     "output_type": "stream",
     "text": [
      "0.659846547314578\n",
      "0.6567840948726892\n"
     ]
    }
   ],
   "source": [
    "from sklearn.neighbors import KNeighborsClassifier\n",
    "knn = KNeighborsClassifier(n_neighbors=9)\n",
    "knn.fit(x_overtrain, y_overtrain)  \n",
    "KNeighborsClassifier(algorithm='auto', leaf_size=30, metric='minkowski',\n",
    "                     metric_params=None, n_jobs=None, n_neighbors=5, p=2,\n",
    "                     weights='uniform')\n",
    "\n",
    "prediction = knn.predict(x_overtest)\n",
    "print((prediction == y_overtest).mean())\n",
    "knn2 = KNeighborsClassifier(n_neighbors=9)\n",
    "knn2.fit(x_overtrain2, y_overtrain2)  \n",
    "KNeighborsClassifier(algorithm='auto', leaf_size=30, metric='minkowski',\n",
    "                     metric_params=None, n_jobs=None, n_neighbors=5, p=2,\n",
    "                     weights='uniform')\n",
    "\n",
    "prediction = knn2.predict(x_overtest2)\n",
    "print((prediction == y_overtest2).mean())"
   ]
  },
  {
   "cell_type": "code",
   "execution_count": 33,
   "id": "54857a7a",
   "metadata": {
    "collapsed": true
   },
   "outputs": [
    {
     "name": "stdout",
     "output_type": "stream",
     "text": [
      "0.6947293951185002\n"
     ]
    },
    {
     "name": "stderr",
     "output_type": "stream",
     "text": [
      "/Users/cjh/opt/anaconda3/lib/python3.9/site-packages/sklearn/neighbors/_classification.py:228: FutureWarning: Unlike other reduction functions (e.g. `skew`, `kurtosis`), the default behavior of `mode` typically preserves the axis it acts along. In SciPy 1.11.0, this behavior will change: the default value of `keepdims` will become False, the `axis` over which the statistic is taken will be eliminated, and the value None will no longer be accepted. Set `keepdims` to True or False to avoid this warning.\n",
      "  mode, _ = stats.mode(_y[neigh_ind, k], axis=1)\n"
     ]
    }
   ],
   "source": [
    "from sklearn.neighbors import KNeighborsClassifier\n",
    "knn = KNeighborsClassifier(n_neighbors=9)\n",
    "knn.fit(x_overtrain_re, y_overtrain_re)  \n",
    "KNeighborsClassifier(algorithm='auto', leaf_size=30, metric='minkowski',\n",
    "                     metric_params=None, n_jobs=None, n_neighbors=5, p=2,\n",
    "                     weights='uniform')\n",
    "\n",
    "prediction = knn.predict(x_overtest_re)\n",
    "print((prediction == y_overtest_re).mean())"
   ]
  },
  {
   "cell_type": "code",
   "execution_count": 1,
   "id": "e4bea314",
   "metadata": {
    "collapsed": true
   },
   "outputs": [
    {
     "ename": "NameError",
     "evalue": "name 'x_overtrain_re' is not defined",
     "output_type": "error",
     "traceback": [
      "\u001b[0;31m---------------------------------------------------------------------------\u001b[0m",
      "\u001b[0;31mNameError\u001b[0m                                 Traceback (most recent call last)",
      "\u001b[0;32m/var/folders/cn/cfs3s7gn76b7lv5q1ghlym9r0000gn/T/ipykernel_19444/538948263.py\u001b[0m in \u001b[0;36m<module>\u001b[0;34m\u001b[0m\n\u001b[1;32m      1\u001b[0m \u001b[0;32mfrom\u001b[0m \u001b[0msklearn\u001b[0m\u001b[0;34m.\u001b[0m\u001b[0mneighbors\u001b[0m \u001b[0;32mimport\u001b[0m \u001b[0mKNeighborsClassifier\u001b[0m\u001b[0;34m\u001b[0m\u001b[0;34m\u001b[0m\u001b[0m\n\u001b[1;32m      2\u001b[0m \u001b[0mknn\u001b[0m \u001b[0;34m=\u001b[0m \u001b[0mKNeighborsClassifier\u001b[0m\u001b[0;34m(\u001b[0m\u001b[0mn_neighbors\u001b[0m\u001b[0;34m=\u001b[0m\u001b[0;36m9\u001b[0m\u001b[0;34m)\u001b[0m\u001b[0;34m\u001b[0m\u001b[0;34m\u001b[0m\u001b[0m\n\u001b[0;32m----> 3\u001b[0;31m \u001b[0mknn\u001b[0m\u001b[0;34m.\u001b[0m\u001b[0mfit\u001b[0m\u001b[0;34m(\u001b[0m\u001b[0mx_overtrain_re\u001b[0m\u001b[0;34m,\u001b[0m \u001b[0my_overtrain_re\u001b[0m\u001b[0;34m)\u001b[0m\u001b[0;34m\u001b[0m\u001b[0;34m\u001b[0m\u001b[0m\n\u001b[0m\u001b[1;32m      4\u001b[0m KNeighborsClassifier(algorithm='auto', leaf_size=30, metric='minkowski',\n\u001b[1;32m      5\u001b[0m                      \u001b[0mmetric_params\u001b[0m\u001b[0;34m=\u001b[0m\u001b[0;32mNone\u001b[0m\u001b[0;34m,\u001b[0m \u001b[0mn_jobs\u001b[0m\u001b[0;34m=\u001b[0m\u001b[0;32mNone\u001b[0m\u001b[0;34m,\u001b[0m \u001b[0mn_neighbors\u001b[0m\u001b[0;34m=\u001b[0m\u001b[0;36m5\u001b[0m\u001b[0;34m,\u001b[0m \u001b[0mp\u001b[0m\u001b[0;34m=\u001b[0m\u001b[0;36m2\u001b[0m\u001b[0;34m,\u001b[0m\u001b[0;34m\u001b[0m\u001b[0;34m\u001b[0m\u001b[0m\n",
      "\u001b[0;31mNameError\u001b[0m: name 'x_overtrain_re' is not defined"
     ]
    }
   ],
   "source": [
    "from sklearn.neighbors import KNeighborsClassifier\n",
    "knn = KNeighborsClassifier(n_neighbors=9)\n",
    "knn.fit(x_overtrain_re, y_overtrain_re)  \n",
    "KNeighborsClassifier(algorithm='auto', leaf_size=30, metric='minkowski',\n",
    "                     metric_params=None, n_jobs=None, n_neighbors=5, p=2,\n",
    "                     weights='uniform')\n",
    "\n",
    "prediction = knn.predict(x_overtest)\n",
    "print((prediction == y_overtest).mean())\n",
    "knn2 = KNeighborsClassifier(n_neighbors=9)\n",
    "knn2.fit(x_overtrain2, y_overtrain2)  \n",
    "KNeighborsClassifier(algorithm='auto', leaf_size=30, metric='minkowski',\n",
    "                     metric_params=None, n_jobs=None, n_neighbors=5, p=2,\n",
    "                     weights='uniform')\n",
    "\n",
    "prediction = knn2.predict(x_overtest2)\n",
    "print((prediction == y_overtest2).mean())"
   ]
  },
  {
   "cell_type": "markdown",
   "id": "585f9649",
   "metadata": {},
   "source": [
    "<h2>4. Support Vector Classifier<h2>"
   ]
  },
  {
   "cell_type": "code",
   "execution_count": 293,
   "id": "414d0d9a",
   "metadata": {
    "collapsed": true
   },
   "outputs": [
    {
     "name": "stdout",
     "output_type": "stream",
     "text": [
      "0.6309731426578304\n"
     ]
    }
   ],
   "source": [
    "from sklearn.svm import SVC \n",
    "svc = SVC(random_state=0)\n",
    "svc.fit(x_overtrain2, y_overtrain2)\n",
    "svc_pred = svc.predict(x_overtest2)\n",
    "\n",
    "\n",
    "SVC(C=1.0, break_ties=False, cache_size=200, class_weight=None, coef0=0.0,\n",
    "    decision_function_shape='ovr', degree=3, gamma='scale', kernel='rbf',\n",
    "    max_iter=-1, probability=False, random_state=0, shrinking=True, tol=0.001,\n",
    "    verbose=False)\n",
    "\n",
    "\n",
    "print((svc_pred == y_overtest2).mean())"
   ]
  },
  {
   "cell_type": "code",
   "execution_count": 34,
   "id": "3be614b9",
   "metadata": {
    "collapsed": true
   },
   "outputs": [
    {
     "name": "stdout",
     "output_type": "stream",
     "text": [
      "0.6388397594623275\n"
     ]
    }
   ],
   "source": [
    "from sklearn.svm import SVC \n",
    "svc = SVC(random_state=0)\n",
    "svc.fit(x_overtrain_re, y_overtrain_re)\n",
    "svc_pred = svc.predict(x_overtest_re)\n",
    "\n",
    "\n",
    "SVC(C=1.0, break_ties=False, cache_size=200, class_weight=None, coef0=0.0,\n",
    "    decision_function_shape='ovr', degree=3, gamma='scale', kernel='rbf',\n",
    "    max_iter=-1, probability=False, random_state=0, shrinking=True, tol=0.001,\n",
    "    verbose=False)\n",
    "\n",
    "\n",
    "print((svc_pred == y_overtest_re).mean())"
   ]
  },
  {
   "cell_type": "code",
   "execution_count": 6,
   "id": "8573fdf9",
   "metadata": {
    "collapsed": true
   },
   "outputs": [
    {
     "ename": "NameError",
     "evalue": "name 'x_overscaled' is not defined",
     "output_type": "error",
     "traceback": [
      "\u001b[0;31m---------------------------------------------------------------------------\u001b[0m",
      "\u001b[0;31mNameError\u001b[0m                                 Traceback (most recent call last)",
      "\u001b[0;32m/var/folders/cn/cfs3s7gn76b7lv5q1ghlym9r0000gn/T/ipykernel_15856/2119740828.py\u001b[0m in \u001b[0;36m<module>\u001b[0;34m\u001b[0m\n\u001b[1;32m      8\u001b[0m \u001b[0mindices\u001b[0m \u001b[0;34m=\u001b[0m\u001b[0mX_resampled\u001b[0m\u001b[0;34m.\u001b[0m\u001b[0mindex\u001b[0m\u001b[0;34m\u001b[0m\u001b[0;34m\u001b[0m\u001b[0m\n\u001b[1;32m      9\u001b[0m \u001b[0;34m\u001b[0m\u001b[0m\n\u001b[0;32m---> 10\u001b[0;31m x_overtrain_re, x_overtest_re, y_overtrain_re, y_overtest_re,indices_train,indices_test= train_test_split(x_overscaled, y_resampled,indices, \n\u001b[0m\u001b[1;32m     11\u001b[0m                                                        test_size = 0.2, random_state = 123)\n\u001b[1;32m     12\u001b[0m \u001b[0mprint\u001b[0m\u001b[0;34m(\u001b[0m\u001b[0mx_re\u001b[0m\u001b[0;34m.\u001b[0m\u001b[0mshape\u001b[0m\u001b[0;34m)\u001b[0m\u001b[0;34m\u001b[0m\u001b[0;34m\u001b[0m\u001b[0m\n",
      "\u001b[0;31mNameError\u001b[0m: name 'x_overscaled' is not defined"
     ]
    }
   ],
   "source": [
    "pathway=pd.read_csv(\"ppipathwaydf4.csv\",index_col=0)\n",
    "ada = ADASYN()\n",
    "x_re= pathway[pathway.columns.difference(['phenotype'])]\n",
    "y_re= pathway['phenotype']\n",
    "\n",
    "X_resampled, y_resampled = ada.fit_resample(x_re, y_re)\n",
    "scaler = StandardScaler()\n",
    "indices =X_resampled.index\n",
    "\n",
    "x_overtrain_re, x_overtest_re, y_overtrain_re, y_overtest_re,indices_train,indices_test= train_test_split(x_overscaled, y_resampled,indices, \n",
    "                                                       test_size = 0.2, random_state = 123)\n",
    "print(x_re.shape)     \n",
    "print(x_overtest_re.shape)"
   ]
  },
  {
   "cell_type": "code",
   "execution_count": 140,
   "id": "d58547ea",
   "metadata": {
    "collapsed": true
   },
   "outputs": [
    {
     "data": {
      "text/plain": [
       "RangeIndex(start=0, stop=14133, step=1)"
      ]
     },
     "execution_count": 140,
     "metadata": {},
     "output_type": "execute_result"
    }
   ],
   "source": [
    "indices"
   ]
  },
  {
   "cell_type": "code",
   "execution_count": 129,
   "id": "e556ad86",
   "metadata": {
    "collapsed": true
   },
   "outputs": [
    {
     "name": "stdout",
     "output_type": "stream",
     "text": [
      "(8743, 353)\n"
     ]
    }
   ],
   "source": [
    "\n",
    "x_resampled, y_resampled = ada.fit_resample(x, y)\n",
    "\n",
    "x_overtrain, x_overtest, y_overtrain_re, y_overtest_re= train_test_split(x_overscaled, y_resampled, \n",
    "                                                       test_size = 0.2, random_state = 123)\n",
    "print(x_re.shape)     \n",
    "print(x_overtest_re.shape)"
   ]
  },
  {
   "cell_type": "code",
   "execution_count": 14,
   "id": "ba298f54",
   "metadata": {
    "collapsed": true
   },
   "outputs": [
    {
     "ename": "NameError",
     "evalue": "name 'newx' is not defined",
     "output_type": "error",
     "traceback": [
      "\u001b[0;31m---------------------------------------------------------------------------\u001b[0m",
      "\u001b[0;31mNameError\u001b[0m                                 Traceback (most recent call last)",
      "\u001b[0;32m/var/folders/cn/cfs3s7gn76b7lv5q1ghlym9r0000gn/T/ipykernel_15856/3131469976.py\u001b[0m in \u001b[0;36m<module>\u001b[0;34m\u001b[0m\n\u001b[0;32m----> 1\u001b[0;31m \u001b[0mX_resampled\u001b[0m\u001b[0;34m,\u001b[0m \u001b[0my_resampled\u001b[0m \u001b[0;34m=\u001b[0m \u001b[0mada\u001b[0m\u001b[0;34m.\u001b[0m\u001b[0mfit_resample\u001b[0m\u001b[0;34m(\u001b[0m\u001b[0mnewx\u001b[0m\u001b[0;34m,\u001b[0m \u001b[0my_re\u001b[0m\u001b[0;34m)\u001b[0m\u001b[0;34m\u001b[0m\u001b[0;34m\u001b[0m\u001b[0m\n\u001b[0m\u001b[1;32m      2\u001b[0m \u001b[0mscaler\u001b[0m \u001b[0;34m=\u001b[0m \u001b[0mStandardScaler\u001b[0m\u001b[0;34m(\u001b[0m\u001b[0;34m)\u001b[0m\u001b[0;34m\u001b[0m\u001b[0;34m\u001b[0m\u001b[0m\n\u001b[1;32m      3\u001b[0m \u001b[0mx_overscaled\u001b[0m\u001b[0;34m=\u001b[0m \u001b[0mscaler\u001b[0m\u001b[0;34m.\u001b[0m\u001b[0mfit_transform\u001b[0m\u001b[0;34m(\u001b[0m\u001b[0mX_resampled\u001b[0m\u001b[0;34m)\u001b[0m\u001b[0;34m\u001b[0m\u001b[0;34m\u001b[0m\u001b[0m\n\u001b[1;32m      4\u001b[0m \u001b[0mx_overscaled_df\u001b[0m \u001b[0;34m=\u001b[0m \u001b[0mpd\u001b[0m\u001b[0;34m.\u001b[0m\u001b[0mDataFrame\u001b[0m\u001b[0;34m(\u001b[0m\u001b[0mx_overscaled\u001b[0m\u001b[0;34m,\u001b[0m \u001b[0mindex\u001b[0m\u001b[0;34m=\u001b[0m\u001b[0mX_resampled\u001b[0m\u001b[0;34m.\u001b[0m\u001b[0mindex\u001b[0m\u001b[0;34m,\u001b[0m \u001b[0mcolumns\u001b[0m\u001b[0;34m=\u001b[0m\u001b[0mX_resampled\u001b[0m\u001b[0;34m.\u001b[0m\u001b[0mcolumns\u001b[0m\u001b[0;34m)\u001b[0m\u001b[0;34m\u001b[0m\u001b[0;34m\u001b[0m\u001b[0m\n\u001b[1;32m      5\u001b[0m \u001b[0;34m\u001b[0m\u001b[0m\n",
      "\u001b[0;31mNameError\u001b[0m: name 'newx' is not defined"
     ]
    }
   ],
   "source": [
    "X_resampled, y_resampled = ada.fit_resample(newx, y_re)\n",
    "scaler = StandardScaler()\n",
    "x_overscaled= scaler.fit_transform(X_resampled)\n",
    "x_overscaled_df = pd.DataFrame(x_overscaled, index=X_resampled.index, columns=X_resampled.columns)\n",
    "\n",
    "\n",
    "\n"
   ]
  },
  {
   "cell_type": "code",
   "execution_count": 179,
   "id": "6e260837",
   "metadata": {
    "collapsed": true
   },
   "outputs": [
    {
     "data": {
      "text/html": [
       "<div>\n",
       "<style scoped>\n",
       "    .dataframe tbody tr th:only-of-type {\n",
       "        vertical-align: middle;\n",
       "    }\n",
       "\n",
       "    .dataframe tbody tr th {\n",
       "        vertical-align: top;\n",
       "    }\n",
       "\n",
       "    .dataframe thead th {\n",
       "        text-align: right;\n",
       "    }\n",
       "</style>\n",
       "<table border=\"1\" class=\"dataframe\">\n",
       "  <thead>\n",
       "    <tr style=\"text-align: right;\">\n",
       "      <th></th>\n",
       "      <th>hsa00010</th>\n",
       "      <th>hsa00020</th>\n",
       "      <th>hsa00030</th>\n",
       "      <th>hsa00040</th>\n",
       "      <th>hsa00051</th>\n",
       "      <th>hsa00052</th>\n",
       "      <th>hsa00053</th>\n",
       "      <th>hsa00061</th>\n",
       "      <th>hsa00062</th>\n",
       "      <th>hsa00071</th>\n",
       "      <th>...</th>\n",
       "      <th>R-HSA-69306</th>\n",
       "      <th>R-HSA-73894</th>\n",
       "      <th>R-HSA-74160</th>\n",
       "      <th>R-HSA-8953854</th>\n",
       "      <th>R-HSA-8953897</th>\n",
       "      <th>R-HSA-8963743</th>\n",
       "      <th>R-HSA-9609507</th>\n",
       "      <th>R-HSA-9612973</th>\n",
       "      <th>R-HSA-9709957</th>\n",
       "      <th>R-HSA-9748784</th>\n",
       "    </tr>\n",
       "  </thead>\n",
       "  <tbody>\n",
       "    <tr>\n",
       "      <th>0</th>\n",
       "      <td>-0.106787</td>\n",
       "      <td>-0.064795</td>\n",
       "      <td>-0.078296</td>\n",
       "      <td>-0.083867</td>\n",
       "      <td>-0.091189</td>\n",
       "      <td>-0.084415</td>\n",
       "      <td>-0.07386</td>\n",
       "      <td>-0.07779</td>\n",
       "      <td>-0.060684</td>\n",
       "      <td>-0.094981</td>\n",
       "      <td>...</td>\n",
       "      <td>-0.353388</td>\n",
       "      <td>-0.366402</td>\n",
       "      <td>-0.401759</td>\n",
       "      <td>-0.412583</td>\n",
       "      <td>-0.461239</td>\n",
       "      <td>-0.242874</td>\n",
       "      <td>-0.325016</td>\n",
       "      <td>-0.321982</td>\n",
       "      <td>-0.413624</td>\n",
       "      <td>-0.382337</td>\n",
       "    </tr>\n",
       "    <tr>\n",
       "      <th>1</th>\n",
       "      <td>-0.106787</td>\n",
       "      <td>-0.064795</td>\n",
       "      <td>-0.078296</td>\n",
       "      <td>-0.083867</td>\n",
       "      <td>-0.091189</td>\n",
       "      <td>-0.084415</td>\n",
       "      <td>-0.07386</td>\n",
       "      <td>-0.07779</td>\n",
       "      <td>-0.060684</td>\n",
       "      <td>-0.094981</td>\n",
       "      <td>...</td>\n",
       "      <td>-0.323728</td>\n",
       "      <td>-0.382994</td>\n",
       "      <td>-0.314244</td>\n",
       "      <td>-0.197347</td>\n",
       "      <td>-0.305167</td>\n",
       "      <td>-0.242874</td>\n",
       "      <td>-0.302044</td>\n",
       "      <td>-0.389500</td>\n",
       "      <td>-0.316168</td>\n",
       "      <td>-0.301382</td>\n",
       "    </tr>\n",
       "    <tr>\n",
       "      <th>2</th>\n",
       "      <td>-0.106787</td>\n",
       "      <td>-0.064795</td>\n",
       "      <td>-0.078296</td>\n",
       "      <td>-0.083867</td>\n",
       "      <td>-0.091189</td>\n",
       "      <td>-0.084415</td>\n",
       "      <td>-0.07386</td>\n",
       "      <td>-0.07779</td>\n",
       "      <td>-0.060684</td>\n",
       "      <td>-0.094981</td>\n",
       "      <td>...</td>\n",
       "      <td>-0.323728</td>\n",
       "      <td>-0.344280</td>\n",
       "      <td>-0.286140</td>\n",
       "      <td>0.566912</td>\n",
       "      <td>-0.318105</td>\n",
       "      <td>-0.242874</td>\n",
       "      <td>-0.370960</td>\n",
       "      <td>-0.202831</td>\n",
       "      <td>-0.107968</td>\n",
       "      <td>1.621291</td>\n",
       "    </tr>\n",
       "    <tr>\n",
       "      <th>3</th>\n",
       "      <td>-0.106787</td>\n",
       "      <td>-0.064795</td>\n",
       "      <td>-0.078296</td>\n",
       "      <td>-0.083867</td>\n",
       "      <td>-0.091189</td>\n",
       "      <td>-0.084415</td>\n",
       "      <td>-0.07386</td>\n",
       "      <td>-0.07779</td>\n",
       "      <td>-0.060684</td>\n",
       "      <td>-0.094981</td>\n",
       "      <td>...</td>\n",
       "      <td>-0.353388</td>\n",
       "      <td>-0.365612</td>\n",
       "      <td>-0.378280</td>\n",
       "      <td>-0.412583</td>\n",
       "      <td>-0.449109</td>\n",
       "      <td>-0.046289</td>\n",
       "      <td>-0.370960</td>\n",
       "      <td>-0.441132</td>\n",
       "      <td>-0.426913</td>\n",
       "      <td>-0.382337</td>\n",
       "    </tr>\n",
       "    <tr>\n",
       "      <th>4</th>\n",
       "      <td>-0.106787</td>\n",
       "      <td>-0.064795</td>\n",
       "      <td>-0.078296</td>\n",
       "      <td>-0.083867</td>\n",
       "      <td>-0.091189</td>\n",
       "      <td>-0.084415</td>\n",
       "      <td>-0.07386</td>\n",
       "      <td>-0.07779</td>\n",
       "      <td>-0.060684</td>\n",
       "      <td>-0.094981</td>\n",
       "      <td>...</td>\n",
       "      <td>-0.353388</td>\n",
       "      <td>-0.379834</td>\n",
       "      <td>-0.416345</td>\n",
       "      <td>-0.401653</td>\n",
       "      <td>-0.418380</td>\n",
       "      <td>5.654700</td>\n",
       "      <td>-0.313530</td>\n",
       "      <td>-0.250491</td>\n",
       "      <td>-0.249721</td>\n",
       "      <td>-0.200189</td>\n",
       "    </tr>\n",
       "    <tr>\n",
       "      <th>...</th>\n",
       "      <td>...</td>\n",
       "      <td>...</td>\n",
       "      <td>...</td>\n",
       "      <td>...</td>\n",
       "      <td>...</td>\n",
       "      <td>...</td>\n",
       "      <td>...</td>\n",
       "      <td>...</td>\n",
       "      <td>...</td>\n",
       "      <td>...</td>\n",
       "      <td>...</td>\n",
       "      <td>...</td>\n",
       "      <td>...</td>\n",
       "      <td>...</td>\n",
       "      <td>...</td>\n",
       "      <td>...</td>\n",
       "      <td>...</td>\n",
       "      <td>...</td>\n",
       "      <td>...</td>\n",
       "      <td>...</td>\n",
       "      <td>...</td>\n",
       "    </tr>\n",
       "    <tr>\n",
       "      <th>13809</th>\n",
       "      <td>-0.106787</td>\n",
       "      <td>-0.064795</td>\n",
       "      <td>-0.078296</td>\n",
       "      <td>-0.083867</td>\n",
       "      <td>-0.091189</td>\n",
       "      <td>-0.084415</td>\n",
       "      <td>-0.07386</td>\n",
       "      <td>-0.07779</td>\n",
       "      <td>-0.060684</td>\n",
       "      <td>-0.094981</td>\n",
       "      <td>...</td>\n",
       "      <td>-0.353388</td>\n",
       "      <td>-0.380221</td>\n",
       "      <td>-0.461628</td>\n",
       "      <td>-0.412583</td>\n",
       "      <td>-0.457921</td>\n",
       "      <td>-0.242874</td>\n",
       "      <td>-0.370960</td>\n",
       "      <td>-0.441132</td>\n",
       "      <td>-0.425285</td>\n",
       "      <td>-0.372419</td>\n",
       "    </tr>\n",
       "    <tr>\n",
       "      <th>13810</th>\n",
       "      <td>-0.106787</td>\n",
       "      <td>-0.064795</td>\n",
       "      <td>-0.078296</td>\n",
       "      <td>-0.083867</td>\n",
       "      <td>-0.091189</td>\n",
       "      <td>-0.084415</td>\n",
       "      <td>-0.07386</td>\n",
       "      <td>-0.07779</td>\n",
       "      <td>-0.060684</td>\n",
       "      <td>-0.094981</td>\n",
       "      <td>...</td>\n",
       "      <td>-0.353388</td>\n",
       "      <td>-0.382625</td>\n",
       "      <td>-0.463873</td>\n",
       "      <td>-0.412583</td>\n",
       "      <td>-0.473097</td>\n",
       "      <td>-0.242874</td>\n",
       "      <td>-0.370960</td>\n",
       "      <td>-0.441132</td>\n",
       "      <td>-0.415176</td>\n",
       "      <td>-0.346587</td>\n",
       "    </tr>\n",
       "    <tr>\n",
       "      <th>13811</th>\n",
       "      <td>-0.106787</td>\n",
       "      <td>-0.064795</td>\n",
       "      <td>-0.078296</td>\n",
       "      <td>-0.083867</td>\n",
       "      <td>-0.091189</td>\n",
       "      <td>-0.084415</td>\n",
       "      <td>-0.07386</td>\n",
       "      <td>-0.07779</td>\n",
       "      <td>-0.060684</td>\n",
       "      <td>-0.094981</td>\n",
       "      <td>...</td>\n",
       "      <td>-0.353388</td>\n",
       "      <td>-0.375970</td>\n",
       "      <td>-0.466458</td>\n",
       "      <td>-0.412583</td>\n",
       "      <td>-0.471554</td>\n",
       "      <td>-0.242874</td>\n",
       "      <td>-0.370960</td>\n",
       "      <td>-0.441132</td>\n",
       "      <td>-0.400659</td>\n",
       "      <td>-0.382337</td>\n",
       "    </tr>\n",
       "    <tr>\n",
       "      <th>13812</th>\n",
       "      <td>-0.106787</td>\n",
       "      <td>-0.064795</td>\n",
       "      <td>-0.078296</td>\n",
       "      <td>-0.083867</td>\n",
       "      <td>-0.091189</td>\n",
       "      <td>-0.084415</td>\n",
       "      <td>-0.07386</td>\n",
       "      <td>-0.07779</td>\n",
       "      <td>-0.060684</td>\n",
       "      <td>-0.094981</td>\n",
       "      <td>...</td>\n",
       "      <td>-0.353388</td>\n",
       "      <td>-0.379670</td>\n",
       "      <td>-0.464422</td>\n",
       "      <td>-0.412583</td>\n",
       "      <td>-0.463139</td>\n",
       "      <td>-0.242874</td>\n",
       "      <td>-0.370960</td>\n",
       "      <td>-0.441132</td>\n",
       "      <td>-0.414488</td>\n",
       "      <td>-0.382337</td>\n",
       "    </tr>\n",
       "    <tr>\n",
       "      <th>13813</th>\n",
       "      <td>-0.106787</td>\n",
       "      <td>-0.064795</td>\n",
       "      <td>-0.078296</td>\n",
       "      <td>-0.083867</td>\n",
       "      <td>-0.091189</td>\n",
       "      <td>-0.084415</td>\n",
       "      <td>-0.07386</td>\n",
       "      <td>-0.07779</td>\n",
       "      <td>-0.060684</td>\n",
       "      <td>-0.094981</td>\n",
       "      <td>...</td>\n",
       "      <td>-0.353388</td>\n",
       "      <td>-0.381217</td>\n",
       "      <td>-0.463571</td>\n",
       "      <td>-0.412583</td>\n",
       "      <td>-0.459621</td>\n",
       "      <td>-0.242874</td>\n",
       "      <td>-0.370960</td>\n",
       "      <td>-0.441132</td>\n",
       "      <td>-0.420270</td>\n",
       "      <td>-0.382337</td>\n",
       "    </tr>\n",
       "  </tbody>\n",
       "</table>\n",
       "<p>13814 rows × 382 columns</p>\n",
       "</div>"
      ],
      "text/plain": [
       "       hsa00010  hsa00020  hsa00030  hsa00040  hsa00051  hsa00052  hsa00053  \\\n",
       "0     -0.106787 -0.064795 -0.078296 -0.083867 -0.091189 -0.084415  -0.07386   \n",
       "1     -0.106787 -0.064795 -0.078296 -0.083867 -0.091189 -0.084415  -0.07386   \n",
       "2     -0.106787 -0.064795 -0.078296 -0.083867 -0.091189 -0.084415  -0.07386   \n",
       "3     -0.106787 -0.064795 -0.078296 -0.083867 -0.091189 -0.084415  -0.07386   \n",
       "4     -0.106787 -0.064795 -0.078296 -0.083867 -0.091189 -0.084415  -0.07386   \n",
       "...         ...       ...       ...       ...       ...       ...       ...   \n",
       "13809 -0.106787 -0.064795 -0.078296 -0.083867 -0.091189 -0.084415  -0.07386   \n",
       "13810 -0.106787 -0.064795 -0.078296 -0.083867 -0.091189 -0.084415  -0.07386   \n",
       "13811 -0.106787 -0.064795 -0.078296 -0.083867 -0.091189 -0.084415  -0.07386   \n",
       "13812 -0.106787 -0.064795 -0.078296 -0.083867 -0.091189 -0.084415  -0.07386   \n",
       "13813 -0.106787 -0.064795 -0.078296 -0.083867 -0.091189 -0.084415  -0.07386   \n",
       "\n",
       "       hsa00061  hsa00062  hsa00071  ...  R-HSA-69306  R-HSA-73894  \\\n",
       "0      -0.07779 -0.060684 -0.094981  ...    -0.353388    -0.366402   \n",
       "1      -0.07779 -0.060684 -0.094981  ...    -0.323728    -0.382994   \n",
       "2      -0.07779 -0.060684 -0.094981  ...    -0.323728    -0.344280   \n",
       "3      -0.07779 -0.060684 -0.094981  ...    -0.353388    -0.365612   \n",
       "4      -0.07779 -0.060684 -0.094981  ...    -0.353388    -0.379834   \n",
       "...         ...       ...       ...  ...          ...          ...   \n",
       "13809  -0.07779 -0.060684 -0.094981  ...    -0.353388    -0.380221   \n",
       "13810  -0.07779 -0.060684 -0.094981  ...    -0.353388    -0.382625   \n",
       "13811  -0.07779 -0.060684 -0.094981  ...    -0.353388    -0.375970   \n",
       "13812  -0.07779 -0.060684 -0.094981  ...    -0.353388    -0.379670   \n",
       "13813  -0.07779 -0.060684 -0.094981  ...    -0.353388    -0.381217   \n",
       "\n",
       "       R-HSA-74160  R-HSA-8953854  R-HSA-8953897  R-HSA-8963743  \\\n",
       "0        -0.401759      -0.412583      -0.461239      -0.242874   \n",
       "1        -0.314244      -0.197347      -0.305167      -0.242874   \n",
       "2        -0.286140       0.566912      -0.318105      -0.242874   \n",
       "3        -0.378280      -0.412583      -0.449109      -0.046289   \n",
       "4        -0.416345      -0.401653      -0.418380       5.654700   \n",
       "...            ...            ...            ...            ...   \n",
       "13809    -0.461628      -0.412583      -0.457921      -0.242874   \n",
       "13810    -0.463873      -0.412583      -0.473097      -0.242874   \n",
       "13811    -0.466458      -0.412583      -0.471554      -0.242874   \n",
       "13812    -0.464422      -0.412583      -0.463139      -0.242874   \n",
       "13813    -0.463571      -0.412583      -0.459621      -0.242874   \n",
       "\n",
       "       R-HSA-9609507  R-HSA-9612973  R-HSA-9709957  R-HSA-9748784  \n",
       "0          -0.325016      -0.321982      -0.413624      -0.382337  \n",
       "1          -0.302044      -0.389500      -0.316168      -0.301382  \n",
       "2          -0.370960      -0.202831      -0.107968       1.621291  \n",
       "3          -0.370960      -0.441132      -0.426913      -0.382337  \n",
       "4          -0.313530      -0.250491      -0.249721      -0.200189  \n",
       "...              ...            ...            ...            ...  \n",
       "13809      -0.370960      -0.441132      -0.425285      -0.372419  \n",
       "13810      -0.370960      -0.441132      -0.415176      -0.346587  \n",
       "13811      -0.370960      -0.441132      -0.400659      -0.382337  \n",
       "13812      -0.370960      -0.441132      -0.414488      -0.382337  \n",
       "13813      -0.370960      -0.441132      -0.420270      -0.382337  \n",
       "\n",
       "[13814 rows x 382 columns]"
      ]
     },
     "execution_count": 179,
     "metadata": {},
     "output_type": "execute_result"
    }
   ],
   "source": [
    "x_overscaled_df"
   ]
  },
  {
   "cell_type": "code",
   "execution_count": 13,
   "id": "02f71258",
   "metadata": {
    "collapsed": true
   },
   "outputs": [
    {
     "ename": "NameError",
     "evalue": "name 'x_overscaled_df' is not defined",
     "output_type": "error",
     "traceback": [
      "\u001b[0;31m---------------------------------------------------------------------------\u001b[0m",
      "\u001b[0;31mNameError\u001b[0m                                 Traceback (most recent call last)",
      "\u001b[0;32m/var/folders/cn/cfs3s7gn76b7lv5q1ghlym9r0000gn/T/ipykernel_15856/3427904711.py\u001b[0m in \u001b[0;36m<module>\u001b[0;34m\u001b[0m\n\u001b[0;32m----> 1\u001b[0;31m x_overtrain_mixed, x_overtest_mixed, y_overtrain_mixed, y_overtest_re= train_test_split(x_overscaled_df, y_resampled, \n\u001b[0m\u001b[1;32m      2\u001b[0m                                                             test_size = 0.2, random_state = 123)\n",
      "\u001b[0;31mNameError\u001b[0m: name 'x_overscaled_df' is not defined"
     ]
    }
   ],
   "source": [
    "x_overtrain_mixed, x_overtest_mixed, y_overtrain_mixed, y_overtest_re= train_test_split(x_overscaled_df, y_resampled, \n",
    "                                                            test_size = 0.2, random_state = 123)"
   ]
  },
  {
   "cell_type": "code",
   "execution_count": 189,
   "id": "e7fe97fb",
   "metadata": {
    "collapsed": true
   },
   "outputs": [],
   "source": [
    "x_train_mixed, x_test_mixed, y_train_mixed, y_test_mixed= train_test_split(X_resampled, y_resampled, \n",
    "                                                            test_size = 0.2, random_state = 123)"
   ]
  },
  {
   "cell_type": "code",
   "execution_count": 191,
   "id": "469a404a",
   "metadata": {
    "collapsed": true
   },
   "outputs": [
    {
     "data": {
      "text/html": [
       "<div>\n",
       "<style scoped>\n",
       "    .dataframe tbody tr th:only-of-type {\n",
       "        vertical-align: middle;\n",
       "    }\n",
       "\n",
       "    .dataframe tbody tr th {\n",
       "        vertical-align: top;\n",
       "    }\n",
       "\n",
       "    .dataframe thead th {\n",
       "        text-align: right;\n",
       "    }\n",
       "</style>\n",
       "<table border=\"1\" class=\"dataframe\">\n",
       "  <thead>\n",
       "    <tr style=\"text-align: right;\">\n",
       "      <th></th>\n",
       "      <th>hsa00010</th>\n",
       "      <th>hsa00020</th>\n",
       "      <th>hsa00030</th>\n",
       "      <th>hsa00040</th>\n",
       "      <th>hsa00051</th>\n",
       "      <th>hsa00052</th>\n",
       "      <th>hsa00053</th>\n",
       "      <th>hsa00061</th>\n",
       "      <th>hsa00062</th>\n",
       "      <th>hsa00071</th>\n",
       "      <th>...</th>\n",
       "      <th>R-HSA-69306</th>\n",
       "      <th>R-HSA-73894</th>\n",
       "      <th>R-HSA-74160</th>\n",
       "      <th>R-HSA-8953854</th>\n",
       "      <th>R-HSA-8953897</th>\n",
       "      <th>R-HSA-8963743</th>\n",
       "      <th>R-HSA-9609507</th>\n",
       "      <th>R-HSA-9612973</th>\n",
       "      <th>R-HSA-9709957</th>\n",
       "      <th>R-HSA-9748784</th>\n",
       "    </tr>\n",
       "  </thead>\n",
       "  <tbody>\n",
       "    <tr>\n",
       "      <th>5933</th>\n",
       "      <td>-0.106787</td>\n",
       "      <td>-0.064795</td>\n",
       "      <td>-0.078296</td>\n",
       "      <td>-0.083867</td>\n",
       "      <td>-0.091189</td>\n",
       "      <td>-0.084415</td>\n",
       "      <td>-0.07386</td>\n",
       "      <td>-0.07779</td>\n",
       "      <td>-0.060684</td>\n",
       "      <td>-0.094981</td>\n",
       "      <td>...</td>\n",
       "      <td>-0.353388</td>\n",
       "      <td>-0.382994</td>\n",
       "      <td>-0.474333</td>\n",
       "      <td>-0.412583</td>\n",
       "      <td>-0.474986</td>\n",
       "      <td>-0.242874</td>\n",
       "      <td>-0.370960</td>\n",
       "      <td>-0.441132</td>\n",
       "      <td>-0.426913</td>\n",
       "      <td>-0.382337</td>\n",
       "    </tr>\n",
       "    <tr>\n",
       "      <th>13119</th>\n",
       "      <td>-0.106787</td>\n",
       "      <td>-0.064795</td>\n",
       "      <td>-0.078296</td>\n",
       "      <td>-0.083867</td>\n",
       "      <td>-0.091189</td>\n",
       "      <td>-0.084415</td>\n",
       "      <td>-0.07386</td>\n",
       "      <td>-0.07779</td>\n",
       "      <td>-0.060684</td>\n",
       "      <td>-0.094981</td>\n",
       "      <td>...</td>\n",
       "      <td>-0.353388</td>\n",
       "      <td>-0.382994</td>\n",
       "      <td>-0.473851</td>\n",
       "      <td>-0.411446</td>\n",
       "      <td>-0.472626</td>\n",
       "      <td>-0.242874</td>\n",
       "      <td>-0.370960</td>\n",
       "      <td>-0.441132</td>\n",
       "      <td>-0.426913</td>\n",
       "      <td>-0.352809</td>\n",
       "    </tr>\n",
       "    <tr>\n",
       "      <th>8963</th>\n",
       "      <td>-0.106787</td>\n",
       "      <td>-0.064795</td>\n",
       "      <td>-0.078296</td>\n",
       "      <td>-0.083867</td>\n",
       "      <td>-0.091189</td>\n",
       "      <td>-0.084415</td>\n",
       "      <td>-0.07386</td>\n",
       "      <td>-0.07779</td>\n",
       "      <td>-0.060684</td>\n",
       "      <td>-0.094981</td>\n",
       "      <td>...</td>\n",
       "      <td>-0.353388</td>\n",
       "      <td>-0.382994</td>\n",
       "      <td>-0.430779</td>\n",
       "      <td>-0.410422</td>\n",
       "      <td>-0.435823</td>\n",
       "      <td>0.052004</td>\n",
       "      <td>-0.301211</td>\n",
       "      <td>-0.441132</td>\n",
       "      <td>-0.067136</td>\n",
       "      <td>-0.324502</td>\n",
       "    </tr>\n",
       "    <tr>\n",
       "      <th>6100</th>\n",
       "      <td>-0.106787</td>\n",
       "      <td>-0.064795</td>\n",
       "      <td>-0.078296</td>\n",
       "      <td>-0.083867</td>\n",
       "      <td>-0.091189</td>\n",
       "      <td>-0.084415</td>\n",
       "      <td>-0.07386</td>\n",
       "      <td>-0.07779</td>\n",
       "      <td>-0.060684</td>\n",
       "      <td>-0.094981</td>\n",
       "      <td>...</td>\n",
       "      <td>-0.332854</td>\n",
       "      <td>-0.366402</td>\n",
       "      <td>-0.463304</td>\n",
       "      <td>-0.404176</td>\n",
       "      <td>-0.461239</td>\n",
       "      <td>2.705913</td>\n",
       "      <td>-0.370960</td>\n",
       "      <td>-0.441132</td>\n",
       "      <td>-0.426913</td>\n",
       "      <td>-0.341859</td>\n",
       "    </tr>\n",
       "    <tr>\n",
       "      <th>2012</th>\n",
       "      <td>-0.106787</td>\n",
       "      <td>-0.064795</td>\n",
       "      <td>-0.078296</td>\n",
       "      <td>-0.083867</td>\n",
       "      <td>-0.091189</td>\n",
       "      <td>-0.084415</td>\n",
       "      <td>-0.07386</td>\n",
       "      <td>-0.07779</td>\n",
       "      <td>-0.060684</td>\n",
       "      <td>-0.094981</td>\n",
       "      <td>...</td>\n",
       "      <td>-0.353388</td>\n",
       "      <td>-0.382994</td>\n",
       "      <td>-0.420258</td>\n",
       "      <td>-0.407539</td>\n",
       "      <td>-0.455578</td>\n",
       "      <td>0.052004</td>\n",
       "      <td>-0.370960</td>\n",
       "      <td>-0.441132</td>\n",
       "      <td>-0.360466</td>\n",
       "      <td>-0.382337</td>\n",
       "    </tr>\n",
       "    <tr>\n",
       "      <th>...</th>\n",
       "      <td>...</td>\n",
       "      <td>...</td>\n",
       "      <td>...</td>\n",
       "      <td>...</td>\n",
       "      <td>...</td>\n",
       "      <td>...</td>\n",
       "      <td>...</td>\n",
       "      <td>...</td>\n",
       "      <td>...</td>\n",
       "      <td>...</td>\n",
       "      <td>...</td>\n",
       "      <td>...</td>\n",
       "      <td>...</td>\n",
       "      <td>...</td>\n",
       "      <td>...</td>\n",
       "      <td>...</td>\n",
       "      <td>...</td>\n",
       "      <td>...</td>\n",
       "      <td>...</td>\n",
       "      <td>...</td>\n",
       "      <td>...</td>\n",
       "    </tr>\n",
       "    <tr>\n",
       "      <th>5218</th>\n",
       "      <td>-0.106787</td>\n",
       "      <td>-0.064795</td>\n",
       "      <td>-0.078296</td>\n",
       "      <td>-0.083867</td>\n",
       "      <td>-0.091189</td>\n",
       "      <td>-0.084415</td>\n",
       "      <td>-0.07386</td>\n",
       "      <td>-0.07779</td>\n",
       "      <td>-0.060684</td>\n",
       "      <td>-0.094981</td>\n",
       "      <td>...</td>\n",
       "      <td>0.926534</td>\n",
       "      <td>0.964893</td>\n",
       "      <td>2.412595</td>\n",
       "      <td>2.713393</td>\n",
       "      <td>1.817574</td>\n",
       "      <td>0.346883</td>\n",
       "      <td>3.212663</td>\n",
       "      <td>1.596345</td>\n",
       "      <td>2.448020</td>\n",
       "      <td>0.548642</td>\n",
       "    </tr>\n",
       "    <tr>\n",
       "      <th>12252</th>\n",
       "      <td>-0.106787</td>\n",
       "      <td>-0.064795</td>\n",
       "      <td>-0.078296</td>\n",
       "      <td>-0.083867</td>\n",
       "      <td>-0.091189</td>\n",
       "      <td>-0.084415</td>\n",
       "      <td>-0.07386</td>\n",
       "      <td>-0.07779</td>\n",
       "      <td>-0.060684</td>\n",
       "      <td>-0.094981</td>\n",
       "      <td>...</td>\n",
       "      <td>-0.320670</td>\n",
       "      <td>-0.372020</td>\n",
       "      <td>-0.293803</td>\n",
       "      <td>-0.398808</td>\n",
       "      <td>-0.325047</td>\n",
       "      <td>3.616527</td>\n",
       "      <td>-0.191726</td>\n",
       "      <td>-0.218495</td>\n",
       "      <td>-0.317627</td>\n",
       "      <td>-0.250228</td>\n",
       "    </tr>\n",
       "    <tr>\n",
       "      <th>1346</th>\n",
       "      <td>-0.106787</td>\n",
       "      <td>-0.064795</td>\n",
       "      <td>-0.078296</td>\n",
       "      <td>-0.083867</td>\n",
       "      <td>-0.091189</td>\n",
       "      <td>-0.084415</td>\n",
       "      <td>-0.07386</td>\n",
       "      <td>-0.07779</td>\n",
       "      <td>-0.060684</td>\n",
       "      <td>-0.094981</td>\n",
       "      <td>...</td>\n",
       "      <td>-0.353388</td>\n",
       "      <td>-0.341910</td>\n",
       "      <td>-0.406028</td>\n",
       "      <td>-0.412583</td>\n",
       "      <td>-0.392502</td>\n",
       "      <td>0.052004</td>\n",
       "      <td>-0.370960</td>\n",
       "      <td>-0.441132</td>\n",
       "      <td>-0.342747</td>\n",
       "      <td>-0.281143</td>\n",
       "    </tr>\n",
       "    <tr>\n",
       "      <th>11646</th>\n",
       "      <td>-0.106787</td>\n",
       "      <td>-0.064795</td>\n",
       "      <td>-0.078296</td>\n",
       "      <td>-0.083867</td>\n",
       "      <td>-0.091189</td>\n",
       "      <td>-0.084415</td>\n",
       "      <td>-0.07386</td>\n",
       "      <td>-0.07779</td>\n",
       "      <td>-0.060684</td>\n",
       "      <td>-0.094981</td>\n",
       "      <td>...</td>\n",
       "      <td>-0.353388</td>\n",
       "      <td>-0.382994</td>\n",
       "      <td>-0.474333</td>\n",
       "      <td>-0.412583</td>\n",
       "      <td>-0.474986</td>\n",
       "      <td>-0.242874</td>\n",
       "      <td>-0.370960</td>\n",
       "      <td>-0.441132</td>\n",
       "      <td>-0.426913</td>\n",
       "      <td>-0.382337</td>\n",
       "    </tr>\n",
       "    <tr>\n",
       "      <th>3582</th>\n",
       "      <td>-0.106787</td>\n",
       "      <td>-0.064795</td>\n",
       "      <td>-0.078296</td>\n",
       "      <td>-0.083867</td>\n",
       "      <td>-0.091189</td>\n",
       "      <td>-0.084415</td>\n",
       "      <td>-0.07386</td>\n",
       "      <td>-0.07779</td>\n",
       "      <td>-0.060684</td>\n",
       "      <td>-0.094981</td>\n",
       "      <td>...</td>\n",
       "      <td>-0.337417</td>\n",
       "      <td>-0.378254</td>\n",
       "      <td>-0.451209</td>\n",
       "      <td>-0.386519</td>\n",
       "      <td>-0.468517</td>\n",
       "      <td>-0.242874</td>\n",
       "      <td>-0.347988</td>\n",
       "      <td>-0.433189</td>\n",
       "      <td>-0.395904</td>\n",
       "      <td>-0.382337</td>\n",
       "    </tr>\n",
       "  </tbody>\n",
       "</table>\n",
       "<p>11051 rows × 382 columns</p>\n",
       "</div>"
      ],
      "text/plain": [
       "       hsa00010  hsa00020  hsa00030  hsa00040  hsa00051  hsa00052  hsa00053  \\\n",
       "5933  -0.106787 -0.064795 -0.078296 -0.083867 -0.091189 -0.084415  -0.07386   \n",
       "13119 -0.106787 -0.064795 -0.078296 -0.083867 -0.091189 -0.084415  -0.07386   \n",
       "8963  -0.106787 -0.064795 -0.078296 -0.083867 -0.091189 -0.084415  -0.07386   \n",
       "6100  -0.106787 -0.064795 -0.078296 -0.083867 -0.091189 -0.084415  -0.07386   \n",
       "2012  -0.106787 -0.064795 -0.078296 -0.083867 -0.091189 -0.084415  -0.07386   \n",
       "...         ...       ...       ...       ...       ...       ...       ...   \n",
       "5218  -0.106787 -0.064795 -0.078296 -0.083867 -0.091189 -0.084415  -0.07386   \n",
       "12252 -0.106787 -0.064795 -0.078296 -0.083867 -0.091189 -0.084415  -0.07386   \n",
       "1346  -0.106787 -0.064795 -0.078296 -0.083867 -0.091189 -0.084415  -0.07386   \n",
       "11646 -0.106787 -0.064795 -0.078296 -0.083867 -0.091189 -0.084415  -0.07386   \n",
       "3582  -0.106787 -0.064795 -0.078296 -0.083867 -0.091189 -0.084415  -0.07386   \n",
       "\n",
       "       hsa00061  hsa00062  hsa00071  ...  R-HSA-69306  R-HSA-73894  \\\n",
       "5933   -0.07779 -0.060684 -0.094981  ...    -0.353388    -0.382994   \n",
       "13119  -0.07779 -0.060684 -0.094981  ...    -0.353388    -0.382994   \n",
       "8963   -0.07779 -0.060684 -0.094981  ...    -0.353388    -0.382994   \n",
       "6100   -0.07779 -0.060684 -0.094981  ...    -0.332854    -0.366402   \n",
       "2012   -0.07779 -0.060684 -0.094981  ...    -0.353388    -0.382994   \n",
       "...         ...       ...       ...  ...          ...          ...   \n",
       "5218   -0.07779 -0.060684 -0.094981  ...     0.926534     0.964893   \n",
       "12252  -0.07779 -0.060684 -0.094981  ...    -0.320670    -0.372020   \n",
       "1346   -0.07779 -0.060684 -0.094981  ...    -0.353388    -0.341910   \n",
       "11646  -0.07779 -0.060684 -0.094981  ...    -0.353388    -0.382994   \n",
       "3582   -0.07779 -0.060684 -0.094981  ...    -0.337417    -0.378254   \n",
       "\n",
       "       R-HSA-74160  R-HSA-8953854  R-HSA-8953897  R-HSA-8963743  \\\n",
       "5933     -0.474333      -0.412583      -0.474986      -0.242874   \n",
       "13119    -0.473851      -0.411446      -0.472626      -0.242874   \n",
       "8963     -0.430779      -0.410422      -0.435823       0.052004   \n",
       "6100     -0.463304      -0.404176      -0.461239       2.705913   \n",
       "2012     -0.420258      -0.407539      -0.455578       0.052004   \n",
       "...            ...            ...            ...            ...   \n",
       "5218      2.412595       2.713393       1.817574       0.346883   \n",
       "12252    -0.293803      -0.398808      -0.325047       3.616527   \n",
       "1346     -0.406028      -0.412583      -0.392502       0.052004   \n",
       "11646    -0.474333      -0.412583      -0.474986      -0.242874   \n",
       "3582     -0.451209      -0.386519      -0.468517      -0.242874   \n",
       "\n",
       "       R-HSA-9609507  R-HSA-9612973  R-HSA-9709957  R-HSA-9748784  \n",
       "5933       -0.370960      -0.441132      -0.426913      -0.382337  \n",
       "13119      -0.370960      -0.441132      -0.426913      -0.352809  \n",
       "8963       -0.301211      -0.441132      -0.067136      -0.324502  \n",
       "6100       -0.370960      -0.441132      -0.426913      -0.341859  \n",
       "2012       -0.370960      -0.441132      -0.360466      -0.382337  \n",
       "...              ...            ...            ...            ...  \n",
       "5218        3.212663       1.596345       2.448020       0.548642  \n",
       "12252      -0.191726      -0.218495      -0.317627      -0.250228  \n",
       "1346       -0.370960      -0.441132      -0.342747      -0.281143  \n",
       "11646      -0.370960      -0.441132      -0.426913      -0.382337  \n",
       "3582       -0.347988      -0.433189      -0.395904      -0.382337  \n",
       "\n",
       "[11051 rows x 382 columns]"
      ]
     },
     "execution_count": 191,
     "metadata": {},
     "output_type": "execute_result"
    }
   ],
   "source": [
    "x_overtrain_mixed"
   ]
  },
  {
   "cell_type": "code",
   "execution_count": 104,
   "id": "521de82e",
   "metadata": {
    "collapsed": true
   },
   "outputs": [
    {
     "data": {
      "text/html": [
       "<div>\n",
       "<style scoped>\n",
       "    .dataframe tbody tr th:only-of-type {\n",
       "        vertical-align: middle;\n",
       "    }\n",
       "\n",
       "    .dataframe tbody tr th {\n",
       "        vertical-align: top;\n",
       "    }\n",
       "\n",
       "    .dataframe thead th {\n",
       "        text-align: right;\n",
       "    }\n",
       "</style>\n",
       "<table border=\"1\" class=\"dataframe\">\n",
       "  <thead>\n",
       "    <tr style=\"text-align: right;\">\n",
       "      <th></th>\n",
       "      <th>hsa00010</th>\n",
       "      <th>hsa00020</th>\n",
       "      <th>hsa00030</th>\n",
       "      <th>hsa00040</th>\n",
       "      <th>hsa00051</th>\n",
       "      <th>hsa00052</th>\n",
       "      <th>hsa00053</th>\n",
       "      <th>hsa00061</th>\n",
       "      <th>hsa00062</th>\n",
       "      <th>hsa00071</th>\n",
       "      <th>...</th>\n",
       "      <th>R-HSA-69306</th>\n",
       "      <th>R-HSA-73894</th>\n",
       "      <th>R-HSA-74160</th>\n",
       "      <th>R-HSA-8953854</th>\n",
       "      <th>R-HSA-8953897</th>\n",
       "      <th>R-HSA-8963743</th>\n",
       "      <th>R-HSA-9609507</th>\n",
       "      <th>R-HSA-9612973</th>\n",
       "      <th>R-HSA-9709957</th>\n",
       "      <th>R-HSA-9748784</th>\n",
       "    </tr>\n",
       "  </thead>\n",
       "  <tbody>\n",
       "    <tr>\n",
       "      <th>0</th>\n",
       "      <td>0.0</td>\n",
       "      <td>0.0</td>\n",
       "      <td>0.0</td>\n",
       "      <td>0.0</td>\n",
       "      <td>0.0</td>\n",
       "      <td>0.0</td>\n",
       "      <td>0.0</td>\n",
       "      <td>0.0</td>\n",
       "      <td>0.0</td>\n",
       "      <td>0.0</td>\n",
       "      <td>...</td>\n",
       "      <td>0.0</td>\n",
       "      <td>2.1</td>\n",
       "      <td>20.4</td>\n",
       "      <td>0.0</td>\n",
       "      <td>1.7</td>\n",
       "      <td>0.0</td>\n",
       "      <td>0.4</td>\n",
       "      <td>3.0</td>\n",
       "      <td>0.3</td>\n",
       "      <td>0.0</td>\n",
       "    </tr>\n",
       "    <tr>\n",
       "      <th>1</th>\n",
       "      <td>0.0</td>\n",
       "      <td>0.0</td>\n",
       "      <td>0.0</td>\n",
       "      <td>0.0</td>\n",
       "      <td>0.0</td>\n",
       "      <td>0.0</td>\n",
       "      <td>0.0</td>\n",
       "      <td>0.0</td>\n",
       "      <td>0.0</td>\n",
       "      <td>0.0</td>\n",
       "      <td>...</td>\n",
       "      <td>1.3</td>\n",
       "      <td>0.0</td>\n",
       "      <td>45.0</td>\n",
       "      <td>25.6</td>\n",
       "      <td>21.0</td>\n",
       "      <td>0.0</td>\n",
       "      <td>0.6</td>\n",
       "      <td>1.3</td>\n",
       "      <td>2.5</td>\n",
       "      <td>0.4</td>\n",
       "    </tr>\n",
       "    <tr>\n",
       "      <th>2</th>\n",
       "      <td>0.0</td>\n",
       "      <td>0.0</td>\n",
       "      <td>0.0</td>\n",
       "      <td>0.0</td>\n",
       "      <td>0.0</td>\n",
       "      <td>0.0</td>\n",
       "      <td>0.0</td>\n",
       "      <td>0.0</td>\n",
       "      <td>0.0</td>\n",
       "      <td>0.0</td>\n",
       "      <td>...</td>\n",
       "      <td>1.3</td>\n",
       "      <td>4.9</td>\n",
       "      <td>52.9</td>\n",
       "      <td>116.5</td>\n",
       "      <td>19.4</td>\n",
       "      <td>0.0</td>\n",
       "      <td>0.0</td>\n",
       "      <td>6.0</td>\n",
       "      <td>7.2</td>\n",
       "      <td>9.9</td>\n",
       "    </tr>\n",
       "    <tr>\n",
       "      <th>3</th>\n",
       "      <td>0.0</td>\n",
       "      <td>0.0</td>\n",
       "      <td>0.0</td>\n",
       "      <td>0.0</td>\n",
       "      <td>0.0</td>\n",
       "      <td>0.0</td>\n",
       "      <td>0.0</td>\n",
       "      <td>0.0</td>\n",
       "      <td>0.0</td>\n",
       "      <td>0.0</td>\n",
       "      <td>...</td>\n",
       "      <td>0.0</td>\n",
       "      <td>2.2</td>\n",
       "      <td>27.0</td>\n",
       "      <td>0.0</td>\n",
       "      <td>3.2</td>\n",
       "      <td>0.2</td>\n",
       "      <td>0.0</td>\n",
       "      <td>0.0</td>\n",
       "      <td>0.0</td>\n",
       "      <td>0.0</td>\n",
       "    </tr>\n",
       "    <tr>\n",
       "      <th>4</th>\n",
       "      <td>0.0</td>\n",
       "      <td>0.0</td>\n",
       "      <td>0.0</td>\n",
       "      <td>0.0</td>\n",
       "      <td>0.0</td>\n",
       "      <td>0.0</td>\n",
       "      <td>0.0</td>\n",
       "      <td>0.0</td>\n",
       "      <td>0.0</td>\n",
       "      <td>0.0</td>\n",
       "      <td>...</td>\n",
       "      <td>0.0</td>\n",
       "      <td>0.4</td>\n",
       "      <td>16.3</td>\n",
       "      <td>1.3</td>\n",
       "      <td>7.0</td>\n",
       "      <td>6.0</td>\n",
       "      <td>0.5</td>\n",
       "      <td>4.8</td>\n",
       "      <td>4.0</td>\n",
       "      <td>0.9</td>\n",
       "    </tr>\n",
       "    <tr>\n",
       "      <th>5</th>\n",
       "      <td>0.0</td>\n",
       "      <td>0.0</td>\n",
       "      <td>0.0</td>\n",
       "      <td>0.0</td>\n",
       "      <td>0.0</td>\n",
       "      <td>0.0</td>\n",
       "      <td>0.0</td>\n",
       "      <td>0.0</td>\n",
       "      <td>0.0</td>\n",
       "      <td>0.0</td>\n",
       "      <td>...</td>\n",
       "      <td>0.0</td>\n",
       "      <td>0.0</td>\n",
       "      <td>0.0</td>\n",
       "      <td>0.0</td>\n",
       "      <td>0.0</td>\n",
       "      <td>0.0</td>\n",
       "      <td>0.0</td>\n",
       "      <td>0.0</td>\n",
       "      <td>0.0</td>\n",
       "      <td>0.0</td>\n",
       "    </tr>\n",
       "    <tr>\n",
       "      <th>6</th>\n",
       "      <td>0.0</td>\n",
       "      <td>0.0</td>\n",
       "      <td>0.0</td>\n",
       "      <td>0.0</td>\n",
       "      <td>0.0</td>\n",
       "      <td>0.0</td>\n",
       "      <td>0.0</td>\n",
       "      <td>0.0</td>\n",
       "      <td>0.0</td>\n",
       "      <td>0.0</td>\n",
       "      <td>...</td>\n",
       "      <td>0.9</td>\n",
       "      <td>13.8</td>\n",
       "      <td>141.9</td>\n",
       "      <td>5.9</td>\n",
       "      <td>47.2</td>\n",
       "      <td>0.6</td>\n",
       "      <td>1.0</td>\n",
       "      <td>9.1</td>\n",
       "      <td>2.7</td>\n",
       "      <td>2.0</td>\n",
       "    </tr>\n",
       "    <tr>\n",
       "      <th>7</th>\n",
       "      <td>0.0</td>\n",
       "      <td>0.0</td>\n",
       "      <td>0.0</td>\n",
       "      <td>0.0</td>\n",
       "      <td>0.0</td>\n",
       "      <td>0.0</td>\n",
       "      <td>0.0</td>\n",
       "      <td>0.0</td>\n",
       "      <td>0.0</td>\n",
       "      <td>0.0</td>\n",
       "      <td>...</td>\n",
       "      <td>0.0</td>\n",
       "      <td>0.4</td>\n",
       "      <td>17.4</td>\n",
       "      <td>0.2</td>\n",
       "      <td>1.2</td>\n",
       "      <td>0.0</td>\n",
       "      <td>0.0</td>\n",
       "      <td>0.5</td>\n",
       "      <td>0.8</td>\n",
       "      <td>0.0</td>\n",
       "    </tr>\n",
       "    <tr>\n",
       "      <th>8</th>\n",
       "      <td>0.0</td>\n",
       "      <td>0.0</td>\n",
       "      <td>0.0</td>\n",
       "      <td>0.0</td>\n",
       "      <td>0.0</td>\n",
       "      <td>0.0</td>\n",
       "      <td>0.0</td>\n",
       "      <td>0.0</td>\n",
       "      <td>0.0</td>\n",
       "      <td>0.0</td>\n",
       "      <td>...</td>\n",
       "      <td>103.7</td>\n",
       "      <td>79.8</td>\n",
       "      <td>298.3</td>\n",
       "      <td>58.7</td>\n",
       "      <td>170.2</td>\n",
       "      <td>0.0</td>\n",
       "      <td>4.4</td>\n",
       "      <td>19.6</td>\n",
       "      <td>6.0</td>\n",
       "      <td>0.8</td>\n",
       "    </tr>\n",
       "    <tr>\n",
       "      <th>9</th>\n",
       "      <td>0.0</td>\n",
       "      <td>0.0</td>\n",
       "      <td>0.0</td>\n",
       "      <td>0.0</td>\n",
       "      <td>0.0</td>\n",
       "      <td>0.0</td>\n",
       "      <td>0.0</td>\n",
       "      <td>0.0</td>\n",
       "      <td>0.0</td>\n",
       "      <td>0.0</td>\n",
       "      <td>...</td>\n",
       "      <td>93.9</td>\n",
       "      <td>106.7</td>\n",
       "      <td>113.3</td>\n",
       "      <td>10.3</td>\n",
       "      <td>47.1</td>\n",
       "      <td>0.3</td>\n",
       "      <td>0.5</td>\n",
       "      <td>18.8</td>\n",
       "      <td>5.6</td>\n",
       "      <td>4.0</td>\n",
       "    </tr>\n",
       "  </tbody>\n",
       "</table>\n",
       "<p>10 rows × 382 columns</p>\n",
       "</div>"
      ],
      "text/plain": [
       "   hsa00010  hsa00020  hsa00030  hsa00040  hsa00051  hsa00052  hsa00053  \\\n",
       "0       0.0       0.0       0.0       0.0       0.0       0.0       0.0   \n",
       "1       0.0       0.0       0.0       0.0       0.0       0.0       0.0   \n",
       "2       0.0       0.0       0.0       0.0       0.0       0.0       0.0   \n",
       "3       0.0       0.0       0.0       0.0       0.0       0.0       0.0   \n",
       "4       0.0       0.0       0.0       0.0       0.0       0.0       0.0   \n",
       "5       0.0       0.0       0.0       0.0       0.0       0.0       0.0   \n",
       "6       0.0       0.0       0.0       0.0       0.0       0.0       0.0   \n",
       "7       0.0       0.0       0.0       0.0       0.0       0.0       0.0   \n",
       "8       0.0       0.0       0.0       0.0       0.0       0.0       0.0   \n",
       "9       0.0       0.0       0.0       0.0       0.0       0.0       0.0   \n",
       "\n",
       "   hsa00061  hsa00062  hsa00071  ...  R-HSA-69306  R-HSA-73894  R-HSA-74160  \\\n",
       "0       0.0       0.0       0.0  ...          0.0          2.1         20.4   \n",
       "1       0.0       0.0       0.0  ...          1.3          0.0         45.0   \n",
       "2       0.0       0.0       0.0  ...          1.3          4.9         52.9   \n",
       "3       0.0       0.0       0.0  ...          0.0          2.2         27.0   \n",
       "4       0.0       0.0       0.0  ...          0.0          0.4         16.3   \n",
       "5       0.0       0.0       0.0  ...          0.0          0.0          0.0   \n",
       "6       0.0       0.0       0.0  ...          0.9         13.8        141.9   \n",
       "7       0.0       0.0       0.0  ...          0.0          0.4         17.4   \n",
       "8       0.0       0.0       0.0  ...        103.7         79.8        298.3   \n",
       "9       0.0       0.0       0.0  ...         93.9        106.7        113.3   \n",
       "\n",
       "   R-HSA-8953854  R-HSA-8953897  R-HSA-8963743  R-HSA-9609507  R-HSA-9612973  \\\n",
       "0            0.0            1.7            0.0            0.4            3.0   \n",
       "1           25.6           21.0            0.0            0.6            1.3   \n",
       "2          116.5           19.4            0.0            0.0            6.0   \n",
       "3            0.0            3.2            0.2            0.0            0.0   \n",
       "4            1.3            7.0            6.0            0.5            4.8   \n",
       "5            0.0            0.0            0.0            0.0            0.0   \n",
       "6            5.9           47.2            0.6            1.0            9.1   \n",
       "7            0.2            1.2            0.0            0.0            0.5   \n",
       "8           58.7          170.2            0.0            4.4           19.6   \n",
       "9           10.3           47.1            0.3            0.5           18.8   \n",
       "\n",
       "   R-HSA-9709957  R-HSA-9748784  \n",
       "0            0.3            0.0  \n",
       "1            2.5            0.4  \n",
       "2            7.2            9.9  \n",
       "3            0.0            0.0  \n",
       "4            4.0            0.9  \n",
       "5            0.0            0.0  \n",
       "6            2.7            2.0  \n",
       "7            0.8            0.0  \n",
       "8            6.0            0.8  \n",
       "9            5.6            4.0  \n",
       "\n",
       "[10 rows x 382 columns]"
      ]
     },
     "execution_count": 104,
     "metadata": {},
     "output_type": "execute_result"
    }
   ],
   "source": [
    "newx=pd.concat([x,x_re],axis=1)\n",
    "newx.head(10)\n"
   ]
  },
  {
   "cell_type": "code",
   "execution_count": 12,
   "id": "94d714ca",
   "metadata": {
    "collapsed": true
   },
   "outputs": [
    {
     "ename": "NameError",
     "evalue": "name 'x_overtrain_mixed' is not defined",
     "output_type": "error",
     "traceback": [
      "\u001b[0;31m---------------------------------------------------------------------------\u001b[0m",
      "\u001b[0;31mNameError\u001b[0m                                 Traceback (most recent call last)",
      "\u001b[0;32m/var/folders/cn/cfs3s7gn76b7lv5q1ghlym9r0000gn/T/ipykernel_15856/1296769450.py\u001b[0m in \u001b[0;36m<module>\u001b[0;34m\u001b[0m\n\u001b[0;32m----> 1\u001b[0;31m \u001b[0mx_overtrain_kegg\u001b[0m\u001b[0;34m=\u001b[0m\u001b[0mx_overtrain_mixed\u001b[0m\u001b[0;34m[\u001b[0m\u001b[0mx\u001b[0m\u001b[0;34m.\u001b[0m\u001b[0mcolumns\u001b[0m\u001b[0;34m]\u001b[0m\u001b[0;34m\u001b[0m\u001b[0;34m\u001b[0m\u001b[0m\n\u001b[0m\u001b[1;32m      2\u001b[0m \u001b[0mx_overtest_kegg\u001b[0m\u001b[0;34m=\u001b[0m\u001b[0mx_overtest_mixed\u001b[0m\u001b[0;34m[\u001b[0m\u001b[0mx\u001b[0m\u001b[0;34m.\u001b[0m\u001b[0mcolumns\u001b[0m\u001b[0;34m]\u001b[0m\u001b[0;34m\u001b[0m\u001b[0;34m\u001b[0m\u001b[0m\n\u001b[1;32m      3\u001b[0m \u001b[0mx_overtrain_re\u001b[0m\u001b[0;34m=\u001b[0m\u001b[0mx_overtrain_mixed\u001b[0m\u001b[0;34m[\u001b[0m\u001b[0mx_re\u001b[0m\u001b[0;34m.\u001b[0m\u001b[0mcolumns\u001b[0m\u001b[0;34m]\u001b[0m\u001b[0;34m\u001b[0m\u001b[0;34m\u001b[0m\u001b[0m\n\u001b[1;32m      4\u001b[0m \u001b[0mx_overtest_re\u001b[0m\u001b[0;34m=\u001b[0m\u001b[0mx_overtest_mixed\u001b[0m\u001b[0;34m[\u001b[0m\u001b[0mx_re\u001b[0m\u001b[0;34m.\u001b[0m\u001b[0mcolumns\u001b[0m\u001b[0;34m]\u001b[0m\u001b[0;34m\u001b[0m\u001b[0;34m\u001b[0m\u001b[0m\n\u001b[1;32m      5\u001b[0m \u001b[0mx_train_kegg\u001b[0m\u001b[0;34m=\u001b[0m\u001b[0mx_train_mixed\u001b[0m\u001b[0;34m[\u001b[0m\u001b[0mx\u001b[0m\u001b[0;34m.\u001b[0m\u001b[0mcolumns\u001b[0m\u001b[0;34m]\u001b[0m\u001b[0;34m\u001b[0m\u001b[0;34m\u001b[0m\u001b[0m\n",
      "\u001b[0;31mNameError\u001b[0m: name 'x_overtrain_mixed' is not defined"
     ]
    }
   ],
   "source": [
    "x_overtrain_kegg=x_overtrain_mixed[x.columns]\n",
    "x_overtest_kegg=x_overtest_mixed[x.columns]\n",
    "x_overtrain_re=x_overtrain_mixed[x_re.columns]\n",
    "x_overtest_re=x_overtest_mixed[x_re.columns]\n",
    "x_train_kegg=x_train_mixed[x.columns]\n",
    "x_test_kegg=x_test_mixed[x.columns]\n",
    "x_train_re=x_train_mixed[x_re.columns]\n",
    "x_test_re=x_test_mixed[x_re.columns]"
   ]
  },
  {
   "cell_type": "code",
   "execution_count": 185,
   "id": "9eda2752",
   "metadata": {
    "collapsed": true
   },
   "outputs": [
    {
     "data": {
      "text/html": [
       "<div>\n",
       "<style scoped>\n",
       "    .dataframe tbody tr th:only-of-type {\n",
       "        vertical-align: middle;\n",
       "    }\n",
       "\n",
       "    .dataframe tbody tr th {\n",
       "        vertical-align: top;\n",
       "    }\n",
       "\n",
       "    .dataframe thead th {\n",
       "        text-align: right;\n",
       "    }\n",
       "</style>\n",
       "<table border=\"1\" class=\"dataframe\">\n",
       "  <thead>\n",
       "    <tr style=\"text-align: right;\">\n",
       "      <th></th>\n",
       "      <th>hsa00010</th>\n",
       "      <th>hsa00020</th>\n",
       "      <th>hsa00030</th>\n",
       "      <th>hsa00040</th>\n",
       "      <th>hsa00051</th>\n",
       "      <th>hsa00052</th>\n",
       "      <th>hsa00053</th>\n",
       "      <th>hsa00061</th>\n",
       "      <th>hsa00062</th>\n",
       "      <th>hsa00071</th>\n",
       "      <th>...</th>\n",
       "      <th>hsa05330</th>\n",
       "      <th>hsa05332</th>\n",
       "      <th>hsa05340</th>\n",
       "      <th>hsa05410</th>\n",
       "      <th>hsa05412</th>\n",
       "      <th>hsa05414</th>\n",
       "      <th>hsa05415</th>\n",
       "      <th>hsa05416</th>\n",
       "      <th>hsa05417</th>\n",
       "      <th>hsa05418</th>\n",
       "    </tr>\n",
       "  </thead>\n",
       "  <tbody>\n",
       "    <tr>\n",
       "      <th>11925</th>\n",
       "      <td>0.0</td>\n",
       "      <td>0.0</td>\n",
       "      <td>0.0</td>\n",
       "      <td>0.0</td>\n",
       "      <td>0.0</td>\n",
       "      <td>0.0</td>\n",
       "      <td>0.0</td>\n",
       "      <td>0.0</td>\n",
       "      <td>0.0</td>\n",
       "      <td>0.0</td>\n",
       "      <td>...</td>\n",
       "      <td>0.0</td>\n",
       "      <td>0.0</td>\n",
       "      <td>0.0</td>\n",
       "      <td>0.0</td>\n",
       "      <td>0.0</td>\n",
       "      <td>0.0</td>\n",
       "      <td>0.000000</td>\n",
       "      <td>0.0</td>\n",
       "      <td>0.000000</td>\n",
       "      <td>0.0</td>\n",
       "    </tr>\n",
       "    <tr>\n",
       "      <th>12921</th>\n",
       "      <td>0.0</td>\n",
       "      <td>0.0</td>\n",
       "      <td>0.0</td>\n",
       "      <td>0.0</td>\n",
       "      <td>0.0</td>\n",
       "      <td>0.0</td>\n",
       "      <td>0.0</td>\n",
       "      <td>0.0</td>\n",
       "      <td>0.0</td>\n",
       "      <td>0.0</td>\n",
       "      <td>...</td>\n",
       "      <td>0.0</td>\n",
       "      <td>0.0</td>\n",
       "      <td>0.0</td>\n",
       "      <td>0.0</td>\n",
       "      <td>0.0</td>\n",
       "      <td>0.0</td>\n",
       "      <td>0.000000</td>\n",
       "      <td>0.0</td>\n",
       "      <td>0.000000</td>\n",
       "      <td>0.0</td>\n",
       "    </tr>\n",
       "    <tr>\n",
       "      <th>11246</th>\n",
       "      <td>0.0</td>\n",
       "      <td>0.0</td>\n",
       "      <td>0.0</td>\n",
       "      <td>0.0</td>\n",
       "      <td>0.0</td>\n",
       "      <td>0.0</td>\n",
       "      <td>0.0</td>\n",
       "      <td>0.0</td>\n",
       "      <td>0.0</td>\n",
       "      <td>0.0</td>\n",
       "      <td>...</td>\n",
       "      <td>0.0</td>\n",
       "      <td>0.0</td>\n",
       "      <td>0.0</td>\n",
       "      <td>0.0</td>\n",
       "      <td>0.0</td>\n",
       "      <td>0.0</td>\n",
       "      <td>0.255555</td>\n",
       "      <td>0.0</td>\n",
       "      <td>0.255555</td>\n",
       "      <td>0.0</td>\n",
       "    </tr>\n",
       "    <tr>\n",
       "      <th>3735</th>\n",
       "      <td>0.0</td>\n",
       "      <td>0.0</td>\n",
       "      <td>0.0</td>\n",
       "      <td>0.0</td>\n",
       "      <td>0.0</td>\n",
       "      <td>0.0</td>\n",
       "      <td>0.0</td>\n",
       "      <td>0.0</td>\n",
       "      <td>0.0</td>\n",
       "      <td>0.0</td>\n",
       "      <td>...</td>\n",
       "      <td>0.0</td>\n",
       "      <td>0.0</td>\n",
       "      <td>0.0</td>\n",
       "      <td>0.0</td>\n",
       "      <td>0.0</td>\n",
       "      <td>0.0</td>\n",
       "      <td>0.000000</td>\n",
       "      <td>0.0</td>\n",
       "      <td>0.000000</td>\n",
       "      <td>0.0</td>\n",
       "    </tr>\n",
       "    <tr>\n",
       "      <th>5467</th>\n",
       "      <td>0.0</td>\n",
       "      <td>0.0</td>\n",
       "      <td>0.0</td>\n",
       "      <td>0.0</td>\n",
       "      <td>0.0</td>\n",
       "      <td>0.0</td>\n",
       "      <td>0.0</td>\n",
       "      <td>0.0</td>\n",
       "      <td>0.0</td>\n",
       "      <td>0.0</td>\n",
       "      <td>...</td>\n",
       "      <td>0.0</td>\n",
       "      <td>0.0</td>\n",
       "      <td>0.0</td>\n",
       "      <td>1.0</td>\n",
       "      <td>2.0</td>\n",
       "      <td>1.0</td>\n",
       "      <td>3.000000</td>\n",
       "      <td>1.0</td>\n",
       "      <td>2.000000</td>\n",
       "      <td>1.0</td>\n",
       "    </tr>\n",
       "    <tr>\n",
       "      <th>...</th>\n",
       "      <td>...</td>\n",
       "      <td>...</td>\n",
       "      <td>...</td>\n",
       "      <td>...</td>\n",
       "      <td>...</td>\n",
       "      <td>...</td>\n",
       "      <td>...</td>\n",
       "      <td>...</td>\n",
       "      <td>...</td>\n",
       "      <td>...</td>\n",
       "      <td>...</td>\n",
       "      <td>...</td>\n",
       "      <td>...</td>\n",
       "      <td>...</td>\n",
       "      <td>...</td>\n",
       "      <td>...</td>\n",
       "      <td>...</td>\n",
       "      <td>...</td>\n",
       "      <td>...</td>\n",
       "      <td>...</td>\n",
       "      <td>...</td>\n",
       "    </tr>\n",
       "    <tr>\n",
       "      <th>10526</th>\n",
       "      <td>0.0</td>\n",
       "      <td>0.0</td>\n",
       "      <td>0.0</td>\n",
       "      <td>0.0</td>\n",
       "      <td>0.0</td>\n",
       "      <td>0.0</td>\n",
       "      <td>0.0</td>\n",
       "      <td>0.0</td>\n",
       "      <td>0.0</td>\n",
       "      <td>0.0</td>\n",
       "      <td>...</td>\n",
       "      <td>0.0</td>\n",
       "      <td>0.0</td>\n",
       "      <td>0.0</td>\n",
       "      <td>0.0</td>\n",
       "      <td>0.0</td>\n",
       "      <td>0.0</td>\n",
       "      <td>0.000000</td>\n",
       "      <td>0.0</td>\n",
       "      <td>0.000000</td>\n",
       "      <td>0.0</td>\n",
       "    </tr>\n",
       "    <tr>\n",
       "      <th>3927</th>\n",
       "      <td>0.0</td>\n",
       "      <td>0.0</td>\n",
       "      <td>0.0</td>\n",
       "      <td>0.0</td>\n",
       "      <td>0.0</td>\n",
       "      <td>0.0</td>\n",
       "      <td>0.0</td>\n",
       "      <td>0.0</td>\n",
       "      <td>0.0</td>\n",
       "      <td>0.0</td>\n",
       "      <td>...</td>\n",
       "      <td>0.0</td>\n",
       "      <td>0.0</td>\n",
       "      <td>0.0</td>\n",
       "      <td>0.0</td>\n",
       "      <td>0.0</td>\n",
       "      <td>0.0</td>\n",
       "      <td>0.000000</td>\n",
       "      <td>0.0</td>\n",
       "      <td>0.000000</td>\n",
       "      <td>0.0</td>\n",
       "    </tr>\n",
       "    <tr>\n",
       "      <th>9880</th>\n",
       "      <td>0.0</td>\n",
       "      <td>0.0</td>\n",
       "      <td>0.0</td>\n",
       "      <td>0.0</td>\n",
       "      <td>0.0</td>\n",
       "      <td>0.0</td>\n",
       "      <td>0.0</td>\n",
       "      <td>0.0</td>\n",
       "      <td>0.0</td>\n",
       "      <td>0.0</td>\n",
       "      <td>...</td>\n",
       "      <td>0.0</td>\n",
       "      <td>0.0</td>\n",
       "      <td>0.0</td>\n",
       "      <td>0.0</td>\n",
       "      <td>0.0</td>\n",
       "      <td>0.0</td>\n",
       "      <td>0.000000</td>\n",
       "      <td>0.0</td>\n",
       "      <td>0.000000</td>\n",
       "      <td>0.0</td>\n",
       "    </tr>\n",
       "    <tr>\n",
       "      <th>12331</th>\n",
       "      <td>0.0</td>\n",
       "      <td>0.0</td>\n",
       "      <td>0.0</td>\n",
       "      <td>0.0</td>\n",
       "      <td>0.0</td>\n",
       "      <td>0.0</td>\n",
       "      <td>0.0</td>\n",
       "      <td>0.0</td>\n",
       "      <td>0.0</td>\n",
       "      <td>0.0</td>\n",
       "      <td>...</td>\n",
       "      <td>0.0</td>\n",
       "      <td>0.0</td>\n",
       "      <td>0.0</td>\n",
       "      <td>0.0</td>\n",
       "      <td>0.0</td>\n",
       "      <td>0.0</td>\n",
       "      <td>0.000000</td>\n",
       "      <td>0.0</td>\n",
       "      <td>0.000000</td>\n",
       "      <td>0.0</td>\n",
       "    </tr>\n",
       "    <tr>\n",
       "      <th>5558</th>\n",
       "      <td>0.0</td>\n",
       "      <td>0.0</td>\n",
       "      <td>0.0</td>\n",
       "      <td>0.0</td>\n",
       "      <td>0.0</td>\n",
       "      <td>0.0</td>\n",
       "      <td>0.0</td>\n",
       "      <td>0.0</td>\n",
       "      <td>0.0</td>\n",
       "      <td>0.0</td>\n",
       "      <td>...</td>\n",
       "      <td>0.0</td>\n",
       "      <td>0.0</td>\n",
       "      <td>0.0</td>\n",
       "      <td>0.0</td>\n",
       "      <td>0.0</td>\n",
       "      <td>0.0</td>\n",
       "      <td>0.000000</td>\n",
       "      <td>0.0</td>\n",
       "      <td>0.000000</td>\n",
       "      <td>0.0</td>\n",
       "    </tr>\n",
       "  </tbody>\n",
       "</table>\n",
       "<p>2763 rows × 353 columns</p>\n",
       "</div>"
      ],
      "text/plain": [
       "       hsa00010  hsa00020  hsa00030  hsa00040  hsa00051  hsa00052  hsa00053  \\\n",
       "11925       0.0       0.0       0.0       0.0       0.0       0.0       0.0   \n",
       "12921       0.0       0.0       0.0       0.0       0.0       0.0       0.0   \n",
       "11246       0.0       0.0       0.0       0.0       0.0       0.0       0.0   \n",
       "3735        0.0       0.0       0.0       0.0       0.0       0.0       0.0   \n",
       "5467        0.0       0.0       0.0       0.0       0.0       0.0       0.0   \n",
       "...         ...       ...       ...       ...       ...       ...       ...   \n",
       "10526       0.0       0.0       0.0       0.0       0.0       0.0       0.0   \n",
       "3927        0.0       0.0       0.0       0.0       0.0       0.0       0.0   \n",
       "9880        0.0       0.0       0.0       0.0       0.0       0.0       0.0   \n",
       "12331       0.0       0.0       0.0       0.0       0.0       0.0       0.0   \n",
       "5558        0.0       0.0       0.0       0.0       0.0       0.0       0.0   \n",
       "\n",
       "       hsa00061  hsa00062  hsa00071  ...  hsa05330  hsa05332  hsa05340  \\\n",
       "11925       0.0       0.0       0.0  ...       0.0       0.0       0.0   \n",
       "12921       0.0       0.0       0.0  ...       0.0       0.0       0.0   \n",
       "11246       0.0       0.0       0.0  ...       0.0       0.0       0.0   \n",
       "3735        0.0       0.0       0.0  ...       0.0       0.0       0.0   \n",
       "5467        0.0       0.0       0.0  ...       0.0       0.0       0.0   \n",
       "...         ...       ...       ...  ...       ...       ...       ...   \n",
       "10526       0.0       0.0       0.0  ...       0.0       0.0       0.0   \n",
       "3927        0.0       0.0       0.0  ...       0.0       0.0       0.0   \n",
       "9880        0.0       0.0       0.0  ...       0.0       0.0       0.0   \n",
       "12331       0.0       0.0       0.0  ...       0.0       0.0       0.0   \n",
       "5558        0.0       0.0       0.0  ...       0.0       0.0       0.0   \n",
       "\n",
       "       hsa05410  hsa05412  hsa05414  hsa05415  hsa05416  hsa05417  hsa05418  \n",
       "11925       0.0       0.0       0.0  0.000000       0.0  0.000000       0.0  \n",
       "12921       0.0       0.0       0.0  0.000000       0.0  0.000000       0.0  \n",
       "11246       0.0       0.0       0.0  0.255555       0.0  0.255555       0.0  \n",
       "3735        0.0       0.0       0.0  0.000000       0.0  0.000000       0.0  \n",
       "5467        1.0       2.0       1.0  3.000000       1.0  2.000000       1.0  \n",
       "...         ...       ...       ...       ...       ...       ...       ...  \n",
       "10526       0.0       0.0       0.0  0.000000       0.0  0.000000       0.0  \n",
       "3927        0.0       0.0       0.0  0.000000       0.0  0.000000       0.0  \n",
       "9880        0.0       0.0       0.0  0.000000       0.0  0.000000       0.0  \n",
       "12331       0.0       0.0       0.0  0.000000       0.0  0.000000       0.0  \n",
       "5558        0.0       0.0       0.0  0.000000       0.0  0.000000       0.0  \n",
       "\n",
       "[2763 rows x 353 columns]"
      ]
     },
     "execution_count": 185,
     "metadata": {},
     "output_type": "execute_result"
    }
   ],
   "source": [
    "x_test_kegg\n"
   ]
  },
  {
   "cell_type": "code",
   "execution_count": 187,
   "id": "542682d7",
   "metadata": {
    "collapsed": true
   },
   "outputs": [
    {
     "name": "stdout",
     "output_type": "stream",
     "text": [
      "0.8335 0.7506\n",
      "0.8336 0.646\n",
      "0.9121 0.6536\n",
      "0.9119 0.8147\n"
     ]
    }
   ],
   "source": [
    "train_acc_before, test_acc_before = modeling_uncustomized(algorithm, \n",
    "                                                          x_train_kegg,\n",
    "                                                          y_train_mixed,\n",
    "                                                          x_test_kegg,\n",
    "                                                          y_test_mixed)\n",
    "print(train_acc_before,test_acc_before)\n",
    "train_acc_before, test_acc_before = modeling_uncustomized(algorithm, \n",
    "                                                          x_over_train_kegg,\n",
    "                                                          y_overtrain_mixed,\n",
    "                                                          x_over_test_kegg,\n",
    "                                                          y_overtest_mixed)\n",
    "print(train_acc_before,test_acc_before)\n",
    "train_acc_before, test_acc_before = modeling_uncustomized(algorithm, \n",
    "                                                          x_over_train_re,\n",
    "                                                          y_overtrain_mixed,\n",
    "                                                          x_over_test_re,\n",
    "                                                          y_overtest_mixed)\n",
    "print(train_acc_before,test_acc_before)\n",
    "train_acc_before, test_acc_before = modeling_uncustomized(algorithm, \n",
    "                                                          x_train_re,\n",
    "                                                          y_train_mixed,\n",
    "                                                          x_test_re,\n",
    "                                                          y_test_mixed)\n",
    "print(train_acc_before,test_acc_before)"
   ]
  },
  {
   "cell_type": "code",
   "execution_count": 23,
   "id": "c4890b2e",
   "metadata": {
    "collapsed": true
   },
   "outputs": [
    {
     "data": {
      "text/plain": [
       "0.8182"
      ]
     },
     "execution_count": 23,
     "metadata": {},
     "output_type": "execute_result"
    }
   ],
   "source": [
    "test_acc_before"
   ]
  },
  {
   "cell_type": "code",
   "execution_count": 15,
   "id": "4f7dffa4",
   "metadata": {
    "collapsed": true
   },
   "outputs": [],
   "source": [
    "x_re2=x_re.sum(axis=1)"
   ]
  },
  {
   "cell_type": "code",
   "execution_count": 119,
   "id": "bc487c96",
   "metadata": {
    "collapsed": true
   },
   "outputs": [
    {
     "data": {
      "text/plain": [
       "array([[-0.09902562, -0.06376069, -0.07401737, ..., -0.14144798,\n",
       "        -0.21614043, -0.17064972],\n",
       "       [-0.09902562, -0.06376069, -0.07401737, ..., -0.14144798,\n",
       "        -0.21614043, -0.17064972],\n",
       "       [-0.09902562, -0.06376069, -0.07401737, ..., -0.14144798,\n",
       "        -0.21614043, -0.17064972],\n",
       "       ...,\n",
       "       [-0.09902562, -0.06376069, -0.07401737, ..., -0.14144798,\n",
       "        -0.21614043, -0.17064972],\n",
       "       [-0.09902562, -0.06376069, -0.07401737, ..., -0.14144798,\n",
       "        -0.21614043, -0.17064972],\n",
       "       [-0.09902562, -0.06376069, -0.07401737, ..., -0.14144798,\n",
       "        -0.21614043, -0.17064972]])"
      ]
     },
     "execution_count": 119,
     "metadata": {},
     "output_type": "execute_result"
    }
   ],
   "source": [
    "x_overtest"
   ]
  },
  {
   "cell_type": "code",
   "execution_count": 13,
   "id": "fffba8ea",
   "metadata": {
    "collapsed": true
   },
   "outputs": [
    {
     "data": {
      "text/plain": [
       "0.8171"
      ]
     },
     "execution_count": 13,
     "metadata": {},
     "output_type": "execute_result"
    }
   ],
   "source": [
    "test_acc_before"
   ]
  },
  {
   "cell_type": "code",
   "execution_count": 121,
   "id": "068a3486",
   "metadata": {
    "collapsed": true
   },
   "outputs": [
    {
     "data": {
      "text/html": [
       "<div>\n",
       "<style scoped>\n",
       "    .dataframe tbody tr th:only-of-type {\n",
       "        vertical-align: middle;\n",
       "    }\n",
       "\n",
       "    .dataframe tbody tr th {\n",
       "        vertical-align: top;\n",
       "    }\n",
       "\n",
       "    .dataframe thead th {\n",
       "        text-align: right;\n",
       "    }\n",
       "</style>\n",
       "<table border=\"1\" class=\"dataframe\">\n",
       "  <thead>\n",
       "    <tr style=\"text-align: right;\">\n",
       "      <th></th>\n",
       "      <th>hsa00010</th>\n",
       "      <th>hsa00020</th>\n",
       "      <th>hsa00030</th>\n",
       "      <th>hsa00040</th>\n",
       "      <th>hsa00051</th>\n",
       "      <th>hsa00052</th>\n",
       "      <th>hsa00053</th>\n",
       "      <th>hsa00061</th>\n",
       "      <th>hsa00062</th>\n",
       "      <th>hsa00071</th>\n",
       "      <th>...</th>\n",
       "      <th>hsa05330</th>\n",
       "      <th>hsa05332</th>\n",
       "      <th>hsa05340</th>\n",
       "      <th>hsa05410</th>\n",
       "      <th>hsa05412</th>\n",
       "      <th>hsa05414</th>\n",
       "      <th>hsa05415</th>\n",
       "      <th>hsa05416</th>\n",
       "      <th>hsa05417</th>\n",
       "      <th>hsa05418</th>\n",
       "    </tr>\n",
       "  </thead>\n",
       "  <tbody>\n",
       "    <tr>\n",
       "      <th>0</th>\n",
       "      <td>0.0</td>\n",
       "      <td>0.0</td>\n",
       "      <td>0.0</td>\n",
       "      <td>0.0</td>\n",
       "      <td>0.0</td>\n",
       "      <td>0.0</td>\n",
       "      <td>0.0</td>\n",
       "      <td>0.0</td>\n",
       "      <td>0.0</td>\n",
       "      <td>0.0</td>\n",
       "      <td>...</td>\n",
       "      <td>0.0</td>\n",
       "      <td>0.0</td>\n",
       "      <td>0.0</td>\n",
       "      <td>0.0</td>\n",
       "      <td>0.0</td>\n",
       "      <td>0.0</td>\n",
       "      <td>0.0</td>\n",
       "      <td>0.0</td>\n",
       "      <td>0.0</td>\n",
       "      <td>0.0</td>\n",
       "    </tr>\n",
       "    <tr>\n",
       "      <th>1</th>\n",
       "      <td>0.0</td>\n",
       "      <td>0.0</td>\n",
       "      <td>0.0</td>\n",
       "      <td>0.0</td>\n",
       "      <td>0.0</td>\n",
       "      <td>0.0</td>\n",
       "      <td>0.0</td>\n",
       "      <td>0.0</td>\n",
       "      <td>0.0</td>\n",
       "      <td>0.0</td>\n",
       "      <td>...</td>\n",
       "      <td>0.0</td>\n",
       "      <td>0.0</td>\n",
       "      <td>0.0</td>\n",
       "      <td>0.0</td>\n",
       "      <td>0.0</td>\n",
       "      <td>0.0</td>\n",
       "      <td>0.0</td>\n",
       "      <td>0.0</td>\n",
       "      <td>0.0</td>\n",
       "      <td>0.0</td>\n",
       "    </tr>\n",
       "    <tr>\n",
       "      <th>2</th>\n",
       "      <td>0.0</td>\n",
       "      <td>0.0</td>\n",
       "      <td>0.0</td>\n",
       "      <td>0.0</td>\n",
       "      <td>0.0</td>\n",
       "      <td>0.0</td>\n",
       "      <td>0.0</td>\n",
       "      <td>0.0</td>\n",
       "      <td>0.0</td>\n",
       "      <td>0.0</td>\n",
       "      <td>...</td>\n",
       "      <td>0.0</td>\n",
       "      <td>0.0</td>\n",
       "      <td>0.0</td>\n",
       "      <td>0.0</td>\n",
       "      <td>0.0</td>\n",
       "      <td>0.0</td>\n",
       "      <td>0.0</td>\n",
       "      <td>0.0</td>\n",
       "      <td>0.0</td>\n",
       "      <td>0.0</td>\n",
       "    </tr>\n",
       "    <tr>\n",
       "      <th>3</th>\n",
       "      <td>0.0</td>\n",
       "      <td>0.0</td>\n",
       "      <td>0.0</td>\n",
       "      <td>0.0</td>\n",
       "      <td>0.0</td>\n",
       "      <td>0.0</td>\n",
       "      <td>0.0</td>\n",
       "      <td>0.0</td>\n",
       "      <td>0.0</td>\n",
       "      <td>0.0</td>\n",
       "      <td>...</td>\n",
       "      <td>0.0</td>\n",
       "      <td>0.0</td>\n",
       "      <td>0.0</td>\n",
       "      <td>0.0</td>\n",
       "      <td>0.0</td>\n",
       "      <td>0.0</td>\n",
       "      <td>0.0</td>\n",
       "      <td>0.0</td>\n",
       "      <td>0.0</td>\n",
       "      <td>0.0</td>\n",
       "    </tr>\n",
       "    <tr>\n",
       "      <th>4</th>\n",
       "      <td>0.0</td>\n",
       "      <td>0.0</td>\n",
       "      <td>0.0</td>\n",
       "      <td>0.0</td>\n",
       "      <td>0.0</td>\n",
       "      <td>0.0</td>\n",
       "      <td>0.0</td>\n",
       "      <td>0.0</td>\n",
       "      <td>0.0</td>\n",
       "      <td>0.0</td>\n",
       "      <td>...</td>\n",
       "      <td>0.0</td>\n",
       "      <td>0.0</td>\n",
       "      <td>0.0</td>\n",
       "      <td>0.0</td>\n",
       "      <td>0.0</td>\n",
       "      <td>0.0</td>\n",
       "      <td>0.0</td>\n",
       "      <td>0.0</td>\n",
       "      <td>0.0</td>\n",
       "      <td>0.0</td>\n",
       "    </tr>\n",
       "    <tr>\n",
       "      <th>...</th>\n",
       "      <td>...</td>\n",
       "      <td>...</td>\n",
       "      <td>...</td>\n",
       "      <td>...</td>\n",
       "      <td>...</td>\n",
       "      <td>...</td>\n",
       "      <td>...</td>\n",
       "      <td>...</td>\n",
       "      <td>...</td>\n",
       "      <td>...</td>\n",
       "      <td>...</td>\n",
       "      <td>...</td>\n",
       "      <td>...</td>\n",
       "      <td>...</td>\n",
       "      <td>...</td>\n",
       "      <td>...</td>\n",
       "      <td>...</td>\n",
       "      <td>...</td>\n",
       "      <td>...</td>\n",
       "      <td>...</td>\n",
       "      <td>...</td>\n",
       "    </tr>\n",
       "    <tr>\n",
       "      <th>33226</th>\n",
       "      <td>0.0</td>\n",
       "      <td>0.0</td>\n",
       "      <td>0.0</td>\n",
       "      <td>0.0</td>\n",
       "      <td>0.0</td>\n",
       "      <td>0.0</td>\n",
       "      <td>0.0</td>\n",
       "      <td>0.0</td>\n",
       "      <td>0.0</td>\n",
       "      <td>0.0</td>\n",
       "      <td>...</td>\n",
       "      <td>0.0</td>\n",
       "      <td>0.0</td>\n",
       "      <td>0.0</td>\n",
       "      <td>0.0</td>\n",
       "      <td>0.0</td>\n",
       "      <td>0.0</td>\n",
       "      <td>0.0</td>\n",
       "      <td>0.0</td>\n",
       "      <td>0.0</td>\n",
       "      <td>0.0</td>\n",
       "    </tr>\n",
       "    <tr>\n",
       "      <th>33227</th>\n",
       "      <td>0.0</td>\n",
       "      <td>0.0</td>\n",
       "      <td>0.0</td>\n",
       "      <td>0.0</td>\n",
       "      <td>0.0</td>\n",
       "      <td>0.0</td>\n",
       "      <td>0.0</td>\n",
       "      <td>0.0</td>\n",
       "      <td>0.0</td>\n",
       "      <td>0.0</td>\n",
       "      <td>...</td>\n",
       "      <td>0.0</td>\n",
       "      <td>0.0</td>\n",
       "      <td>0.0</td>\n",
       "      <td>0.0</td>\n",
       "      <td>4.0</td>\n",
       "      <td>0.0</td>\n",
       "      <td>0.0</td>\n",
       "      <td>0.0</td>\n",
       "      <td>0.0</td>\n",
       "      <td>4.0</td>\n",
       "    </tr>\n",
       "    <tr>\n",
       "      <th>33228</th>\n",
       "      <td>0.0</td>\n",
       "      <td>0.0</td>\n",
       "      <td>0.0</td>\n",
       "      <td>0.0</td>\n",
       "      <td>1.0</td>\n",
       "      <td>0.0</td>\n",
       "      <td>0.0</td>\n",
       "      <td>0.0</td>\n",
       "      <td>0.0</td>\n",
       "      <td>0.0</td>\n",
       "      <td>...</td>\n",
       "      <td>0.0</td>\n",
       "      <td>0.0</td>\n",
       "      <td>0.0</td>\n",
       "      <td>0.0</td>\n",
       "      <td>0.0</td>\n",
       "      <td>0.0</td>\n",
       "      <td>0.0</td>\n",
       "      <td>0.0</td>\n",
       "      <td>0.0</td>\n",
       "      <td>0.0</td>\n",
       "    </tr>\n",
       "    <tr>\n",
       "      <th>33229</th>\n",
       "      <td>0.0</td>\n",
       "      <td>0.0</td>\n",
       "      <td>0.0</td>\n",
       "      <td>0.0</td>\n",
       "      <td>0.0</td>\n",
       "      <td>0.0</td>\n",
       "      <td>0.0</td>\n",
       "      <td>0.0</td>\n",
       "      <td>0.0</td>\n",
       "      <td>0.0</td>\n",
       "      <td>...</td>\n",
       "      <td>0.0</td>\n",
       "      <td>0.0</td>\n",
       "      <td>0.0</td>\n",
       "      <td>0.0</td>\n",
       "      <td>0.0</td>\n",
       "      <td>0.0</td>\n",
       "      <td>0.0</td>\n",
       "      <td>0.0</td>\n",
       "      <td>0.0</td>\n",
       "      <td>0.0</td>\n",
       "    </tr>\n",
       "    <tr>\n",
       "      <th>33231</th>\n",
       "      <td>0.0</td>\n",
       "      <td>0.0</td>\n",
       "      <td>0.0</td>\n",
       "      <td>0.0</td>\n",
       "      <td>0.0</td>\n",
       "      <td>0.0</td>\n",
       "      <td>0.0</td>\n",
       "      <td>0.0</td>\n",
       "      <td>0.0</td>\n",
       "      <td>0.0</td>\n",
       "      <td>...</td>\n",
       "      <td>0.0</td>\n",
       "      <td>0.0</td>\n",
       "      <td>0.0</td>\n",
       "      <td>0.0</td>\n",
       "      <td>0.0</td>\n",
       "      <td>0.0</td>\n",
       "      <td>3.0</td>\n",
       "      <td>0.0</td>\n",
       "      <td>0.0</td>\n",
       "      <td>0.0</td>\n",
       "    </tr>\n",
       "  </tbody>\n",
       "</table>\n",
       "<p>8743 rows × 353 columns</p>\n",
       "</div>"
      ],
      "text/plain": [
       "       hsa00010  hsa00020  hsa00030  hsa00040  hsa00051  hsa00052  hsa00053  \\\n",
       "0           0.0       0.0       0.0       0.0       0.0       0.0       0.0   \n",
       "1           0.0       0.0       0.0       0.0       0.0       0.0       0.0   \n",
       "2           0.0       0.0       0.0       0.0       0.0       0.0       0.0   \n",
       "3           0.0       0.0       0.0       0.0       0.0       0.0       0.0   \n",
       "4           0.0       0.0       0.0       0.0       0.0       0.0       0.0   \n",
       "...         ...       ...       ...       ...       ...       ...       ...   \n",
       "33226       0.0       0.0       0.0       0.0       0.0       0.0       0.0   \n",
       "33227       0.0       0.0       0.0       0.0       0.0       0.0       0.0   \n",
       "33228       0.0       0.0       0.0       0.0       1.0       0.0       0.0   \n",
       "33229       0.0       0.0       0.0       0.0       0.0       0.0       0.0   \n",
       "33231       0.0       0.0       0.0       0.0       0.0       0.0       0.0   \n",
       "\n",
       "       hsa00061  hsa00062  hsa00071  ...  hsa05330  hsa05332  hsa05340  \\\n",
       "0           0.0       0.0       0.0  ...       0.0       0.0       0.0   \n",
       "1           0.0       0.0       0.0  ...       0.0       0.0       0.0   \n",
       "2           0.0       0.0       0.0  ...       0.0       0.0       0.0   \n",
       "3           0.0       0.0       0.0  ...       0.0       0.0       0.0   \n",
       "4           0.0       0.0       0.0  ...       0.0       0.0       0.0   \n",
       "...         ...       ...       ...  ...       ...       ...       ...   \n",
       "33226       0.0       0.0       0.0  ...       0.0       0.0       0.0   \n",
       "33227       0.0       0.0       0.0  ...       0.0       0.0       0.0   \n",
       "33228       0.0       0.0       0.0  ...       0.0       0.0       0.0   \n",
       "33229       0.0       0.0       0.0  ...       0.0       0.0       0.0   \n",
       "33231       0.0       0.0       0.0  ...       0.0       0.0       0.0   \n",
       "\n",
       "       hsa05410  hsa05412  hsa05414  hsa05415  hsa05416  hsa05417  hsa05418  \n",
       "0           0.0       0.0       0.0       0.0       0.0       0.0       0.0  \n",
       "1           0.0       0.0       0.0       0.0       0.0       0.0       0.0  \n",
       "2           0.0       0.0       0.0       0.0       0.0       0.0       0.0  \n",
       "3           0.0       0.0       0.0       0.0       0.0       0.0       0.0  \n",
       "4           0.0       0.0       0.0       0.0       0.0       0.0       0.0  \n",
       "...         ...       ...       ...       ...       ...       ...       ...  \n",
       "33226       0.0       0.0       0.0       0.0       0.0       0.0       0.0  \n",
       "33227       0.0       4.0       0.0       0.0       0.0       0.0       4.0  \n",
       "33228       0.0       0.0       0.0       0.0       0.0       0.0       0.0  \n",
       "33229       0.0       0.0       0.0       0.0       0.0       0.0       0.0  \n",
       "33231       0.0       0.0       0.0       3.0       0.0       0.0       0.0  \n",
       "\n",
       "[8743 rows x 353 columns]"
      ]
     },
     "execution_count": 121,
     "metadata": {},
     "output_type": "execute_result"
    }
   ],
   "source": [
    "x"
   ]
  },
  {
   "cell_type": "code",
   "execution_count": 4,
   "id": "5caa987b",
   "metadata": {
    "collapsed": true
   },
   "outputs": [
    {
     "ename": "NameError",
     "evalue": "name 'x_re2' is not defined",
     "output_type": "error",
     "traceback": [
      "\u001b[0;31m---------------------------------------------------------------------------\u001b[0m",
      "\u001b[0;31mNameError\u001b[0m                                 Traceback (most recent call last)",
      "\u001b[0;32m/var/folders/cn/cfs3s7gn76b7lv5q1ghlym9r0000gn/T/ipykernel_91986/861577353.py\u001b[0m in \u001b[0;36m<module>\u001b[0;34m\u001b[0m\n\u001b[0;32m----> 1\u001b[0;31m \u001b[0mx_re2\u001b[0m\u001b[0;34m.\u001b[0m\u001b[0mloc\u001b[0m\u001b[0;34m[\u001b[0m\u001b[0;36m33229\u001b[0m\u001b[0;34m]\u001b[0m\u001b[0;34m\u001b[0m\u001b[0;34m\u001b[0m\u001b[0m\n\u001b[0m",
      "\u001b[0;31mNameError\u001b[0m: name 'x_re2' is not defined"
     ]
    }
   ],
   "source": [
    "x_re2.loc[33229]"
   ]
  },
  {
   "cell_type": "code",
   "execution_count": null,
   "id": "c7fd512d",
   "metadata": {
    "collapsed": true
   },
   "outputs": [],
   "source": [
    "indexs=[]\n",
    "for i in x_re2.index:\n",
    "    if x_re2.loc[i]!=0.0 :\n",
    "        indexs.append(i)"
   ]
  },
  {
   "cell_type": "code",
   "execution_count": 54,
   "id": "e5088261",
   "metadata": {
    "collapsed": true
   },
   "outputs": [
    {
     "data": {
      "text/html": [
       "<div>\n",
       "<style scoped>\n",
       "    .dataframe tbody tr th:only-of-type {\n",
       "        vertical-align: middle;\n",
       "    }\n",
       "\n",
       "    .dataframe tbody tr th {\n",
       "        vertical-align: top;\n",
       "    }\n",
       "\n",
       "    .dataframe thead th {\n",
       "        text-align: right;\n",
       "    }\n",
       "</style>\n",
       "<table border=\"1\" class=\"dataframe\">\n",
       "  <thead>\n",
       "    <tr style=\"text-align: right;\">\n",
       "      <th></th>\n",
       "      <th>R-HSA-109582</th>\n",
       "      <th>R-HSA-112316</th>\n",
       "      <th>R-HSA-1266738</th>\n",
       "      <th>R-HSA-1430728</th>\n",
       "      <th>R-HSA-1474165</th>\n",
       "      <th>R-HSA-1474244</th>\n",
       "      <th>R-HSA-1500931</th>\n",
       "      <th>R-HSA-162582</th>\n",
       "      <th>R-HSA-1640170</th>\n",
       "      <th>R-HSA-1643685</th>\n",
       "      <th>...</th>\n",
       "      <th>R-HSA-69306</th>\n",
       "      <th>R-HSA-73894</th>\n",
       "      <th>R-HSA-74160</th>\n",
       "      <th>R-HSA-8953854</th>\n",
       "      <th>R-HSA-8953897</th>\n",
       "      <th>R-HSA-8963743</th>\n",
       "      <th>R-HSA-9609507</th>\n",
       "      <th>R-HSA-9612973</th>\n",
       "      <th>R-HSA-9709957</th>\n",
       "      <th>R-HSA-9748784</th>\n",
       "    </tr>\n",
       "  </thead>\n",
       "  <tbody>\n",
       "    <tr>\n",
       "      <th>0</th>\n",
       "      <td>0.0</td>\n",
       "      <td>0.0</td>\n",
       "      <td>3.0</td>\n",
       "      <td>0.0</td>\n",
       "      <td>0.0</td>\n",
       "      <td>0.0</td>\n",
       "      <td>0.0</td>\n",
       "      <td>0.0</td>\n",
       "      <td>0.0</td>\n",
       "      <td>0.0</td>\n",
       "      <td>...</td>\n",
       "      <td>0.0</td>\n",
       "      <td>0.0</td>\n",
       "      <td>0.0</td>\n",
       "      <td>0.0</td>\n",
       "      <td>0.0</td>\n",
       "      <td>0.0</td>\n",
       "      <td>0.0</td>\n",
       "      <td>0.0</td>\n",
       "      <td>0.0</td>\n",
       "      <td>0.0</td>\n",
       "    </tr>\n",
       "    <tr>\n",
       "      <th>1</th>\n",
       "      <td>0.0</td>\n",
       "      <td>0.0</td>\n",
       "      <td>0.0</td>\n",
       "      <td>0.0</td>\n",
       "      <td>0.0</td>\n",
       "      <td>0.0</td>\n",
       "      <td>0.0</td>\n",
       "      <td>0.0</td>\n",
       "      <td>0.0</td>\n",
       "      <td>0.0</td>\n",
       "      <td>...</td>\n",
       "      <td>0.0</td>\n",
       "      <td>0.0</td>\n",
       "      <td>0.0</td>\n",
       "      <td>0.0</td>\n",
       "      <td>0.0</td>\n",
       "      <td>0.0</td>\n",
       "      <td>0.0</td>\n",
       "      <td>0.0</td>\n",
       "      <td>0.0</td>\n",
       "      <td>0.0</td>\n",
       "    </tr>\n",
       "    <tr>\n",
       "      <th>2</th>\n",
       "      <td>0.0</td>\n",
       "      <td>0.0</td>\n",
       "      <td>0.0</td>\n",
       "      <td>0.0</td>\n",
       "      <td>0.0</td>\n",
       "      <td>0.0</td>\n",
       "      <td>0.0</td>\n",
       "      <td>0.0</td>\n",
       "      <td>0.0</td>\n",
       "      <td>0.0</td>\n",
       "      <td>...</td>\n",
       "      <td>0.0</td>\n",
       "      <td>0.0</td>\n",
       "      <td>0.0</td>\n",
       "      <td>0.0</td>\n",
       "      <td>0.0</td>\n",
       "      <td>0.0</td>\n",
       "      <td>0.0</td>\n",
       "      <td>0.0</td>\n",
       "      <td>0.0</td>\n",
       "      <td>0.0</td>\n",
       "    </tr>\n",
       "    <tr>\n",
       "      <th>3</th>\n",
       "      <td>0.0</td>\n",
       "      <td>0.0</td>\n",
       "      <td>0.0</td>\n",
       "      <td>0.0</td>\n",
       "      <td>0.0</td>\n",
       "      <td>0.0</td>\n",
       "      <td>0.0</td>\n",
       "      <td>0.0</td>\n",
       "      <td>0.0</td>\n",
       "      <td>0.0</td>\n",
       "      <td>...</td>\n",
       "      <td>0.0</td>\n",
       "      <td>0.0</td>\n",
       "      <td>0.0</td>\n",
       "      <td>0.0</td>\n",
       "      <td>0.0</td>\n",
       "      <td>0.0</td>\n",
       "      <td>0.0</td>\n",
       "      <td>0.0</td>\n",
       "      <td>0.0</td>\n",
       "      <td>0.0</td>\n",
       "    </tr>\n",
       "    <tr>\n",
       "      <th>4</th>\n",
       "      <td>0.0</td>\n",
       "      <td>0.0</td>\n",
       "      <td>0.0</td>\n",
       "      <td>0.0</td>\n",
       "      <td>0.0</td>\n",
       "      <td>0.0</td>\n",
       "      <td>0.0</td>\n",
       "      <td>0.0</td>\n",
       "      <td>0.0</td>\n",
       "      <td>0.0</td>\n",
       "      <td>...</td>\n",
       "      <td>0.0</td>\n",
       "      <td>0.0</td>\n",
       "      <td>0.0</td>\n",
       "      <td>0.0</td>\n",
       "      <td>0.0</td>\n",
       "      <td>0.0</td>\n",
       "      <td>0.0</td>\n",
       "      <td>0.0</td>\n",
       "      <td>0.0</td>\n",
       "      <td>0.0</td>\n",
       "    </tr>\n",
       "    <tr>\n",
       "      <th>...</th>\n",
       "      <td>...</td>\n",
       "      <td>...</td>\n",
       "      <td>...</td>\n",
       "      <td>...</td>\n",
       "      <td>...</td>\n",
       "      <td>...</td>\n",
       "      <td>...</td>\n",
       "      <td>...</td>\n",
       "      <td>...</td>\n",
       "      <td>...</td>\n",
       "      <td>...</td>\n",
       "      <td>...</td>\n",
       "      <td>...</td>\n",
       "      <td>...</td>\n",
       "      <td>...</td>\n",
       "      <td>...</td>\n",
       "      <td>...</td>\n",
       "      <td>...</td>\n",
       "      <td>...</td>\n",
       "      <td>...</td>\n",
       "      <td>...</td>\n",
       "    </tr>\n",
       "    <tr>\n",
       "      <th>33226</th>\n",
       "      <td>0.0</td>\n",
       "      <td>0.0</td>\n",
       "      <td>0.0</td>\n",
       "      <td>0.0</td>\n",
       "      <td>0.0</td>\n",
       "      <td>0.0</td>\n",
       "      <td>0.0</td>\n",
       "      <td>0.0</td>\n",
       "      <td>0.0</td>\n",
       "      <td>0.0</td>\n",
       "      <td>...</td>\n",
       "      <td>0.0</td>\n",
       "      <td>0.0</td>\n",
       "      <td>0.0</td>\n",
       "      <td>0.0</td>\n",
       "      <td>0.0</td>\n",
       "      <td>0.0</td>\n",
       "      <td>0.0</td>\n",
       "      <td>0.0</td>\n",
       "      <td>0.0</td>\n",
       "      <td>0.0</td>\n",
       "    </tr>\n",
       "    <tr>\n",
       "      <th>33227</th>\n",
       "      <td>0.0</td>\n",
       "      <td>0.0</td>\n",
       "      <td>0.0</td>\n",
       "      <td>0.0</td>\n",
       "      <td>0.0</td>\n",
       "      <td>0.0</td>\n",
       "      <td>0.0</td>\n",
       "      <td>0.0</td>\n",
       "      <td>0.0</td>\n",
       "      <td>0.0</td>\n",
       "      <td>...</td>\n",
       "      <td>0.0</td>\n",
       "      <td>0.0</td>\n",
       "      <td>0.0</td>\n",
       "      <td>0.0</td>\n",
       "      <td>0.0</td>\n",
       "      <td>0.0</td>\n",
       "      <td>0.0</td>\n",
       "      <td>0.0</td>\n",
       "      <td>0.0</td>\n",
       "      <td>0.0</td>\n",
       "    </tr>\n",
       "    <tr>\n",
       "      <th>33228</th>\n",
       "      <td>0.0</td>\n",
       "      <td>0.0</td>\n",
       "      <td>0.0</td>\n",
       "      <td>0.0</td>\n",
       "      <td>0.0</td>\n",
       "      <td>0.0</td>\n",
       "      <td>0.0</td>\n",
       "      <td>0.0</td>\n",
       "      <td>0.0</td>\n",
       "      <td>0.0</td>\n",
       "      <td>...</td>\n",
       "      <td>0.0</td>\n",
       "      <td>0.0</td>\n",
       "      <td>0.0</td>\n",
       "      <td>0.0</td>\n",
       "      <td>0.0</td>\n",
       "      <td>0.0</td>\n",
       "      <td>0.0</td>\n",
       "      <td>0.0</td>\n",
       "      <td>0.0</td>\n",
       "      <td>0.0</td>\n",
       "    </tr>\n",
       "    <tr>\n",
       "      <th>33229</th>\n",
       "      <td>0.0</td>\n",
       "      <td>0.0</td>\n",
       "      <td>0.0</td>\n",
       "      <td>0.0</td>\n",
       "      <td>0.0</td>\n",
       "      <td>0.0</td>\n",
       "      <td>0.0</td>\n",
       "      <td>0.0</td>\n",
       "      <td>0.0</td>\n",
       "      <td>0.0</td>\n",
       "      <td>...</td>\n",
       "      <td>0.0</td>\n",
       "      <td>0.0</td>\n",
       "      <td>0.0</td>\n",
       "      <td>0.0</td>\n",
       "      <td>0.0</td>\n",
       "      <td>0.0</td>\n",
       "      <td>0.0</td>\n",
       "      <td>0.0</td>\n",
       "      <td>0.0</td>\n",
       "      <td>0.0</td>\n",
       "    </tr>\n",
       "    <tr>\n",
       "      <th>33231</th>\n",
       "      <td>0.0</td>\n",
       "      <td>0.0</td>\n",
       "      <td>0.0</td>\n",
       "      <td>0.0</td>\n",
       "      <td>0.0</td>\n",
       "      <td>0.0</td>\n",
       "      <td>0.0</td>\n",
       "      <td>0.0</td>\n",
       "      <td>0.0</td>\n",
       "      <td>0.0</td>\n",
       "      <td>...</td>\n",
       "      <td>0.0</td>\n",
       "      <td>0.0</td>\n",
       "      <td>0.0</td>\n",
       "      <td>0.0</td>\n",
       "      <td>0.0</td>\n",
       "      <td>0.0</td>\n",
       "      <td>0.0</td>\n",
       "      <td>0.0</td>\n",
       "      <td>0.0</td>\n",
       "      <td>0.0</td>\n",
       "    </tr>\n",
       "  </tbody>\n",
       "</table>\n",
       "<p>8711 rows × 29 columns</p>\n",
       "</div>"
      ],
      "text/plain": [
       "       R-HSA-109582  R-HSA-112316  R-HSA-1266738  R-HSA-1430728  \\\n",
       "0               0.0           0.0            3.0            0.0   \n",
       "1               0.0           0.0            0.0            0.0   \n",
       "2               0.0           0.0            0.0            0.0   \n",
       "3               0.0           0.0            0.0            0.0   \n",
       "4               0.0           0.0            0.0            0.0   \n",
       "...             ...           ...            ...            ...   \n",
       "33226           0.0           0.0            0.0            0.0   \n",
       "33227           0.0           0.0            0.0            0.0   \n",
       "33228           0.0           0.0            0.0            0.0   \n",
       "33229           0.0           0.0            0.0            0.0   \n",
       "33231           0.0           0.0            0.0            0.0   \n",
       "\n",
       "       R-HSA-1474165  R-HSA-1474244  R-HSA-1500931  R-HSA-162582  \\\n",
       "0                0.0            0.0            0.0           0.0   \n",
       "1                0.0            0.0            0.0           0.0   \n",
       "2                0.0            0.0            0.0           0.0   \n",
       "3                0.0            0.0            0.0           0.0   \n",
       "4                0.0            0.0            0.0           0.0   \n",
       "...              ...            ...            ...           ...   \n",
       "33226            0.0            0.0            0.0           0.0   \n",
       "33227            0.0            0.0            0.0           0.0   \n",
       "33228            0.0            0.0            0.0           0.0   \n",
       "33229            0.0            0.0            0.0           0.0   \n",
       "33231            0.0            0.0            0.0           0.0   \n",
       "\n",
       "       R-HSA-1640170  R-HSA-1643685  ...  R-HSA-69306  R-HSA-73894  \\\n",
       "0                0.0            0.0  ...          0.0          0.0   \n",
       "1                0.0            0.0  ...          0.0          0.0   \n",
       "2                0.0            0.0  ...          0.0          0.0   \n",
       "3                0.0            0.0  ...          0.0          0.0   \n",
       "4                0.0            0.0  ...          0.0          0.0   \n",
       "...              ...            ...  ...          ...          ...   \n",
       "33226            0.0            0.0  ...          0.0          0.0   \n",
       "33227            0.0            0.0  ...          0.0          0.0   \n",
       "33228            0.0            0.0  ...          0.0          0.0   \n",
       "33229            0.0            0.0  ...          0.0          0.0   \n",
       "33231            0.0            0.0  ...          0.0          0.0   \n",
       "\n",
       "       R-HSA-74160  R-HSA-8953854  R-HSA-8953897  R-HSA-8963743  \\\n",
       "0              0.0            0.0            0.0            0.0   \n",
       "1              0.0            0.0            0.0            0.0   \n",
       "2              0.0            0.0            0.0            0.0   \n",
       "3              0.0            0.0            0.0            0.0   \n",
       "4              0.0            0.0            0.0            0.0   \n",
       "...            ...            ...            ...            ...   \n",
       "33226          0.0            0.0            0.0            0.0   \n",
       "33227          0.0            0.0            0.0            0.0   \n",
       "33228          0.0            0.0            0.0            0.0   \n",
       "33229          0.0            0.0            0.0            0.0   \n",
       "33231          0.0            0.0            0.0            0.0   \n",
       "\n",
       "       R-HSA-9609507  R-HSA-9612973  R-HSA-9709957  R-HSA-9748784  \n",
       "0                0.0            0.0            0.0            0.0  \n",
       "1                0.0            0.0            0.0            0.0  \n",
       "2                0.0            0.0            0.0            0.0  \n",
       "3                0.0            0.0            0.0            0.0  \n",
       "4                0.0            0.0            0.0            0.0  \n",
       "...              ...            ...            ...            ...  \n",
       "33226            0.0            0.0            0.0            0.0  \n",
       "33227            0.0            0.0            0.0            0.0  \n",
       "33228            0.0            0.0            0.0            0.0  \n",
       "33229            0.0            0.0            0.0            0.0  \n",
       "33231            0.0            0.0            0.0            0.0  \n",
       "\n",
       "[8711 rows x 29 columns]"
      ]
     },
     "execution_count": 54,
     "metadata": {},
     "output_type": "execute_result"
    }
   ],
   "source": [
    "x_re"
   ]
  },
  {
   "cell_type": "code",
   "execution_count": 63,
   "id": "0bae7ca6",
   "metadata": {
    "collapsed": true
   },
   "outputs": [],
   "source": [
    "x_re=x_re.loc[indexs]"
   ]
  },
  {
   "cell_type": "code",
   "execution_count": 64,
   "id": "bd43e09d",
   "metadata": {
    "collapsed": true
   },
   "outputs": [
    {
     "data": {
      "text/html": [
       "<div>\n",
       "<style scoped>\n",
       "    .dataframe tbody tr th:only-of-type {\n",
       "        vertical-align: middle;\n",
       "    }\n",
       "\n",
       "    .dataframe tbody tr th {\n",
       "        vertical-align: top;\n",
       "    }\n",
       "\n",
       "    .dataframe thead th {\n",
       "        text-align: right;\n",
       "    }\n",
       "</style>\n",
       "<table border=\"1\" class=\"dataframe\">\n",
       "  <thead>\n",
       "    <tr style=\"text-align: right;\">\n",
       "      <th></th>\n",
       "      <th>R-HSA-109582</th>\n",
       "      <th>R-HSA-112316</th>\n",
       "      <th>R-HSA-1266738</th>\n",
       "      <th>R-HSA-1430728</th>\n",
       "      <th>R-HSA-1474165</th>\n",
       "      <th>R-HSA-1474244</th>\n",
       "      <th>R-HSA-1500931</th>\n",
       "      <th>R-HSA-162582</th>\n",
       "      <th>R-HSA-1640170</th>\n",
       "      <th>R-HSA-1643685</th>\n",
       "      <th>...</th>\n",
       "      <th>R-HSA-69306</th>\n",
       "      <th>R-HSA-73894</th>\n",
       "      <th>R-HSA-74160</th>\n",
       "      <th>R-HSA-8953854</th>\n",
       "      <th>R-HSA-8953897</th>\n",
       "      <th>R-HSA-8963743</th>\n",
       "      <th>R-HSA-9609507</th>\n",
       "      <th>R-HSA-9612973</th>\n",
       "      <th>R-HSA-9709957</th>\n",
       "      <th>R-HSA-9748784</th>\n",
       "    </tr>\n",
       "  </thead>\n",
       "  <tbody>\n",
       "    <tr>\n",
       "      <th>0</th>\n",
       "      <td>0.0</td>\n",
       "      <td>0.0</td>\n",
       "      <td>3.0</td>\n",
       "      <td>0.0</td>\n",
       "      <td>0.0</td>\n",
       "      <td>0.0</td>\n",
       "      <td>0.0</td>\n",
       "      <td>0.0</td>\n",
       "      <td>0.0</td>\n",
       "      <td>0.0</td>\n",
       "      <td>...</td>\n",
       "      <td>0.0</td>\n",
       "      <td>0.0</td>\n",
       "      <td>0.0</td>\n",
       "      <td>0.0</td>\n",
       "      <td>0.0</td>\n",
       "      <td>0.0</td>\n",
       "      <td>0.0</td>\n",
       "      <td>0.0</td>\n",
       "      <td>0.0</td>\n",
       "      <td>0.0</td>\n",
       "    </tr>\n",
       "    <tr>\n",
       "      <th>2</th>\n",
       "      <td>0.0</td>\n",
       "      <td>0.0</td>\n",
       "      <td>0.0</td>\n",
       "      <td>0.0</td>\n",
       "      <td>0.0</td>\n",
       "      <td>0.0</td>\n",
       "      <td>0.0</td>\n",
       "      <td>0.0</td>\n",
       "      <td>0.0</td>\n",
       "      <td>0.0</td>\n",
       "      <td>...</td>\n",
       "      <td>0.0</td>\n",
       "      <td>0.0</td>\n",
       "      <td>0.0</td>\n",
       "      <td>0.0</td>\n",
       "      <td>0.0</td>\n",
       "      <td>0.0</td>\n",
       "      <td>0.0</td>\n",
       "      <td>0.0</td>\n",
       "      <td>0.0</td>\n",
       "      <td>0.0</td>\n",
       "    </tr>\n",
       "    <tr>\n",
       "      <th>36</th>\n",
       "      <td>0.0</td>\n",
       "      <td>0.0</td>\n",
       "      <td>0.0</td>\n",
       "      <td>0.0</td>\n",
       "      <td>0.0</td>\n",
       "      <td>3.0</td>\n",
       "      <td>0.0</td>\n",
       "      <td>0.0</td>\n",
       "      <td>0.0</td>\n",
       "      <td>0.0</td>\n",
       "      <td>...</td>\n",
       "      <td>0.0</td>\n",
       "      <td>0.0</td>\n",
       "      <td>0.0</td>\n",
       "      <td>0.0</td>\n",
       "      <td>0.0</td>\n",
       "      <td>0.0</td>\n",
       "      <td>0.0</td>\n",
       "      <td>0.0</td>\n",
       "      <td>0.0</td>\n",
       "      <td>0.0</td>\n",
       "    </tr>\n",
       "    <tr>\n",
       "      <th>37</th>\n",
       "      <td>0.0</td>\n",
       "      <td>0.0</td>\n",
       "      <td>0.0</td>\n",
       "      <td>0.0</td>\n",
       "      <td>0.0</td>\n",
       "      <td>0.0</td>\n",
       "      <td>0.0</td>\n",
       "      <td>0.0</td>\n",
       "      <td>0.0</td>\n",
       "      <td>0.0</td>\n",
       "      <td>...</td>\n",
       "      <td>0.0</td>\n",
       "      <td>0.0</td>\n",
       "      <td>0.0</td>\n",
       "      <td>0.0</td>\n",
       "      <td>0.0</td>\n",
       "      <td>0.0</td>\n",
       "      <td>0.0</td>\n",
       "      <td>0.0</td>\n",
       "      <td>0.0</td>\n",
       "      <td>1.0</td>\n",
       "    </tr>\n",
       "    <tr>\n",
       "      <th>46</th>\n",
       "      <td>0.0</td>\n",
       "      <td>0.0</td>\n",
       "      <td>0.0</td>\n",
       "      <td>0.0</td>\n",
       "      <td>0.0</td>\n",
       "      <td>0.0</td>\n",
       "      <td>0.0</td>\n",
       "      <td>0.0</td>\n",
       "      <td>0.0</td>\n",
       "      <td>0.0</td>\n",
       "      <td>...</td>\n",
       "      <td>0.0</td>\n",
       "      <td>0.0</td>\n",
       "      <td>0.0</td>\n",
       "      <td>0.0</td>\n",
       "      <td>0.0</td>\n",
       "      <td>0.0</td>\n",
       "      <td>0.0</td>\n",
       "      <td>0.0</td>\n",
       "      <td>0.0</td>\n",
       "      <td>0.0</td>\n",
       "    </tr>\n",
       "    <tr>\n",
       "      <th>...</th>\n",
       "      <td>...</td>\n",
       "      <td>...</td>\n",
       "      <td>...</td>\n",
       "      <td>...</td>\n",
       "      <td>...</td>\n",
       "      <td>...</td>\n",
       "      <td>...</td>\n",
       "      <td>...</td>\n",
       "      <td>...</td>\n",
       "      <td>...</td>\n",
       "      <td>...</td>\n",
       "      <td>...</td>\n",
       "      <td>...</td>\n",
       "      <td>...</td>\n",
       "      <td>...</td>\n",
       "      <td>...</td>\n",
       "      <td>...</td>\n",
       "      <td>...</td>\n",
       "      <td>...</td>\n",
       "      <td>...</td>\n",
       "      <td>...</td>\n",
       "    </tr>\n",
       "    <tr>\n",
       "      <th>33188</th>\n",
       "      <td>0.0</td>\n",
       "      <td>0.0</td>\n",
       "      <td>0.0</td>\n",
       "      <td>0.0</td>\n",
       "      <td>0.0</td>\n",
       "      <td>0.0</td>\n",
       "      <td>0.0</td>\n",
       "      <td>0.0</td>\n",
       "      <td>0.0</td>\n",
       "      <td>0.0</td>\n",
       "      <td>...</td>\n",
       "      <td>0.0</td>\n",
       "      <td>0.0</td>\n",
       "      <td>0.0</td>\n",
       "      <td>0.0</td>\n",
       "      <td>0.0</td>\n",
       "      <td>0.0</td>\n",
       "      <td>0.0</td>\n",
       "      <td>0.0</td>\n",
       "      <td>0.0</td>\n",
       "      <td>0.0</td>\n",
       "    </tr>\n",
       "    <tr>\n",
       "      <th>33193</th>\n",
       "      <td>0.0</td>\n",
       "      <td>0.0</td>\n",
       "      <td>0.0</td>\n",
       "      <td>0.0</td>\n",
       "      <td>0.0</td>\n",
       "      <td>0.0</td>\n",
       "      <td>0.0</td>\n",
       "      <td>0.0</td>\n",
       "      <td>0.0</td>\n",
       "      <td>0.0</td>\n",
       "      <td>...</td>\n",
       "      <td>0.0</td>\n",
       "      <td>0.0</td>\n",
       "      <td>0.0</td>\n",
       "      <td>0.0</td>\n",
       "      <td>0.0</td>\n",
       "      <td>0.0</td>\n",
       "      <td>0.0</td>\n",
       "      <td>0.0</td>\n",
       "      <td>0.0</td>\n",
       "      <td>3.0</td>\n",
       "    </tr>\n",
       "    <tr>\n",
       "      <th>33209</th>\n",
       "      <td>0.0</td>\n",
       "      <td>0.0</td>\n",
       "      <td>0.0</td>\n",
       "      <td>0.0</td>\n",
       "      <td>2.0</td>\n",
       "      <td>0.0</td>\n",
       "      <td>0.0</td>\n",
       "      <td>0.0</td>\n",
       "      <td>0.0</td>\n",
       "      <td>0.0</td>\n",
       "      <td>...</td>\n",
       "      <td>0.0</td>\n",
       "      <td>0.0</td>\n",
       "      <td>0.0</td>\n",
       "      <td>0.0</td>\n",
       "      <td>0.0</td>\n",
       "      <td>0.0</td>\n",
       "      <td>0.0</td>\n",
       "      <td>0.0</td>\n",
       "      <td>0.0</td>\n",
       "      <td>0.0</td>\n",
       "    </tr>\n",
       "    <tr>\n",
       "      <th>33214</th>\n",
       "      <td>0.0</td>\n",
       "      <td>0.0</td>\n",
       "      <td>0.0</td>\n",
       "      <td>0.0</td>\n",
       "      <td>0.0</td>\n",
       "      <td>0.0</td>\n",
       "      <td>0.0</td>\n",
       "      <td>0.0</td>\n",
       "      <td>0.0</td>\n",
       "      <td>0.0</td>\n",
       "      <td>...</td>\n",
       "      <td>0.0</td>\n",
       "      <td>0.0</td>\n",
       "      <td>3.0</td>\n",
       "      <td>0.0</td>\n",
       "      <td>0.0</td>\n",
       "      <td>0.0</td>\n",
       "      <td>0.0</td>\n",
       "      <td>0.0</td>\n",
       "      <td>0.0</td>\n",
       "      <td>0.0</td>\n",
       "    </tr>\n",
       "    <tr>\n",
       "      <th>33219</th>\n",
       "      <td>0.0</td>\n",
       "      <td>0.0</td>\n",
       "      <td>0.0</td>\n",
       "      <td>0.0</td>\n",
       "      <td>0.0</td>\n",
       "      <td>0.0</td>\n",
       "      <td>0.0</td>\n",
       "      <td>0.0</td>\n",
       "      <td>0.0</td>\n",
       "      <td>0.0</td>\n",
       "      <td>...</td>\n",
       "      <td>3.0</td>\n",
       "      <td>0.0</td>\n",
       "      <td>0.0</td>\n",
       "      <td>0.0</td>\n",
       "      <td>0.0</td>\n",
       "      <td>0.0</td>\n",
       "      <td>0.0</td>\n",
       "      <td>0.0</td>\n",
       "      <td>0.0</td>\n",
       "      <td>0.0</td>\n",
       "    </tr>\n",
       "  </tbody>\n",
       "</table>\n",
       "<p>1546 rows × 29 columns</p>\n",
       "</div>"
      ],
      "text/plain": [
       "       R-HSA-109582  R-HSA-112316  R-HSA-1266738  R-HSA-1430728  \\\n",
       "0               0.0           0.0            3.0            0.0   \n",
       "2               0.0           0.0            0.0            0.0   \n",
       "36              0.0           0.0            0.0            0.0   \n",
       "37              0.0           0.0            0.0            0.0   \n",
       "46              0.0           0.0            0.0            0.0   \n",
       "...             ...           ...            ...            ...   \n",
       "33188           0.0           0.0            0.0            0.0   \n",
       "33193           0.0           0.0            0.0            0.0   \n",
       "33209           0.0           0.0            0.0            0.0   \n",
       "33214           0.0           0.0            0.0            0.0   \n",
       "33219           0.0           0.0            0.0            0.0   \n",
       "\n",
       "       R-HSA-1474165  R-HSA-1474244  R-HSA-1500931  R-HSA-162582  \\\n",
       "0                0.0            0.0            0.0           0.0   \n",
       "2                0.0            0.0            0.0           0.0   \n",
       "36               0.0            3.0            0.0           0.0   \n",
       "37               0.0            0.0            0.0           0.0   \n",
       "46               0.0            0.0            0.0           0.0   \n",
       "...              ...            ...            ...           ...   \n",
       "33188            0.0            0.0            0.0           0.0   \n",
       "33193            0.0            0.0            0.0           0.0   \n",
       "33209            2.0            0.0            0.0           0.0   \n",
       "33214            0.0            0.0            0.0           0.0   \n",
       "33219            0.0            0.0            0.0           0.0   \n",
       "\n",
       "       R-HSA-1640170  R-HSA-1643685  ...  R-HSA-69306  R-HSA-73894  \\\n",
       "0                0.0            0.0  ...          0.0          0.0   \n",
       "2                0.0            0.0  ...          0.0          0.0   \n",
       "36               0.0            0.0  ...          0.0          0.0   \n",
       "37               0.0            0.0  ...          0.0          0.0   \n",
       "46               0.0            0.0  ...          0.0          0.0   \n",
       "...              ...            ...  ...          ...          ...   \n",
       "33188            0.0            0.0  ...          0.0          0.0   \n",
       "33193            0.0            0.0  ...          0.0          0.0   \n",
       "33209            0.0            0.0  ...          0.0          0.0   \n",
       "33214            0.0            0.0  ...          0.0          0.0   \n",
       "33219            0.0            0.0  ...          3.0          0.0   \n",
       "\n",
       "       R-HSA-74160  R-HSA-8953854  R-HSA-8953897  R-HSA-8963743  \\\n",
       "0              0.0            0.0            0.0            0.0   \n",
       "2              0.0            0.0            0.0            0.0   \n",
       "36             0.0            0.0            0.0            0.0   \n",
       "37             0.0            0.0            0.0            0.0   \n",
       "46             0.0            0.0            0.0            0.0   \n",
       "...            ...            ...            ...            ...   \n",
       "33188          0.0            0.0            0.0            0.0   \n",
       "33193          0.0            0.0            0.0            0.0   \n",
       "33209          0.0            0.0            0.0            0.0   \n",
       "33214          3.0            0.0            0.0            0.0   \n",
       "33219          0.0            0.0            0.0            0.0   \n",
       "\n",
       "       R-HSA-9609507  R-HSA-9612973  R-HSA-9709957  R-HSA-9748784  \n",
       "0                0.0            0.0            0.0            0.0  \n",
       "2                0.0            0.0            0.0            0.0  \n",
       "36               0.0            0.0            0.0            0.0  \n",
       "37               0.0            0.0            0.0            1.0  \n",
       "46               0.0            0.0            0.0            0.0  \n",
       "...              ...            ...            ...            ...  \n",
       "33188            0.0            0.0            0.0            0.0  \n",
       "33193            0.0            0.0            0.0            3.0  \n",
       "33209            0.0            0.0            0.0            0.0  \n",
       "33214            0.0            0.0            0.0            0.0  \n",
       "33219            0.0            0.0            0.0            0.0  \n",
       "\n",
       "[1546 rows x 29 columns]"
      ]
     },
     "execution_count": 64,
     "metadata": {},
     "output_type": "execute_result"
    }
   ],
   "source": [
    "x_re"
   ]
  },
  {
   "cell_type": "code",
   "execution_count": 65,
   "id": "3a92767b",
   "metadata": {
    "collapsed": true
   },
   "outputs": [],
   "source": [
    "y_re2=y_re2.loc[indexs]"
   ]
  },
  {
   "cell_type": "code",
   "execution_count": 5,
   "id": "c7f24ffc",
   "metadata": {
    "collapsed": true
   },
   "outputs": [
    {
     "data": {
      "text/plain": [
       "1.0    6982\n",
       "0.0    1761\n",
       "Name: phenotype, dtype: int64"
      ]
     },
     "execution_count": 5,
     "metadata": {},
     "output_type": "execute_result"
    }
   ],
   "source": [
    "y_re.value_counts()"
   ]
  },
  {
   "cell_type": "code",
   "execution_count": 18,
   "id": "a58674d7",
   "metadata": {
    "collapsed": true
   },
   "outputs": [
    {
     "name": "stdout",
     "output_type": "stream",
     "text": [
      "0.9297 0.8178\n"
     ]
    }
   ],
   "source": [
    "X_resampled, y_resampled = ada.fit_resample(x_re, y_re)\n",
    "scaler = StandardScaler()\n",
    "x_overscaled = scaler.fit_transform(X_resampled)\n",
    "\n",
    "x_overtrain_re, x_overtest_re, y_overtrain_re, y_overtest_re= train_test_split(x_overscaled, y_resampled, \n",
    "                                                            test_size = 0.2, random_state = 123)\n",
    "train_acc_before, test_acc_before = modeling_uncustomized(algorithm, \n",
    "                                                          x_overtrain_re,\n",
    "                                                          y_overtrain_re,\n",
    "                                                          x_overtest_re,\n",
    "                                                          y_overtest_re)\n",
    "print(train_acc_before,test_acc_before)"
   ]
  },
  {
   "cell_type": "code",
   "execution_count": null,
   "id": "d9135e84",
   "metadata": {
    "collapsed": true
   },
   "outputs": [],
   "source": [
    "from "
   ]
  },
  {
   "cell_type": "code",
   "execution_count": 110,
   "id": "7cf7c7e2",
   "metadata": {
    "collapsed": true
   },
   "outputs": [],
   "source": [
    "X_resampled, y_resampled = ada.fit_resample(newx, y_re)\n",
    "scaler = StandardScaler()\n",
    "x_overscaled = scaler.fit_transform(X_resampled)\n",
    "\n",
    "x_overtrain_mixed, x_overtest_mixed, y_overtrain_mixed, y_overtest_mixed= train_test_split(x_overscaled, y_resampled, \n",
    "                                                            test_size = 0.2, random_state = 123)\n",
    "train_acc_before, test_acc_before = modeling_uncustomized(algorithm, \n",
    "                                                          x_overtrain_mixed,\n",
    "                                                          y_overtrain_mixed,\n",
    "                                                          x_overtest_mixed,\n",
    "                                                          y_overtest_mixed)"
   ]
  },
  {
   "cell_type": "code",
   "execution_count": 116,
   "id": "9e12681c",
   "metadata": {
    "collapsed": true
   },
   "outputs": [
    {
     "data": {
      "text/plain": [
       "(2827, 29)"
      ]
     },
     "execution_count": 116,
     "metadata": {},
     "output_type": "execute_result"
    }
   ],
   "source": [
    "x_overtest_re.shape"
   ]
  },
  {
   "cell_type": "code",
   "execution_count": 161,
   "id": "ea58fae6",
   "metadata": {
    "collapsed": true
   },
   "outputs": [],
   "source": [
    "X_resampled, y_resampled = ada.fit_resample(x, y)\n",
    "scaler = StandardScaler()\n",
    "x_overscaled = scaler.fit_transform(X_resampled)\n",
    "\n",
    "x_overtrain_re, x_overtest_re, y_overtrain_re, y_overtest_re= train_test_split(x_overscaled, y_resampled, \n",
    "                                                            test_size = 0.2, random_state = 123)\n",
    "x_overscaled = scaler.fit_transform(X_resampled)\n",
    "train_acc_before, test_acc_before = modeling_uncustomized(algorithm, \n",
    "                                                          x_overtrain_re,\n",
    "                                                          y_overtrain_re,\n",
    "                                                          x_overtest_re,\n",
    "                                                          y_overtest_re)"
   ]
  },
  {
   "cell_type": "code",
   "execution_count": 162,
   "id": "05387417",
   "metadata": {
    "collapsed": true
   },
   "outputs": [
    {
     "name": "stdout",
     "output_type": "stream",
     "text": [
      "0.8365 0.7524\n"
     ]
    }
   ],
   "source": [
    "print(train_acc_before,test_acc_before)"
   ]
  },
  {
   "cell_type": "code",
   "execution_count": 32,
   "id": "56db95de",
   "metadata": {
    "collapsed": true
   },
   "outputs": [],
   "source": [
    "feature_name=x_re.columns"
   ]
  },
  {
   "cell_type": "code",
   "execution_count": 79,
   "id": "333e8a81",
   "metadata": {
    "collapsed": true
   },
   "outputs": [
    {
     "name": "stdout",
     "output_type": "stream",
     "text": [
      "최종 모델 저장 완료! 파일 경로: model/ASD__diagnosisrfc.pkl\n",
      "\n",
      "Accuracy: 0.801\n",
      "Precision: 0.898\n",
      "Recall: 0.671\n",
      "F1-score: 0.768\n",
      "    Feature  Importance\n",
      "309     NaN       0.015\n",
      "233     NaN       0.013\n",
      "248     NaN       0.012\n",
      "128     NaN       0.011\n",
      "315     NaN       0.011\n",
      "..      ...         ...\n",
      "111     NaN       0.000\n",
      "72      NaN       0.000\n",
      "35      NaN       0.000\n",
      "23      NaN       0.000\n",
      "73      NaN       0.000\n",
      "\n",
      "[352 rows x 2 columns]\n"
     ]
    },
    {
     "data": {
      "image/png": "[encoded data removed]",
      "text/plain": [
       "<Figure size 640x480 with 1 Axes>"
      ]
     },
     "metadata": {},
     "output_type": "display_data"
    }
   ],
   "source": [
    "pathway=pd.read_csv('data/ppipathway1.3.csv',index_col=0)\n",
    "ada = ADASYN()\n",
    "x = pathway[pathway.columns.difference(['phenotype'])]\n",
    "y = pathway['phenotype']\n",
    "X_resampled, y_resampled = ada.fit_resample(x, y)\n",
    "scaler = StandardScaler()\n",
    "x_overscaled_kegg = scaler.fit_transform(X_resampled)\n",
    "x_overtrain, x_overtest, y_overtrain, y_overtest = train_test_split(x_overscaled_kegg, y_resampled, \n",
    "                                                    test_size = 0.2, random_state = 123)\n",
    "dt_importance=pd.DataFrame()\n",
    "model_final(algorithm, algorithm_name, '',\n",
    "            x_overtrain, y_overtrain, x_overtest, y_overtest,\n",
    "            n_estimator, n_depth, n_split, n_leaf)"
   ]
  },
  {
   "cell_type": "code",
   "execution_count": 43,
   "id": "ac748baa",
   "metadata": {
    "collapsed": true
   },
   "outputs": [
    {
     "name": "stderr",
     "output_type": "stream",
     "text": [
      "/Users/cjh/opt/anaconda3/lib/python3.9/site-packages/sklearn/manifold/_t_sne.py:780: FutureWarning: The default initialization in TSNE will change from 'random' to 'pca' in 1.2.\n",
      "  warnings.warn(\n",
      "/Users/cjh/opt/anaconda3/lib/python3.9/site-packages/sklearn/manifold/_t_sne.py:790: FutureWarning: The default learning rate in TSNE will change from 200.0 to 'auto' in 1.2.\n",
      "  warnings.warn(\n"
     ]
    }
   ],
   "source": [
    "from sklearn.manifold import TSNE\n",
    "\n",
    "import matplotlib.pyplot as plt\n",
    "\n",
    "# class target 정보 제외\n",
    "train_df = x\n",
    "\n",
    "# 2차원 t-SNE 임베딩\n",
    "tsne_np = TSNE(n_components = 2).fit_transform(train_df)\n",
    "\n",
    "tsne_df = pd.DataFrame(tsne_np, columns = ['component 0', 'component 1'])\n"
   ]
  },
  {
   "cell_type": "code",
   "execution_count": 49,
   "id": "706bfd4a",
   "metadata": {
    "collapsed": true
   },
   "outputs": [
    {
     "data": {
      "image/png": "[encoded data removed]",
      "text/plain": [
       "<Figure size 640x480 with 1 Axes>"
      ]
     },
     "metadata": {},
     "output_type": "display_data"
    }
   ],
   "source": [
    "# numpy array -> DataFrame 변환\n",
    "\n",
    "\n",
    "# class target 정보 불러오기 \n",
    "tsne_df['phenotype'] = pathway['phenotype']\n",
    "\n",
    "# target 별 분리\n",
    "tsne_df_0 = tsne_df[tsne_df['phenotype'] == 0]\n",
    "tsne_df_1 = tsne_df[tsne_df['phenotype'] == 1]\n",
    "\n",
    "# target 별 시각화\n",
    "plt.scatter(tsne_df_0['component 0'], tsne_df_0['component 1'], color = 'pink', label = 'control',s=4)\n",
    "plt.scatter(tsne_df_1['component 0'], tsne_df_1['component 1'], color = 'blue', label = 'ASD',s=1)\n",
    "\n",
    "plt.xlabel('component 0')\n",
    "plt.ylabel('component 1')\n",
    "plt.legend()\n",
    "plt.show()"
   ]
  },
  {
   "cell_type": "code",
   "execution_count": 28,
   "id": "0703338b",
   "metadata": {
    "collapsed": true
   },
   "outputs": [
    {
     "name": "stderr",
     "output_type": "stream",
     "text": [
      "/Users/cjh/opt/anaconda3/lib/python3.9/site-packages/sklearn/manifold/_t_sne.py:780: FutureWarning: The default initialization in TSNE will change from 'random' to 'pca' in 1.2.\n",
      "  warnings.warn(\n",
      "/Users/cjh/opt/anaconda3/lib/python3.9/site-packages/sklearn/manifold/_t_sne.py:790: FutureWarning: The default learning rate in TSNE will change from 200.0 to 'auto' in 1.2.\n",
      "  warnings.warn(\n"
     ]
    }
   ],
   "source": [
    "from sklearn.manifold import TSNE\n",
    "\n",
    "import matplotlib.pyplot as plt\n",
    "\n",
    "# class target 정보 제외\n",
    "train_df = x\n",
    "\n",
    "# 2차원 t-SNE 임베딩\n",
    "tsne_np = TSNE(n_components = 2).fit_transform(train_df)\n",
    "\n",
    "tsne_df = pd.DataFrame(tsne_np, columns = ['component 0', 'component 1'])"
   ]
  },
  {
   "cell_type": "code",
   "execution_count": 29,
   "id": "9d5c613e",
   "metadata": {
    "collapsed": true
   },
   "outputs": [],
   "source": [
    "tsne_df = pd.DataFrame(tsne_np, columns = ['component 0', 'component 1'])"
   ]
  },
  {
   "cell_type": "code",
   "execution_count": 30,
   "id": "fc3895ef",
   "metadata": {
    "collapsed": true
   },
   "outputs": [
    {
     "data": {
      "image/png": "[encoded data removed]",
      "text/plain": [
       "<Figure size 640x480 with 1 Axes>"
      ]
     },
     "metadata": {},
     "output_type": "display_data"
    }
   ],
   "source": [
    "# numpy array -> DataFrame 변환\n",
    "\n",
    "\n",
    "# class target 정보 불러오기 \n",
    "tsne_df['phenotype'] = pathway['phenotype']\n",
    "\n",
    "# target 별 분리\n",
    "tsne_df_0 = tsne_df[tsne_df['phenotype'] == 0]\n",
    "tsne_df_1 = tsne_df[tsne_df['phenotype'] == 1]\n",
    "\n",
    "# target 별 시각화\n",
    "plt.scatter(tsne_df_0['component 0'], tsne_df_0['component 1'], color = 'pink', label = 'control',s=4)\n",
    "plt.scatter(tsne_df_1['component 0'], tsne_df_1['component 1'], color = 'blue', label = 'ASD',s=1)\n",
    "\n",
    "plt.xlabel('component 0')\n",
    "plt.ylabel('component 1')\n",
    "plt.legend()\n",
    "plt.show()"
   ]
  },
  {
   "cell_type": "code",
   "execution_count": 56,
   "id": "af32f545",
   "metadata": {
    "collapsed": true
   },
   "outputs": [
    {
     "name": "stdout",
     "output_type": "stream",
     "text": [
      "0.8181818181818182\n"
     ]
    }
   ],
   "source": [
    "xgboost = xgb.XGBClassifier(booster='gbtree')\n",
    "xgboost.fit(x_overtrain_re, y_overtrain_re)\n",
    "prediction = xgboost.predict(x_overtest_re)\n",
    "print((prediction == y_overtest_re).mean())\n"
   ]
  },
  {
   "cell_type": "code",
   "execution_count": 58,
   "id": "5407bf9e",
   "metadata": {
    "collapsed": true
   },
   "outputs": [
    {
     "name": "stdout",
     "output_type": "stream",
     "text": [
      "0.8178280863105766\n"
     ]
    }
   ],
   "source": [
    "Random = RFC(random_state=613)\n",
    "Random.fit(x_overtrain_re, y_overtrain_re)\n",
    "prediction2 = Random.predict(x_overtest_re)\n",
    "print((prediction2 == y_overtest_re).mean())"
   ]
  },
  {
   "cell_type": "code",
   "execution_count": 195,
   "id": "ec420204",
   "metadata": {
    "collapsed": true
   },
   "outputs": [
    {
     "name": "stderr",
     "output_type": "stream",
     "text": [
      "/var/folders/cn/cfs3s7gn76b7lv5q1ghlym9r0000gn/T/ipykernel_19534/1412830368.py:1: DeprecationWarning: elementwise comparison failed; this will raise an error in the future.\n",
      "  print((prediction3 == y_overtest_re).mean())\n"
     ]
    },
    {
     "ename": "ValueError",
     "evalue": "('Lengths must match to compare', (2763,), (2827,))",
     "output_type": "error",
     "traceback": [
      "\u001b[0;31m---------------------------------------------------------------------------\u001b[0m",
      "\u001b[0;31mValueError\u001b[0m                                Traceback (most recent call last)",
      "\u001b[0;32m/var/folders/cn/cfs3s7gn76b7lv5q1ghlym9r0000gn/T/ipykernel_19534/1412830368.py\u001b[0m in \u001b[0;36m<module>\u001b[0;34m\u001b[0m\n\u001b[0;32m----> 1\u001b[0;31m \u001b[0mprint\u001b[0m\u001b[0;34m(\u001b[0m\u001b[0;34m(\u001b[0m\u001b[0mprediction3\u001b[0m \u001b[0;34m==\u001b[0m \u001b[0my_overtest_re\u001b[0m\u001b[0;34m)\u001b[0m\u001b[0;34m.\u001b[0m\u001b[0mmean\u001b[0m\u001b[0;34m(\u001b[0m\u001b[0;34m)\u001b[0m\u001b[0;34m)\u001b[0m\u001b[0;34m\u001b[0m\u001b[0;34m\u001b[0m\u001b[0m\n\u001b[0m",
      "\u001b[0;32m~/opt/anaconda3/lib/python3.9/site-packages/pandas/core/ops/common.py\u001b[0m in \u001b[0;36mnew_method\u001b[0;34m(self, other)\u001b[0m\n\u001b[1;32m     68\u001b[0m         \u001b[0mother\u001b[0m \u001b[0;34m=\u001b[0m \u001b[0mitem_from_zerodim\u001b[0m\u001b[0;34m(\u001b[0m\u001b[0mother\u001b[0m\u001b[0;34m)\u001b[0m\u001b[0;34m\u001b[0m\u001b[0;34m\u001b[0m\u001b[0m\n\u001b[1;32m     69\u001b[0m \u001b[0;34m\u001b[0m\u001b[0m\n\u001b[0;32m---> 70\u001b[0;31m         \u001b[0;32mreturn\u001b[0m \u001b[0mmethod\u001b[0m\u001b[0;34m(\u001b[0m\u001b[0mself\u001b[0m\u001b[0;34m,\u001b[0m \u001b[0mother\u001b[0m\u001b[0;34m)\u001b[0m\u001b[0;34m\u001b[0m\u001b[0;34m\u001b[0m\u001b[0m\n\u001b[0m\u001b[1;32m     71\u001b[0m \u001b[0;34m\u001b[0m\u001b[0m\n\u001b[1;32m     72\u001b[0m     \u001b[0;32mreturn\u001b[0m \u001b[0mnew_method\u001b[0m\u001b[0;34m\u001b[0m\u001b[0;34m\u001b[0m\u001b[0m\n",
      "\u001b[0;32m~/opt/anaconda3/lib/python3.9/site-packages/pandas/core/arraylike.py\u001b[0m in \u001b[0;36m__eq__\u001b[0;34m(self, other)\u001b[0m\n\u001b[1;32m     38\u001b[0m     \u001b[0;34m@\u001b[0m\u001b[0munpack_zerodim_and_defer\u001b[0m\u001b[0;34m(\u001b[0m\u001b[0;34m\"__eq__\"\u001b[0m\u001b[0;34m)\u001b[0m\u001b[0;34m\u001b[0m\u001b[0;34m\u001b[0m\u001b[0m\n\u001b[1;32m     39\u001b[0m     \u001b[0;32mdef\u001b[0m \u001b[0m__eq__\u001b[0m\u001b[0;34m(\u001b[0m\u001b[0mself\u001b[0m\u001b[0;34m,\u001b[0m \u001b[0mother\u001b[0m\u001b[0;34m)\u001b[0m\u001b[0;34m:\u001b[0m\u001b[0;34m\u001b[0m\u001b[0;34m\u001b[0m\u001b[0m\n\u001b[0;32m---> 40\u001b[0;31m         \u001b[0;32mreturn\u001b[0m \u001b[0mself\u001b[0m\u001b[0;34m.\u001b[0m\u001b[0m_cmp_method\u001b[0m\u001b[0;34m(\u001b[0m\u001b[0mother\u001b[0m\u001b[0;34m,\u001b[0m \u001b[0moperator\u001b[0m\u001b[0;34m.\u001b[0m\u001b[0meq\u001b[0m\u001b[0;34m)\u001b[0m\u001b[0;34m\u001b[0m\u001b[0;34m\u001b[0m\u001b[0m\n\u001b[0m\u001b[1;32m     41\u001b[0m \u001b[0;34m\u001b[0m\u001b[0m\n\u001b[1;32m     42\u001b[0m     \u001b[0;34m@\u001b[0m\u001b[0munpack_zerodim_and_defer\u001b[0m\u001b[0;34m(\u001b[0m\u001b[0;34m\"__ne__\"\u001b[0m\u001b[0;34m)\u001b[0m\u001b[0;34m\u001b[0m\u001b[0;34m\u001b[0m\u001b[0m\n",
      "\u001b[0;32m~/opt/anaconda3/lib/python3.9/site-packages/pandas/core/series.py\u001b[0m in \u001b[0;36m_cmp_method\u001b[0;34m(self, other, op)\u001b[0m\n\u001b[1;32m   5621\u001b[0m \u001b[0;34m\u001b[0m\u001b[0m\n\u001b[1;32m   5622\u001b[0m         \u001b[0;32mwith\u001b[0m \u001b[0mnp\u001b[0m\u001b[0;34m.\u001b[0m\u001b[0merrstate\u001b[0m\u001b[0;34m(\u001b[0m\u001b[0mall\u001b[0m\u001b[0;34m=\u001b[0m\u001b[0;34m\"ignore\"\u001b[0m\u001b[0;34m)\u001b[0m\u001b[0;34m:\u001b[0m\u001b[0;34m\u001b[0m\u001b[0;34m\u001b[0m\u001b[0m\n\u001b[0;32m-> 5623\u001b[0;31m             \u001b[0mres_values\u001b[0m \u001b[0;34m=\u001b[0m \u001b[0mops\u001b[0m\u001b[0;34m.\u001b[0m\u001b[0mcomparison_op\u001b[0m\u001b[0;34m(\u001b[0m\u001b[0mlvalues\u001b[0m\u001b[0;34m,\u001b[0m \u001b[0mrvalues\u001b[0m\u001b[0;34m,\u001b[0m \u001b[0mop\u001b[0m\u001b[0;34m)\u001b[0m\u001b[0;34m\u001b[0m\u001b[0;34m\u001b[0m\u001b[0m\n\u001b[0m\u001b[1;32m   5624\u001b[0m \u001b[0;34m\u001b[0m\u001b[0m\n\u001b[1;32m   5625\u001b[0m         \u001b[0;32mreturn\u001b[0m \u001b[0mself\u001b[0m\u001b[0;34m.\u001b[0m\u001b[0m_construct_result\u001b[0m\u001b[0;34m(\u001b[0m\u001b[0mres_values\u001b[0m\u001b[0;34m,\u001b[0m \u001b[0mname\u001b[0m\u001b[0;34m=\u001b[0m\u001b[0mres_name\u001b[0m\u001b[0;34m)\u001b[0m\u001b[0;34m\u001b[0m\u001b[0;34m\u001b[0m\u001b[0m\n",
      "\u001b[0;32m~/opt/anaconda3/lib/python3.9/site-packages/pandas/core/ops/array_ops.py\u001b[0m in \u001b[0;36mcomparison_op\u001b[0;34m(left, right, op)\u001b[0m\n\u001b[1;32m    258\u001b[0m         \u001b[0;31m#  The ambiguous case is object-dtype.  See GH#27803\u001b[0m\u001b[0;34m\u001b[0m\u001b[0;34m\u001b[0m\u001b[0m\n\u001b[1;32m    259\u001b[0m         \u001b[0;32mif\u001b[0m \u001b[0mlen\u001b[0m\u001b[0;34m(\u001b[0m\u001b[0mlvalues\u001b[0m\u001b[0;34m)\u001b[0m \u001b[0;34m!=\u001b[0m \u001b[0mlen\u001b[0m\u001b[0;34m(\u001b[0m\u001b[0mrvalues\u001b[0m\u001b[0;34m)\u001b[0m\u001b[0;34m:\u001b[0m\u001b[0;34m\u001b[0m\u001b[0;34m\u001b[0m\u001b[0m\n\u001b[0;32m--> 260\u001b[0;31m             raise ValueError(\n\u001b[0m\u001b[1;32m    261\u001b[0m                 \u001b[0;34m\"Lengths must match to compare\"\u001b[0m\u001b[0;34m,\u001b[0m \u001b[0mlvalues\u001b[0m\u001b[0;34m.\u001b[0m\u001b[0mshape\u001b[0m\u001b[0;34m,\u001b[0m \u001b[0mrvalues\u001b[0m\u001b[0;34m.\u001b[0m\u001b[0mshape\u001b[0m\u001b[0;34m\u001b[0m\u001b[0;34m\u001b[0m\u001b[0m\n\u001b[1;32m    262\u001b[0m             )\n",
      "\u001b[0;31mValueError\u001b[0m: ('Lengths must match to compare', (2763,), (2827,))"
     ]
    }
   ],
   "source": [
    "print((prediction3 == y_overtest_re).mean())"
   ]
  },
  {
   "cell_type": "code",
   "execution_count": 62,
   "id": "5a478652",
   "metadata": {
    "collapsed": true
   },
   "outputs": [],
   "source": [
    "prediction3=np.logical_or(prediction,prediction2)"
   ]
  },
  {
   "cell_type": "code",
   "execution_count": 64,
   "id": "fb2c2603",
   "metadata": {
    "collapsed": true
   },
   "outputs": [
    {
     "name": "stdout",
     "output_type": "stream",
     "text": [
      "0.8118146444994694\n"
     ]
    }
   ],
   "source": [
    "prediction4=np.logical_and(prediction,prediction2)\n",
    "print((prediction4 == y_overtest_re).mean())"
   ]
  },
  {
   "cell_type": "code",
   "execution_count": 19,
   "id": "f4d85128",
   "metadata": {
    "collapsed": true
   },
   "outputs": [],
   "source": [
    "n_leaf=1\n",
    "n_split=4\n",
    "n_depth=None\n",
    "n_estimator=130"
   ]
  },
  {
   "cell_type": "code",
   "execution_count": 22,
   "id": "a630fe60",
   "metadata": {
    "collapsed": true
   },
   "outputs": [
    {
     "data": {
      "text/plain": [
       "RandomForestClassifier(min_samples_split=4, n_estimators=130, random_state=1234)"
      ]
     },
     "execution_count": 22,
     "metadata": {},
     "output_type": "execute_result"
    }
   ],
   "source": [
    "model = algorithm(random_state = 1234, \n",
    "                      n_estimators = n_estimator, \n",
    "                      min_samples_leaf = n_leaf,\n",
    "                      min_samples_split = n_split, \n",
    "                      max_depth = n_depth)\n",
    "model2 = algorithm(random_state = 1234, \n",
    "                      n_estimators = n_estimator, \n",
    "                      min_samples_leaf = n_leaf,\n",
    "                      min_samples_split = n_split, \n",
    "                      max_depth = n_depth)\n",
    "\n",
    "# 모델 학습\n",
    "model.fit(x_overtrain_re, y_overtrain_re)\n",
    "\n"
   ]
  },
  {
   "cell_type": "code",
   "execution_count": null,
   "id": "8f247fc6",
   "metadata": {
    "collapsed": true
   },
   "outputs": [],
   "source": [
    "model = algorithm(random_state = 1234, \n",
    "                      n_estimators = n_estimator, \n",
    "                      min_samples_leaf = n_leaf,\n",
    "                      min_samples_split = n_split, \n",
    "                      max_depth = n_depth)\n",
    "model2 = algorithm(random_state = 1234, \n",
    "                      n_estimators = n_estimator, \n",
    "                      min_samples_leaf = n_leaf,\n",
    "                      min_samples_split = n_split, \n",
    "                      max_depth = n_depth)\n"
   ]
  },
  {
   "cell_type": "code",
   "execution_count": 27,
   "id": "acc91900",
   "metadata": {
    "collapsed": true
   },
   "outputs": [
    {
     "name": "stdout",
     "output_type": "stream",
     "text": [
      "0.8211762467073306\n"
     ]
    }
   ],
   "source": [
    "from sklearn.metrics import roc_auc_score\n",
    "y_pred=model.predict(x_overtest_re)\n",
    "\n",
    "score=roc_auc_score(y_overtest_re,y_pred)\n",
    "print(score)"
   ]
  },
  {
   "cell_type": "code",
   "execution_count": 194,
   "id": "a4ed04b3",
   "metadata": {
    "collapsed": true
   },
   "outputs": [
    {
     "name": "stdout",
     "output_type": "stream",
     "text": [
      "Accuracy: 0.752\n",
      "Precision: 0.828\n",
      "Recall: 0.640\n",
      "F1-score: 0.722\n",
      "Accuracy: 0.820\n",
      "Precision: 0.870\n",
      "Recall: 0.754\n",
      "F1-score: 0.808\n",
      "Accuracy: 0.815\n",
      "Precision: 0.813\n",
      "Recall: 0.822\n",
      "F1-score: 0.817\n",
      "Accuracy: 0.756\n",
      "Precision: 0.910\n",
      "Recall: 0.571\n",
      "F1-score: 0.702\n"
     ]
    }
   ],
   "source": [
    "y_pred = model2.predict(x_test_kegg)\n",
    "y_pred_re = model.predict(x_test_re)\n",
    "y_pred3=np.logical_or(y_pred,y_pred_re)\n",
    "y_pred4=np.logical_and(y_pred,y_pred_re)\n",
    "print(f\"Accuracy: {accuracy_score(y_test, y_pred):.3f}\") # 정확도\n",
    "print(f\"Precision: {precision_score(y_test, y_pred):.3f}\") # 정밀도\n",
    "print(f\"Recall: {recall_score(y_test, y_pred):.3f}\") # 재현율\n",
    "print(f\"F1-score: {f1_score(y_test, y_pred):.3f}\") # F1 스코어\n",
    "print(f\"Accuracy: {accuracy_score(y_test, y_pred_re):.3f}\") # 정확도\n",
    "print(f\"Precision: {precision_score(y_test, y_pred_re):.3f}\") # 정밀도\n",
    "print(f\"Recall: {recall_score(y_test, y_pred_re):.3f}\") # 재현율\n",
    "print(f\"F1-score: {f1_score(y_test, y_pred_re):.3f}\") # F1 스코어\n",
    "print(f\"Accuracy: {accuracy_score(y_test, y_pred3):.3f}\") # 정확도\n",
    "print(f\"Precision: {precision_score(y_test, y_pred3):.3f}\") # 정밀도\n",
    "print(f\"Recall: {recall_score(y_test, y_pred3):.3f}\") # 재현율\n",
    "print(f\"F1-score: {f1_score(y_test, y_pred3):.3f}\") # F1 스코어\n",
    "print(f\"Accuracy: {accuracy_score(y_test, y_pred4):.3f}\") # 정확도\n",
    "print(f\"Precision: {precision_score(y_test, y_pred4):.3f}\") # 정밀도\n",
    "print(f\"Recall: {recall_score(y_test, y_pred4):.3f}\") # 재현율\n",
    "print(f\"F1-score: {f1_score(y_test, y_pred4):.3f}\") # F1 스코어"
   ]
  },
  {
   "cell_type": "code",
   "execution_count": 108,
   "id": "ed74890b",
   "metadata": {
    "collapsed": true
   },
   "outputs": [
    {
     "ename": "NameError",
     "evalue": "name 'y_overtest_mixed' is not defined",
     "output_type": "error",
     "traceback": [
      "\u001b[0;31m---------------------------------------------------------------------------\u001b[0m",
      "\u001b[0;31mNameError\u001b[0m                                 Traceback (most recent call last)",
      "\u001b[0;32m/var/folders/cn/cfs3s7gn76b7lv5q1ghlym9r0000gn/T/ipykernel_19534/790365513.py\u001b[0m in \u001b[0;36m<module>\u001b[0;34m\u001b[0m\n\u001b[1;32m      1\u001b[0m \u001b[0;31m# 최종 모델의 성능 평가\u001b[0m\u001b[0;34m\u001b[0m\u001b[0;34m\u001b[0m\u001b[0m\n\u001b[0;32m----> 2\u001b[0;31m \u001b[0my_test\u001b[0m\u001b[0;34m=\u001b[0m\u001b[0my_overtest_mixed\u001b[0m\u001b[0;34m\u001b[0m\u001b[0;34m\u001b[0m\u001b[0m\n\u001b[0m\u001b[1;32m      3\u001b[0m \u001b[0my_pred\u001b[0m \u001b[0;34m=\u001b[0m \u001b[0mmodel\u001b[0m\u001b[0;34m.\u001b[0m\u001b[0mpredict\u001b[0m\u001b[0;34m(\u001b[0m\u001b[0mx_overtest\u001b[0m\u001b[0;34m)\u001b[0m\u001b[0;34m\u001b[0m\u001b[0;34m\u001b[0m\u001b[0m\n\u001b[1;32m      4\u001b[0m \u001b[0my_pred_re\u001b[0m \u001b[0;34m=\u001b[0m \u001b[0mmodel2\u001b[0m\u001b[0;34m.\u001b[0m\u001b[0mpredict\u001b[0m\u001b[0;34m(\u001b[0m\u001b[0mx_overtest_re\u001b[0m\u001b[0;34m)\u001b[0m\u001b[0;34m\u001b[0m\u001b[0;34m\u001b[0m\u001b[0m\n\u001b[1;32m      5\u001b[0m \u001b[0my_pred3\u001b[0m\u001b[0;34m=\u001b[0m\u001b[0mmodel3\u001b[0m\u001b[0;34m.\u001b[0m\u001b[0mpredict\u001b[0m\u001b[0;34m(\u001b[0m\u001b[0mx_overtest_mixed\u001b[0m\u001b[0;34m)\u001b[0m\u001b[0;34m\u001b[0m\u001b[0;34m\u001b[0m\u001b[0m\n",
      "\u001b[0;31mNameError\u001b[0m: name 'y_overtest_mixed' is not defined"
     ]
    }
   ],
   "source": [
    "# 최종 모델의 성능 평가\n",
    "y_test=y_overtest_mixed\n",
    "y_pred = model.predict(x_overtest)\n",
    "y_pred_re = model2.predict(x_overtest_re)\n",
    "y_pred3=model3.predict(x_overtest_mixed)\n",
    "print(f\"Accuracy: {accuracy_score(y_overtest, y_pred):.3f}\") # 정확도\n",
    "print(f\"Precision: {precision_score(y_overtest, y_pred):.3f}\") # 정밀도\n",
    "print(f\"Recall: {recall_score(y_test, y_pred):.3f}\") # 재현율\n",
    "print(f\"F1-score: {f1_score(y_test, y_pred):.3f}\") # F1 스코어\n",
    "print(f\"Accuracy: {accuracy_score(y_test, y_pred_re):.3f}\") # 정확도\n",
    "print(f\"Precision: {precision_score(y_test, y_pred_Re):.3f}\") # 정밀도\n",
    "print(f\"Recall: {recall_score(y_test, y_pred_re):.3f}\") # 재현율\n",
    "print(f\"F1-score: {f1_score(y_test, y_pred_re):.3f}\") # F1 스코어\n",
    "print(f\"Accuracy: {accuracy_score(y_test, y_pred3):.3f}\") # 정확도\n",
    "print(f\"Precision: {precision_score(y_test, y_pred3):.3f}\") # 정밀도\n",
    "print(f\"Recall: {recall_score(y_test, y_pred3):.3f}\") # 재현율\n",
    "print(f\"F1-score: {f1_score(y_test, y_pred3):.3f}\") # F1 스코어"
   ]
  },
  {
   "cell_type": "code",
   "execution_count": 211,
   "id": "a5b21a62",
   "metadata": {
    "collapsed": true
   },
   "outputs": [],
   "source": [
    "y_pre = model2.predict(x_test_kegg)\n",
    "y_pred = model2.predict_proba(x_test_kegg)\n",
    "y_pred2= model.predict_proba(x_test_re)"
   ]
  },
  {
   "cell_type": "code",
   "execution_count": 212,
   "id": "41c922ac",
   "metadata": {
    "collapsed": true
   },
   "outputs": [
    {
     "data": {
      "text/plain": [
       "array([0., 0., 0., ..., 0., 0., 0.])"
      ]
     },
     "execution_count": 212,
     "metadata": {},
     "output_type": "execute_result"
    }
   ],
   "source": [
    "y_pre"
   ]
  },
  {
   "cell_type": "code",
   "execution_count": 214,
   "id": "ce57c8ab",
   "metadata": {
    "collapsed": true
   },
   "outputs": [],
   "source": [
    "final_predict=[]\n",
    "for idx in range(2763):\n",
    "    if y_pred3[idx][0]>=y_pred3[idx][1]:\n",
    "        final_predict.append(0)\n",
    "    else:\n",
    "        final_predict.append(1)\n",
    "    "
   ]
  },
  {
   "cell_type": "code",
   "execution_count": 217,
   "id": "0445238e",
   "metadata": {
    "collapsed": true
   },
   "outputs": [
    {
     "name": "stdout",
     "output_type": "stream",
     "text": [
      "Accuracy: 0.819\n",
      "Precision: 0.857\n",
      "Recall: 0.767\n",
      "F1-score: 0.809\n"
     ]
    }
   ],
   "source": [
    "print(f\"Accuracy: {accuracy_score(y_test, final_predict):.3f}\") # 정확도\n",
    "print(f\"Precision: {precision_score(y_test, final_predict):.3f}\") # 정밀도\n",
    "print(f\"Recall: {recall_score(y_test, final_predict):.3f}\") # 재현율\n",
    "print(f\"F1-score: {f1_score(y_test, final_predict):.3f}\") # F1 스코어"
   ]
  },
  {
   "cell_type": "code",
   "execution_count": null,
   "id": "e8d4d99d",
   "metadata": {
    "collapsed": true
   },
   "outputs": [],
   "source": [
    "275  hsa05022       0.017\n",
    "310  hsa05200       0.015\n"
   ]
  },
  {
   "cell_type": "code",
   "execution_count": 63,
   "id": "39d8e505",
   "metadata": {},
   "outputs": [
    {
     "name": "stderr",
     "output_type": "stream",
     "text": [
      "/var/folders/cn/cfs3s7gn76b7lv5q1ghlym9r0000gn/T/ipykernel_63148/1579714988.py:2: MatplotlibDeprecationWarning: Calling gca() with keyword arguments was deprecated in Matplotlib 3.4. Starting two minor releases later, gca() will take no keyword arguments. The gca() function should only be used to get the current axes, or if no axes exist, create new axes with default keyword arguments. To create a new axes with non-default arguments, use plt.axes() or plt.subplot().\n",
      "  ax = fig.gca(projection='3d')\n"
     ]
    },
    {
     "data": {
      "image/png": "[encoded data removed]",
      "text/plain": [
       "<Figure size 500x500 with 1 Axes>"
      ]
     },
     "metadata": {},
     "output_type": "display_data"
    }
   ],
   "source": [
    "fig = plt.figure(figsize=(5, 5))\n"
   ]
  },
  {
   "cell_type": "code",
   "execution_count": 79,
   "id": "ffa0d73c",
   "metadata": {},
   "outputs": [
    {
     "data": {
      "text/plain": [
       "<mpl_toolkits.mplot3d.art3d.Path3DCollection at 0x7fa86ac70fa0>"
      ]
     },
     "execution_count": 79,
     "metadata": {},
     "output_type": "execute_result"
    },
    {
     "data": {
      "image/png": "[encoded data removed]",
      "text/plain": [
       "<Figure size 600x600 with 1 Axes>"
      ]
     },
     "metadata": {},
     "output_type": "display_data"
    }
   ],
   "source": [
    "fig = plt.figure(figsize=(6, 6))\n",
    "ax = fig.add_subplot(111, projection='3d')\n",
    "tsne_df_0 = pathway[pathway['phenotype'] == 0]\n",
    "tsne_df_1 = pathway[pathway['phenotype'] == 1]\n",
    "ax.scatter(tsne_df_0['hsa05022'], tsne_df_0['hsa05200'],tsne_df_0['hsa05418'], color = 'pink', label = 'control',s=10)\n",
    "ax.scatter(tsne_df_1['hsa05022'], tsne_df_1['hsa05200'],tsne_df_1['hsa05418'], color = 'blue', label = 'ASD',s=1)\n",
    "\n"
   ]
  },
  {
   "cell_type": "code",
   "execution_count": null,
   "id": "317a0e31",
   "metadata": {
    "collapsed": true
   },
   "outputs": [],
   "source": []
  }
 ],
 "metadata": {
  "kernelspec": {
   "display_name": "Python 3 (ipykernel)",
   "language": "python",
   "name": "python3"
  },
  "language_info": {
   "codemirror_mode": {
    "name": "ipython",
    "version": 3
   },
   "file_extension": ".py",
   "mimetype": "text/x-python",
   "name": "python",
   "nbconvert_exporter": "python",
   "pygments_lexer": "ipython3",
   "version": "3.9.13"
  }
 },
 "nbformat": 4,
 "nbformat_minor": 5
}
